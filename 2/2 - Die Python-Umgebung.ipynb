{
 "cells": [
  {
   "cell_type": "markdown",
   "metadata": {},
   "source": [
    "_Einführung in Python, Clemens Brunner, 17.3.2016_\n",
    "\n",
    "# 2 - Die Python-Umgebung"
   ]
  },
  {
   "cell_type": "markdown",
   "metadata": {},
   "source": [
    "## Aufbau von Python\n",
    "Python besteht aus der Programmiersprache Python, einem Interpreter (welcher Python-Programme ausführen kann), und einer umfangreichen [Standardbibliothek](https://docs.python.org/3/library/). Python selbst bringt nur sehr grundlegende Befehle mit, wie z.B. `for`-Schleifen, `if`-Abfragen und andere fest eingebaute Funktionen.\n",
    "\n",
    "Darüber hinaus finden sich sehr viele Funktionen in der Standardbibliothek. Diese wird standardmäßig mit Python mitgeliefert und deckt unter anderem Gebiete wie Ein-/Ausgabe, Manipulation von regulären Ausdrücken, erweiterte Datentypen, mathematische Funktionen, Internetprotokolle, und grafische Benutzerschnittstellen ab.\n",
    "\n",
    "Schließlich gibt es noch tausende Python-Pakete, die sehr einfach zu einer existierenden Python-Umgebung hinzugefügt werden können. Der [Python Package Index (PyPI)](https://pypi.python.org/pypi) sammelt alle verfügbaren Pakete an einer zentralen Stelle.\n",
    "\n",
    "![](python_blocks.png)"
   ]
  },
  {
   "cell_type": "markdown",
   "metadata": {},
   "source": [
    "## Anaconda\n",
    "Wie bereits in der ersten Einheit erwähnt, handelt es sich bei [Anaconda Python](https://www.continuum.io/downloads) um eine einfach zu installierende und einfach zu wartende Python-Umgebung. Neben Python selbst beinhaltet Anaconda Python auch eine große Anzahl an getesteten zusätzlichen Paketen.\n",
    "\n",
    "Manchmal ist es aber notwendig, ein zusätzliches Python-Paket zu installieren, welches nicht standardmäßig in einer Anaconda-Installation enthalten ist. Außerdem sollte Anaconda (wie jede Python-Umgebung) regelmäßig gewartet werden, d.h. veraltete Pakete sollten aktualisiert werden. Auch wenn eine neue Python-Version erscheint, sollte man diese in aller Regel verwenden, d.h. man muss die bestehende Version aktualisieren.\n",
    "\n",
    "### conda\n",
    "All diese Tätigkeiten lassen sich mit den in Anaconda vorhandenen Werkzeugen durchführen. Dazu steht das Kommandozeilenprogramm `conda` zur Verfügung. Um es zu verwenden, muss eine Kommandozeile (oft auch Eingabeaufforderung oder Terminal genannt) geöffnet werden. Dies ist ja nach Betriebssystem leicht unterschiedlich:\n",
    "\n",
    "- Unter Windows gibt es im Startmenü einen Eintrag im Anaconda-Ordner namens \"Anaconda Prompt\". Dabei handelt es sich um eine normale Eingabeaufforderung, die jedoch den `conda`-Befehl kennt.\n",
    "- Unter Mac OS X startet man das Programm \"Terminal\"\n",
    "- Unter Linux startet man ebenfalls ein Terminal\n",
    "\n",
    "In diesem Terminal-Fenster kann man nun Befehle eintippen. Um zu testen, ob `conda` funktioniert und welche Version installiert ist, gibt man folgenden Befehl ein:\n",
    "\n",
    "    conda --version\n",
    "\n",
    "Wenn man hier eine Versionsnummer rückgemeldet bekommt, wurde `conda` gefunden und es funktioniert alles. Um immer am aktuellsten Stand zu sein, sollte man `conda` selbst regelmäßig aktualisieren:\n",
    "\n",
    "    conda update conda\n",
    "\n",
    "Auch Anaconda (d.h. die Kombination aus Python und vielen aufeinander abgestimmten Zusatzpaketen) sollte man aktuell halten:\n",
    "\n",
    "    conda update anaconda\n",
    "\n",
    "Das `conda`-Werkzeug ist sehr mächtig und kann auch zum Verwaltenen mehrerer parallel installierter Python-Umgebungen verwendet werden. Darauf werden wir hier aber nicht eingehen; für den Anfang reicht es, wenn wir uns nur mit der Standard-Python-Umgebung beschäftigen (mehr Informationen zum Verwalten von Umgebungen gibt es in der [offiziellen conda-Dokumentation](http://conda.pydata.org/docs/using/index.html)).\n",
    "\n",
    "Eine Liste aller installierten Python-Pakete erhält man mit:\n",
    "\n",
    "    conda list\n",
    "\n",
    "Ein Paket sucht man mit:\n",
    "\n",
    "    conda search package_name\n",
    "    \n",
    "Möchte man ein neues Paket installieren, kann man dies einfach wie folgt tun:\n",
    "\n",
    "    conda install package_name\n",
    "\n",
    "Ein installiertes Paket kann man ebenso leicht wieder deinstallieren mit:\n",
    "\n",
    "    conda uninstall package_name\n",
    "\n",
    "### pip\n",
    "Verglichen mit der Anzahl an Python-Paketen auf [PyPI](https://pypi.python.org/pypi) gibt es nur relativ wenig Pakete in Anaconda. Wenn man einmal ein Paket installieren möchte, welches nicht in Anaconda verfügbar ist, kann man das mit dem Standard-Python-Tool `pip` machen. `pip` funktioniert ähnlich wie `conda`:\n",
    "\n",
    "    pip search package_name\n",
    "    pip install package_name\n",
    "    pip uninstall package_name\n",
    "\n",
    "Pakete, die in Anaconda enthalten sind, sollte man aber auf jeden Fall mit `conda` installieren."
   ]
  },
  {
   "cell_type": "markdown",
   "metadata": {},
   "source": [
    "## Python-Interpreter\n",
    "Der Python-Interpreter führt Python-Befehle aus. Er kann auf zwei unterschiedliche Arten verwendet werden:\n",
    "\n",
    "- Interaktiver Modus\n",
    "- Script-Modus\n",
    "\n",
    "Im interaktiven Modus hat man die Möglichkeit, einzelne Python-Befehle einzugeben; diese werden sofort ausgeführt. Der interaktive Modus ist daher praktisch zum Ausprobieren von Befehlen, eignet sich aber nicht zur Erstellung längerer Programme. Programme (auch Scripts genannt) sind einfache Textdateien mit der Endung .py, welche Python-Befehle enthalten (jeweils ein Befehl pro Zeile). Diese Scripts können dem Python-Interpreter übergeben werden, welcher dann das gesamte Script Zeile für Zeile ausführt.\n",
    "\n",
    "Ein wesentlicher Unterschied zwischen interaktivem und Script-Modus ist, dass nur im interaktiven Modus Werte automatisch ausgegeben werden:"
   ]
  },
  {
   "cell_type": "code",
   "execution_count": 1,
   "metadata": {
    "collapsed": false
   },
   "outputs": [
    {
     "data": {
      "text/plain": [
       "5"
      ]
     },
     "execution_count": 1,
     "metadata": {},
     "output_type": "execute_result"
    }
   ],
   "source": [
    "5"
   ]
  },
  {
   "cell_type": "markdown",
   "metadata": {},
   "source": [
    "Hier sieht man, dass nach der Eingabe der Zahl 5 der Wert dieser Zahl automatisch ausgegeben wird. In einem Script würde eine Zeile mit dem Inhalt 5 keine Ausgabe bewirken."
   ]
  },
  {
   "cell_type": "markdown",
   "metadata": {},
   "source": [
    "## Syntax\n",
    "Unter Syntax versteht man die Regeln, wie man aus grundlegenden Zeichen gültige Konstruktionen erzeugt. D.h. dass es sowohl für natürliche Sprachen (wie deutsch oder englisch) als auch für formale Sprachen (Programmiersprachen) eine entsprechende Syntax gibt.\n",
    "\n",
    "Ein spezielles Merkmal der Syntax von Python ist, dass Einrückungen Bedeutung haben - sie definieren Blöcke von zusammengehörigen Code. Die meisten anderen Programmiersprachen verwenden dafür spezielle Zeichen oder Schlüsselwörter wie z.B. `begin`, `end`, `{` oder `}`. Durch Einrückungen benötigt Python diese Zeichen nicht und der Code wird dadurch strukturierter und kürzer. Dies ist im folgenden Codebeispiel dargestellt (bitte achten Sie nur auf die Struktur, der Inhalt/die Bedeutung des Codebeispiels ist nicht relevant):"
   ]
  },
  {
   "cell_type": "code",
   "execution_count": 3,
   "metadata": {
    "collapsed": false
   },
   "outputs": [
    {
     "name": "stdout",
     "output_type": "stream",
     "text": [
      "0\n",
      "1\n",
      "2\n",
      "3\n",
      "4\n",
      "5\n",
      "3\n"
     ]
    }
   ],
   "source": [
    "def do_something(n_times=10):\n",
    "    counter = 0\n",
    "    for i in range(n_times):\n",
    "        print(i)\n",
    "        if i % 2:\n",
    "            counter += 1\n",
    "    return counter\n",
    "\n",
    "counter = do_something(6)\n",
    "print(counter)"
   ]
  },
  {
   "cell_type": "markdown",
   "metadata": {},
   "source": [
    "Es ist üblich, für eine Einrückung vier Leerzeichen (keine Tabulatoren) zu verwenden."
   ]
  },
  {
   "cell_type": "markdown",
   "metadata": {},
   "source": [
    "## Editoren\n",
    "Python-Scripts bearbeitet man mit Texteditoren. Prinzipiell sind Python-Scripts ganz normale Textdateien mit der Endung .py, d.h. sie können mit jedem Texteditor geöffnet werden. Dennoch sollte man einen Editor verwenden, welcher das Editieren möglichst komfortabel gestaltet. Gute Editoren bieten Syntax Highlighting, verwenden automatisch vier Leerzeichen zur Einrückung, zeigen die Zeilennummern an, usw.\n",
    "\n",
    "Kostenlose Editoren, die sich gut zum Schreiben von Python-Scripts eignen, sind:\n",
    "\n",
    "- [Atom](https://atom.io/) (Windows, Mac OS X, Linux)\n",
    "- [Notepad++](https://notepad-plus-plus.org/) (Windows)\n",
    "- [Textwrangler](http://www.barebones.com/products/textwrangler/) (Mac OS X)\n",
    "- [TextMate](https://macromates.com/) (Mac OS X)\n",
    "- [gedit](https://wiki.gnome.org/Apps/Gedit), [kate](http://kate-editor.org/) (Linux)\n",
    "\n",
    "Nicht geeignet sind Textverarbeitungsprogramme wie Microsoft Word oder LibreOffice Writer."
   ]
  },
  {
   "cell_type": "markdown",
   "metadata": {},
   "source": [
    "## Entwicklungsumgebungen\n",
    "Entwicklungsumgebungen vereinen Editoren mit der Möglichkeit, Code direkt im Python-Interpreter auszuführen. So muss man also nicht immer zwischen zwei Programmen wechseln, wenn man Python-Scripts schreibt. Entwicklungsumgebungen enthalten noch viele weitere praktische Funktionen, die das Schreiben von Programmen erleichtern, wie z.B. eine integrierte kontextsensitive Hilfe, automatische Vervollständigung, automatische Überprüfung der Syntax, Code-Analyse, eingebaute Debugger, und vieles mehr.\n",
    "\n",
    "Kostenlose Entwicklungsumgebungen für Python gibt es einige, die folgenden zwei finde ich persönlich sehr gut gelungen:\n",
    "\n",
    "- [PyCharm](https://www.jetbrains.com/pycharm/)\n",
    "- [Spyder](https://github.com/spyder-ide/spyder)\n",
    "\n",
    "Beide Programme sind kostenlos erhältlich. PyCharm richtet sich dabei eher an fortgeschrittene Programmierer, welche umfangreiche Programme designen und entwickeln. Spyder eignet sich sehr gut für den wissenschaftlichen Bereich, d.h. für interaktive Arbeiten mit Daten. Spyder wurde übrigens komplett in Python geschrieben und ist auch standardmäßig bei Anaconda Python installiert.\n",
    "\n",
    "Für den Einstieg ist Spyder sicher eine gute Wahl.\n",
    "\n",
    "![](spyder.png)"
   ]
  },
  {
   "cell_type": "markdown",
   "metadata": {},
   "source": [
    "## Hilfe"
   ]
  },
  {
   "cell_type": "code",
   "execution_count": null,
   "metadata": {
    "collapsed": true
   },
   "outputs": [],
   "source": []
  }
 ],
 "metadata": {
  "kernelspec": {
   "display_name": "Python 3",
   "language": "python",
   "name": "python3"
  },
  "language_info": {
   "codemirror_mode": {
    "name": "ipython",
    "version": 3
   },
   "file_extension": ".py",
   "mimetype": "text/x-python",
   "name": "python",
   "nbconvert_exporter": "python",
   "pygments_lexer": "ipython3",
   "version": "3.5.1"
  }
 },
 "nbformat": 4,
 "nbformat_minor": 0
}
