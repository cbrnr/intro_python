{
 "cells": [
  {
   "cell_type": "markdown",
   "metadata": {},
   "source": [
    "_Einführung in Python, Clemens Brunner, 18.10.2018_\n",
    "\n",
    "# 2 - Die Python-Umgebung"
   ]
  },
  {
   "cell_type": "markdown",
   "metadata": {},
   "source": [
    "## Aufbau von Python\n",
    "Python besteht aus der Programmiersprache Python, einem Interpreter (welcher Python-Programme ausführen kann), und einer umfangreichen [Standardbibliothek](https://docs.python.org/3/library/). Python selbst bringt nur sehr grundlegende Befehle mit, wie z.B. `for`-Schleifen, `if`-Abfragen und andere fest eingebaute Funktionen.\n",
    "\n",
    "Darüber hinaus finden sich sehr viele Funktionen in der Standardbibliothek. Diese wird standardmäßig mit Python mitgeliefert und deckt unter anderem Gebiete wie Ein-/Ausgabe, Manipulation von regulären Ausdrücken, erweiterte Datentypen, mathematische Funktionen, Internetprotokolle, und grafische Benutzerschnittstellen ab.\n",
    "\n",
    "Schließlich gibt es noch tausende zusätzliche Python-Pakete, die sehr einfach zu einer existierenden Python-Umgebung hinzugefügt werden können. Der [Python Package Index (PyPI)](https://pypi.python.org/pypi) sammelt alle verfügbaren Pakete an einer zentralen Stelle.\n",
    "\n",
    "Um Python-Programme zu schreiben benötigt man einen Text-Editor. Daher vervollständigt erst ein guter Editor bzw. eine integrierte Entwicklungsumgebung (IDE) eine Python-Installation.\n",
    "\n",
    "![](python_blocks.png)"
   ]
  },
  {
   "cell_type": "markdown",
   "metadata": {},
   "source": [
    "## Anaconda\n",
    "Wie bereits in der ersten Einheit erwähnt, handelt es sich bei [Anaconda](https://www.anaconda.com/download) um eine einfach zu installierende und einfach zu wartende Python-Umgebung. Neben Python selbst beinhaltet Anaconda auch eine große Anzahl an getesteten zusätzlichen Paketen.\n",
    "\n",
    "Manchmal ist es aber notwendig, ein zusätzliches Python-Paket zu installieren, welches nicht standardmäßig in einer Anaconda-Installation enthalten ist. Außerdem sollte Anaconda (wie jede Python-Umgebung) regelmäßig gewartet werden, d.h. veraltete Pakete sollten aktualisiert werden. Auch wenn eine neue Python-Version erscheint, sollte man diese in aller Regel verwenden, d.h. man muss die bestehende Version aktualisieren.\n",
    "\n",
    "### conda\n",
    "All diese Tätigkeiten lassen sich mit den in Anaconda vorhandenen Werkzeugen durchführen. Dazu steht das Kommandozeilenprogramm `conda` zur Verfügung. Um es zu verwenden, muss eine Kommandozeile (oft auch Eingabeaufforderung oder Terminal genannt) geöffnet werden. Dies ist je nach Betriebssystem leicht unterschiedlich:\n",
    "\n",
    "- Unter Windows gibt es im Startmenü einen Eintrag im Anaconda-Ordner namens \"Anaconda Prompt\". Dabei handelt es sich um eine normale Eingabeaufforderung, die jedoch den `conda`-Befehl kennt.\n",
    "- Unter macOS startet man das Programm \"Terminal\".\n",
    "- Unter Linux startet man ebenfalls ein Terminal.\n",
    "\n",
    "In diesem Terminal-Fenster kann man nun Befehle eintippen. Um zu testen, ob `conda` funktioniert und welche Version installiert ist, gibt man folgenden Befehl ein:\n",
    "\n",
    "    conda --version\n",
    "\n",
    "Wenn man hier eine Versionsnummer rückgemeldet bekommt, wurde `conda` gefunden und es funktioniert alles.\n",
    "\n",
    "Das `conda`-Werkzeug ist sehr mächtig und kann auch zum Verwalten mehrerer parallel installierter Python-Umgebungen verwendet werden. Darauf werden wir hier aber nicht eingehen; für den Anfang reicht es, wenn wir uns nur mit der Standard-Python-Umgebung beschäftigen (mehr Informationen zum Verwalten von Umgebungen gibt es in der [offiziellen conda-Dokumentation](http://conda.pydata.org/docs/using/index.html)).\n",
    "\n",
    "Eine Liste aller installierten Python-Pakete erhält man mit:\n",
    "\n",
    "    conda list\n",
    "\n",
    "Wenn man wissen möchte, ob ein spezifisches Paket namens `package_name` bereits installiert ist, verwendet man:\n",
    "\n",
    "    conda list package_name\n",
    "\n",
    "Ob ein Paket namens `package_name` in Anaconda verfügbar ist kann man so feststellen:\n",
    "\n",
    "    conda search package_name\n",
    "    \n",
    "Möchte man ein neues Paket installieren, kann man dies einfach wie folgt tun:\n",
    "\n",
    "    conda install package_name\n",
    "\n",
    "Ein installiertes Paket kann man ebenso leicht wieder deinstallieren:\n",
    "\n",
    "    conda uninstall package_name\n",
    "\n",
    "Möchte man alle installierten Pakete aktualisieren kann man folgenden Befehl verwenden:\n",
    "\n",
    "    conda update --all\n",
    "\n",
    "### pip\n",
    "Verglichen mit der Anzahl an Python-Paketen auf [PyPI](https://pypi.python.org/pypi) gibt es nur relativ wenig Pakete in Anaconda. Wenn man einmal ein Paket installieren möchte, welches nicht in Anaconda verfügbar ist, kann man das mit dem Standard-Python-Tool `pip` machen. `pip` funktioniert ähnlich wie `conda`:\n",
    "\n",
    "    pip search package_name\n",
    "    pip install package_name\n",
    "    pip uninstall package_name\n",
    "\n",
    "Pakete, die in Anaconda enthalten sind, sollte man aber auf jeden Fall mit `conda` installieren.\n",
    "\n",
    "### Anaconda Navigator\n",
    "Der Anaconda Navigator bietet eine grafische Oberfläche für viele der oben beschriebenen Aufgaben. Beispielsweise kann man sich eine Liste aller installierten Pakete bzw. aller verfügbaren Pakete anzeigen lassen. Man kann Anaconda-Pakete installieren, nicht jedoch Pakete, die nur via `pip` verfügbar sind. Daher sind die Kommandozeilenprogramme `conda` und `pip` im Allgemeinen zu bevorzugen."
   ]
  },
  {
   "cell_type": "markdown",
   "metadata": {},
   "source": [
    "## Python-Interpreter\n",
    "Der Python-Interpreter führt Python-Befehle aus. Er kann auf zwei unterschiedliche Arten verwendet werden:\n",
    "\n",
    "- Interaktiver Modus\n",
    "- Script-Modus\n",
    "\n",
    "### Interaktiver Modus\n",
    "Im interaktiven Modus hat man die Möglichkeit, einzelne Python-Befehle einzugeben; diese werden sofort ausgeführt und eventuelle Ergebnisse am Bildschirm ausgegeben. Ein Prompt signalisiert im interaktiven Modus, dass Befehle eingegeben werden können. Der Prompt sieht üblicherweise wie folgt aus:\n",
    "\n",
    "- `>>>` (im interaktiven Standard-Python-Interpreter)\n",
    "- `In [1]:` (in [IPython](https://ipython.org/), einem erweiterten interaktiven Python-Interpreter)\n",
    "\n",
    "Der interaktive Modus ist praktisch zum Ausprobieren von Befehlen. Die Programme \"Qt Console\" bzw. \"Jupyter QTConsole\" bzw. \"IPython\" (die Namensgebung in Anaconda ist hier leider nicht konsistent) starten alle ein Programm, in dem IPython (also Python im interaktiven Modus) läuft. Auch Spyder beinhaltet einen Bereich mit IPython.\n",
    "\n",
    "### Script-Modus\n",
    "Der interaktive Modus eignet sich aber nicht zur Erstellung längerer Programme. Solche Programme (auch Scripts genannt) sind einfache Textdateien mit der Endung `.py`, welche Python-Befehle enthalten (jeweils ein Befehl pro Zeile). Diese Scripts können dem Python-Interpreter als Ganzes übergeben werden, welcher dann den darin enthaltenen Code Zeile für Zeile ausführt. Der Interpreter befindet sich dann im Script-Modus. Man kann Python im Script-Modus wie folgt aufrufen:\n",
    "\n",
    "- In der Eingabeaufforderung (Terminal): `python script.py` (wobei `script.py` das auszuführende Script ist)\n",
    "- In IPython: `%run script.py`\n",
    "- In Spyder: Klick auf das grüne \"Play\"-Icon (oder F5 bzw. Menüpunkt \"Run\" im Menü \"Run\")\n",
    "\n",
    "Ein wesentlicher Unterschied zwischen interaktivem und Script-Modus ist, dass nur im interaktiven Modus Werte automatisch ausgegeben werden:"
   ]
  },
  {
   "cell_type": "code",
   "execution_count": 1,
   "metadata": {},
   "outputs": [
    {
     "data": {
      "text/plain": [
       "5"
      ]
     },
     "execution_count": 1,
     "metadata": {},
     "output_type": "execute_result"
    }
   ],
   "source": [
    "1 + 4"
   ]
  },
  {
   "cell_type": "markdown",
   "metadata": {},
   "source": [
    "Hier sieht man, dass nach der Eingabe von `1 + 4` der Wert dieser Berechnung automatisch ausgegeben wird. In einem Script würde eine Zeile mit dem Inhalt `1 + 4` keine Ausgabe bewirken. Dies können Sie einfach überprüfen, indem Sie eine Datei namens `script.py` mit dieser Zeile als Inhalt erstellen. Führen Sie dann dieses Python-Script mit einen der beiden oben erwähnten Möglichkeiten aus und beachten Sie dass das Ergebnis `5` nicht ausgegeben wird, weil Werte automatisch nur im interaktiven Modus ausgegeben werden:"
   ]
  },
  {
   "cell_type": "code",
   "execution_count": 2,
   "metadata": {},
   "outputs": [],
   "source": [
    "%run script.py"
   ]
  },
  {
   "cell_type": "markdown",
   "metadata": {},
   "source": [
    "Wenn Sie im Script-Modus dennoch Werte ausgeben wollen, benutzen Sie dazu die `print`-Funktion."
   ]
  },
  {
   "cell_type": "markdown",
   "metadata": {},
   "source": [
    "## Arbeitsverzeichnis (Working Directory)\n",
    "Der Python-Interpreter arbeitet immer im aktuellen Verzeichnis, dem sogenannten Arbeitsverzeichnis (Working Directory). Das Arbeitsverzeichnis ist wichtig, da Python annimmt, dass sich eigene Dateien (wie Scripts oder Module) in diesem Verzeichnis befinden.\n",
    "\n",
    "Das aktuelle Arbeitsverzeichnis findet man mit `os.getcwd` heraus:"
   ]
  },
  {
   "cell_type": "code",
   "execution_count": 3,
   "metadata": {},
   "outputs": [
    {
     "data": {
      "text/plain": [
       "'/Users/clemens/Repositories/python_intro/2'"
      ]
     },
     "execution_count": 3,
     "metadata": {},
     "output_type": "execute_result"
    }
   ],
   "source": [
    "import os\n",
    "\n",
    "os.getcwd()"
   ]
  },
  {
   "cell_type": "markdown",
   "metadata": {},
   "source": [
    "Eigene Scripts bzw. Module sollten immer in diesem Verzeichnis sein. Mit `os.chdir` kann man das Arbeitsverzeichnis wechseln:"
   ]
  },
  {
   "cell_type": "code",
   "execution_count": 4,
   "metadata": {},
   "outputs": [],
   "source": [
    "os.chdir(\"/Users/clemens/Repositories/python_intro\")"
   ]
  },
  {
   "cell_type": "markdown",
   "metadata": {},
   "source": [
    "Überprüfen wir, ob der vorige Befehl den gewünschten Effekt gehabt hat:"
   ]
  },
  {
   "cell_type": "code",
   "execution_count": 5,
   "metadata": {},
   "outputs": [
    {
     "data": {
      "text/plain": [
       "'/Users/clemens/Repositories/python_intro'"
      ]
     },
     "execution_count": 5,
     "metadata": {},
     "output_type": "execute_result"
    }
   ],
   "source": [
    "os.getcwd()"
   ]
  },
  {
   "cell_type": "markdown",
   "metadata": {},
   "source": [
    "In den meisten Entwicklungsumgebungen kann man das Arbeitsverzeichnis auch über die grafische Oberfläche sehen bzw. wechseln. Wenn man Python von der Kommandozeile aus startet, ist es sinnvoll, zuerst in das gewünschte Verzeichnis zu wechseln und dann Python zu starten - denn das Arbeitsverzeichnis ist im Allgemeinen jenes, aus dem Python gestartet wurde.\n",
    "\n",
    "Wenn man IPython verwendet (und das werden wir in dieser Lehrveranstaltung stets tun), kann das aktuelle Arbeitsverzeichnis mit `pwd` (\"print working directory\") angezeigt werden. Verzeichnisse wechseln kann man dann mit `cd` (\"change directory\")."
   ]
  },
  {
   "cell_type": "code",
   "execution_count": 6,
   "metadata": {},
   "outputs": [
    {
     "data": {
      "text/plain": [
       "'/Users/clemens/Repositories/python_intro'"
      ]
     },
     "execution_count": 6,
     "metadata": {},
     "output_type": "execute_result"
    }
   ],
   "source": [
    "pwd"
   ]
  },
  {
   "cell_type": "code",
   "execution_count": 7,
   "metadata": {},
   "outputs": [
    {
     "name": "stdout",
     "output_type": "stream",
     "text": [
      "/Users/clemens/Repositories/python_intro/2\n"
     ]
    }
   ],
   "source": [
    "cd 2"
   ]
  },
  {
   "cell_type": "markdown",
   "metadata": {},
   "source": [
    "## Syntax\n",
    "Unter Syntax versteht man die Regeln einer Sprache, die festlegen wie man aus grundlegenden Zeichen gültige Sprachkonstrukte erzeugt. Es gibt sowohl für natürliche Sprachen (wie Deutsch oder Englisch) als auch für formale Sprachen (Programmiersprachen) eine entsprechende Syntax.\n",
    "\n",
    "Wie bereits erwähnt speichert man ein Python-Programm bzw. ein Python-Script in eine Textdatei mit der Endung `.py`. Ein spezielles Merkmal der Syntax von Python ist, dass Einrückungen Bedeutung haben - sie definieren Blöcke von zusammengehörigen Code. Die meisten anderen Programmiersprachen verwenden dafür spezielle Zeichen oder Schlüsselwörter wie z.B. `begin`, `end`, `{` oder `}`. Durch Einrückungen benötigt Python diese Zeichen nicht und der Code wird dadurch strukturierter und kürzer. Dies ist im folgenden Codebeispiel dargestellt (bitte achten Sie nur auf die Struktur, der Inhalt/die Bedeutung des Codebeispiels ist nicht relevant):"
   ]
  },
  {
   "cell_type": "code",
   "execution_count": 8,
   "metadata": {},
   "outputs": [
    {
     "name": "stdout",
     "output_type": "stream",
     "text": [
      "0\n",
      "1\n",
      "Odd\n",
      "2\n",
      "3\n",
      "Odd\n",
      "4\n",
      "5\n",
      "Odd\n",
      "3\n"
     ]
    }
   ],
   "source": [
    "# this is a comment\n",
    "def do_something(n_times=10):\n",
    "    counter = 0\n",
    "    for i in range(n_times):\n",
    "        print(i)\n",
    "        if i % 2:  # odd number\n",
    "            counter += 1\n",
    "            print(\"Odd\")\n",
    "    return counter\n",
    "\n",
    "counter = do_something(6)\n",
    "print(counter)"
   ]
  },
  {
   "cell_type": "markdown",
   "metadata": {},
   "source": [
    "Nachfolgend sind die Blöcke farblich hervorgehoben:\n",
    "\n",
    "![](code_blocks.png)"
   ]
  },
  {
   "cell_type": "markdown",
   "metadata": {},
   "source": [
    "Der rot unterlegte Code befindet sich im Block auf der untersten Ebene. Eine Ebene darunter sieht man den Code in grün, welcher direkt nach der Zeile `def do_something(n_times=10):` folgt und daher dieser direkt untergeordnet ist. Innerhalb des grönen Blocks gibt es noch einen weiteren blauen Block, welcher selbst wiederum einen weiteren gelben Block enthält."
   ]
  },
  {
   "cell_type": "markdown",
   "metadata": {},
   "source": [
    "Es ist üblich, für eine Einrückung vier Leerzeichen (keine Tabulatoren) zu verwenden. Keinesfalls sollte man verschiedene Einrückungen mischen (z.B. vier Leerzeichen, Tabulatoren, zwei Leerzeichen) - dies kann zu überraschenden Fehlermeldungen führen.\n",
    "\n",
    "Im Beispiel oben sieht man auch Kommentare. Diese werden durch ein `#`-Zeichen eingeleitet. Alles, was danach folgt, wird von Python bis zum Zeilenende ignoriert, d.h. so kann man umgangsprachliche Kommentare zur Erklärung des Codes hinzufügen.\n",
    "\n",
    "Weiters sieht man im obigen Beispiel noch die Verwendung von Funktionen - diese werden mit ihrem Namen und den Argumenten in Klammern aufgerufen, z.B.\n",
    "\n",
    "    print(counter)\n",
    "\n",
    "Hier ist `print` der Name der Funktion und `counter` ist das Argument für die Funktion. Es gibt auch Funktionen ohne Argumente, diese müssen aber trotzdem mit den Klammern aufgerufen werden, z.B.\n",
    "\n",
    "    print()\n",
    "\n",
    "Mehr zu Funktionen werden wir in einer der nächsten Einheiten erfahren, wichtig ist zu diesem Zeitpunkt, dass Sie erkennen können, wie ein Funktionsaufruf aussieht.\n",
    "\n",
    "Zusätzlich zur Syntax haben sich Konventionen durchgesetzt, wie man schön formatierten Code schreibt. Beispielsweise verwendet man für Einrückungen vier Leerzeichen, nach dem Kommentarzeichen `#` soll ein Leerzeichen folgen, die maximale Zeilenlänge soll 79 Zeichen nicht überschreiten, und so weiter. All diese Regeln sind im [Python Enhancement Proposal 8 (PEP8)](https://www.python.org/dev/peps/pep-0008/) zusammengefasst. Obwohl das Einhalten der Konventionen nicht erforderlich ist (die Syntax ist davon ja nicht betroffen), ist es sehr zu empfehlen, sich daran zu halten, da dies die Lesbarkeit des Codes stark erhöht."
   ]
  },
  {
   "cell_type": "markdown",
   "metadata": {},
   "source": [
    "## Editoren\n",
    "Python-Scripts bearbeitet man mit Text-Editoren. Prinzipiell sind Python-Scripts normale Textdateien, d.h. sie können mit jedem beliebigen Text-Editor geöffnet werden. Dennoch sollte man einen Editor verwenden, welcher das Editieren möglichst komfortabel gestaltet. Gute Editoren bieten Syntax Highlighting, verwenden automatisch vier Leerzeichen zur Einrückung, zeigen die Zeilennummern an, kontrollieren die Einhaltung von PEP8, usw.\n",
    "\n",
    "Kostenlose Editoren, die sich gut zum Schreiben von Python-Scripts eignen, sind:\n",
    "\n",
    "- [Visual Studio Code](https://code.visualstudio.com/) (Windows, macOS, Linux)\n",
    "- [Atom](https://atom.io/) (Windows, macOS, Linux)\n",
    "- [Sublime Text](https://www.sublimetext.com/) (Windows, macOS, Linux)\n",
    "- [Notepad++](https://notepad-plus-plus.org/) (Windows)\n",
    "- [gedit](https://wiki.gnome.org/Apps/Gedit), [kate](http://kate-editor.org/) (Linux)\n",
    "\n",
    "Bei der Installation von Anaconda gibt es die Möglichkeit, den Editor Visual Studio Code gleich mitzuinstallieren. Nicht geeignet sind Textverarbeitungsprogramme wie Microsoft Word oder LibreOffice Writer. Auch die mit Windows bzw. macOS mitgelieferten Editoren Notepad bzw. TextEdit sollte man nicht verwenden, da sie sehr rudimentär sind."
   ]
  },
  {
   "cell_type": "markdown",
   "metadata": {},
   "source": [
    "## Entwicklungsumgebungen\n",
    "Entwicklungsumgebungen vereinen Editoren mit der Möglichkeit, Code direkt in einem integrierten Python-Interpreter auszuführen. So muss man also nicht immer zwischen zwei Programmen (Editor und Interpreter) wechseln, wenn man Python-Scripts schreibt. Entwicklungsumgebungen enthalten noch viele weitere praktische Funktionen, die das Schreiben von Programmen erleichtern, wie z.B. eine integrierte kontextsensitive Hilfe, automatische Vervollständigung, automatische Überprüfung der Syntax, Code-Analyse, eingebaute Debugger, und vieles mehr.\n",
    "\n",
    "Kostenlose Entwicklungsumgebungen für Python gibt es einige, die folgenden zwei werden von vielen Python-Anwendern verwendet:\n",
    "\n",
    "- [PyCharm](https://www.jetbrains.com/pycharm/)\n",
    "- [Spyder](https://github.com/spyder-ide/spyder)\n",
    "\n",
    "Beide Programme sind kostenlos erhältlich. PyCharm richtet sich dabei eher an fortgeschrittene Programmierer, welche umfangreiche Programme designen und entwickeln wollen. Spyder eignet sich sehr gut für den wissenschaftlichen Bereich, d.h. für interaktives Arbeiten mit Daten. Spyder ist übrigens komplett in Python geschrieben und ist auch standardmäßig in Anaconda installiert.\n",
    "\n",
    "### Spyder\n",
    "Für den Einstieg ist Spyder sicher eine gute Wahl. Im Bild unten sieht man den Aufbau von Spyder: Links befindet sich ein Editor zum Bearbeiten von Python-Scripts (das grüne \"Play\"-Icon führt das gesamte Script im Script-Modus aus), rechts unten befindet sich der interaktive Python-Interpreter (IPython). Hier kann man auch auf eine Liste aller eingetippten Befehle umschalten (History). Rechts oben werden hilfreiche Informationen angezeigt, wie z.B. eine kontextsensitive Hilfe, eine Auflistung aller Variablen und ein Dateimanager. Auch das Arbeitsverzeichnis wird in der Werkzeugleiste angezeigt.\n",
    "\n",
    "![](spyder.png)\n",
    "\n",
    "Die Grenzen zwischen Text-Editoren und IDEs sind übrigens fließend. Mittlerweile bietet z.B. Visual Studio Code mit der Python-Extension fast genau so viele Funktionen wie eine vollwertige IDE."
   ]
  },
  {
   "cell_type": "markdown",
   "metadata": {},
   "source": [
    "## Hilfe\n",
    "\n",
    "### Integrierte Hilfe\n",
    "Hilfe zu Python-Befehlen kann man direkt im Python-Interpreter bekommen. Dazu tippt man einfach folgenden Befehl ein:"
   ]
  },
  {
   "cell_type": "code",
   "execution_count": 9,
   "metadata": {},
   "outputs": [
    {
     "name": "stdout",
     "output_type": "stream",
     "text": [
      "Help on built-in function print in module builtins:\n",
      "\n",
      "print(...)\n",
      "    print(value, ..., sep=' ', end='\\n', file=sys.stdout, flush=False)\n",
      "    \n",
      "    Prints the values to a stream, or to sys.stdout by default.\n",
      "    Optional keyword arguments:\n",
      "    file:  a file-like object (stream); defaults to the current sys.stdout.\n",
      "    sep:   string inserted between values, default a space.\n",
      "    end:   string appended after the last value, default a newline.\n",
      "    flush: whether to forcibly flush the stream.\n",
      "\n"
     ]
    }
   ],
   "source": [
    "help(print)"
   ]
  },
  {
   "cell_type": "markdown",
   "metadata": {},
   "source": [
    "In IPython kann man dafür auch folgende alternative (und vor allem kürzere) Schreibweisen verwenden:\n",
    "\n",
    "- `?print`\n",
    "- `print?`"
   ]
  },
  {
   "cell_type": "markdown",
   "metadata": {},
   "source": [
    "Zusätzlich zur integrierten Hilfe bieten Entwicklungsumgebungen bzw. Editoren wie Spyder oder Visual Studio Code darüber hinausgehende Möglichkeiten, Hilfe direkt in der grafischen Oberfläche anzuzeigen."
   ]
  },
  {
   "cell_type": "markdown",
   "metadata": {},
   "source": [
    "### Online Hilfe\n",
    "Einen guten Überblick bietet die [offizielle Python-Dokumentation](https://docs.python.org/3/). Hier werden die allermeisten Themengebiete rund um Python sehr umfangreich beschrieben. Auch das [Tutorial](https://docs.python.org/3/tutorial/index.html) ist sehr zu empfehlen.\n",
    "\n",
    "Durch die große und sehr aktive Community rund um Python findet man mit einer Google-Suche sehr viel zu den allermeisten Fragen. Sehr hochwertige Antworten findet man meist auf [StackOverflow](http://stackoverflow.com/questions/tagged/python).\n",
    "\n",
    "### Online Kurse\n",
    "Einführungskurse bzw. bereits leicht fortgeschrittenere Kurse über Python gibt es viele, hier eine kleine Auswahl:\n",
    "- [Learn to Program: The Fundamentals](https://www.coursera.org/learn/learn-to-program)\n",
    "- [Learn to Program: Crafting Quality Code](https://www.coursera.org/learn/program-code)\n",
    "- [Programming for Everybody (Getting Started with Python)](https://www.coursera.org/learn/python)\n",
    "- [Python Data Structures](https://www.coursera.org/learn/python-data)\n",
    "- [An Introduction to Interactive Programming in Python (Part 1)](https://www.coursera.org/learn/interactive-python-1)\n",
    "- [An Introduction to Interactive Programming in Python (Part 2)](https://www.coursera.org/learn/interactive-python-2)\n",
    "- [Python at Codecademy](https://www.codecademy.com/learn/learn-python)\n",
    "- [Learn Python](http://www.learnpython.org/)\n",
    "\n",
    "### Bücher\n",
    "Klassische Bücher eignen sich ebenfalls sehr gut zum Selbststudium, hier eine kleine Auswahl an kostenlos verfügbaren Büchern:\n",
    "- [Think Python](http://greenteapress.com/wp/think-python/)\n",
    "- [A Byte of Python](http://python.swaroopch.com/)\n",
    "- [Python for You and Me](http://pymbook.readthedocs.io/en/latest/)"
   ]
  },
  {
   "cell_type": "markdown",
   "metadata": {},
   "source": [
    "## Hausübung\n",
    "Geben Sie diese Hausübung als PDF-Datei in Moodle ab. Verwenden Sie für den Namen Ihrer Datei bitte folgendes Schema:\n",
    "\n",
    "*Nachname1*_*Nachname2*-HUE02.pdf\n",
    "\n",
    "Die Nachnamen sollten alphabetisch geordnet sein, egal wer die Hausübung hochlädt.\n",
    "\n",
    "Führen Sie neben den Ergebnissen bitte auch die Python-Befehle an, die Sie zur Lösung verwendet haben (das können Sie zum Beispiel mit Screenshots machen).\n",
    "\n",
    "### Übung 1\n",
    "Geben Sie eine Liste aller installierten Pakete in Ihrer Anaconda-Installation aus - welchen Befehl verwenden Sie dazu und wie sieht die Liste aus? Wie viele Pakete sind bei Ihnen installiert (dies ist mittels Anaconda Navigator einfacher lösbar als mit den Kommandozeilenprogrammen)?\n",
    "\n",
    "*(2 Punkte)*\n",
    "\n",
    "### Übung 2\n",
    "Aktualisieren Sie zunächst alle installierten Pakete. Suchen Sie dann nach dem Paket `seaborn` - ist dieses Paket bereits installiert (falls nicht, installieren Sie es)? Führen Sie diese beiden Schritte auch für das Paket `plotly` durch. Geben Sie für die Lösung alle in dieser Übung verwendeten Befehle an!\n",
    "\n",
    "*(2 Punkte)*\n",
    "\n",
    "### Übung 3\n",
    "Installieren Sie in Ihrer Anaconda-Umgebung das Paket `mne`. Welche Befehle verwenden Sie dafür? Deinstallieren Sie anschließend dieses Paket wieder - wie lauten die Befehle dazu? Erläutern Sie kurz, wann Sie `conda` und wann Sie `pip` verwenden!\n",
    "\n",
    "*(2 Punkte)*\n",
    "\n",
    "### Übung 4\n",
    "Erstellen Sie in einem Editor Ihrer Wahl (z.B. Spyder oder Visual Studio Code) ein Python-Script namens `test.py`. Das Script soll lediglich *Hello World!* am Bildschirm ausgeben (verwenden Sie dazu die `print`-Funktion). Versuchen Sie, folgende Struktur zu erstellen:\n",
    "\n",
    "- Die erste Zeile soll eine Kommentarzeile mit Ihren Namen sein\n",
    "- Die zweite Zeile soll leer sein\n",
    "- Die dritte Zeile soll die `print`-Funktion beinhalten\n",
    "- Die letzte Zeile soll wieder leer sein\n",
    "\n",
    "Achten Sie darauf, dass Ihr Script PEP8-konform ist. Führen Sie Ihr Script auch aus - so können Sie sicherstellen, dass der Code korrekt ist und keine Fehler produziert. Erstellen Sie einen Screenshot von Ihrem fertigen Script.\n",
    "\n",
    "*(2 Punkte)*\n",
    "\n",
    "### Übung 5\n",
    "Sehen Sie sich die Hilfe zur `print`-Funktion direkt im Python-Interpreter an. Welchen Befehl verwenden Sie zum Aufrufen der Hilfe? Geben Sie hier drei Möglichkeiten an, die in IPython die Hilfe zu `print` anzeigen.\n",
    "\n",
    "*(2 Punkte)*"
   ]
  },
  {
   "cell_type": "markdown",
   "metadata": {},
   "source": [
    "---\n",
    "![](cc_license.png)\n",
    "\n",
    "Diese Unterlagen sind lizenziert unter einer [Creative Commons Namensnennung - Nicht-kommerziell - Weitergabe unter gleichen Bedingungen 4.0 International Lizenz](http://creativecommons.org/licenses/by-nc-sa/4.0/)."
   ]
  }
 ],
 "metadata": {
  "anaconda-cloud": {},
  "kernelspec": {
   "display_name": "Python 3",
   "language": "python",
   "name": "python3"
  },
  "language_info": {
   "codemirror_mode": {
    "name": "ipython",
    "version": 3
   },
   "file_extension": ".py",
   "mimetype": "text/x-python",
   "name": "python",
   "nbconvert_exporter": "python",
   "pygments_lexer": "ipython3",
   "version": "3.7.2"
  }
 },
 "nbformat": 4,
 "nbformat_minor": 2
}
