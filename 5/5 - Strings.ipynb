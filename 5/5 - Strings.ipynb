{
 "cells": [
  {
   "cell_type": "markdown",
   "metadata": {},
   "source": [
    "_Einführung in Python, Clemens Brunner, 24.11.2016_\n",
    "\n",
    "# 5 - Strings"
   ]
  },
  {
   "cell_type": "markdown",
   "metadata": {},
   "source": [
    "## Wiederholung\n",
    "Datentypen in Python können grob vereinfacht in folgende Kategorien unterteilt werden:\n",
    "\n",
    "- Logische Datentypen\n",
    "- Numerische Datentypen\n",
    "- Sequenzen\n",
    "- Mengen\n",
    "- Mappings\n",
    "\n",
    "Mit der Funktion `type` kann man sich den Typ eines beliebigen Objektes (Name oder Wert) anzeigen lassen. Logische und numerische Datentypen sind im Prinzip sehr einfach, und wir haben bereits gesehen, wie wir diese Typen verwenden können. In den folgenden beiden Einheiten werden etwas komplexere Datentypen vorgestellt, welche in Python sehr häufig verwendet werden: die Sequenzdatentypen `str`, `list` und `tuple` sowie der Mapping-Datentyp `dict`.\n",
    "\n",
    "Bevor wir diese Typen im Detail besprechen, sehen wir uns aber eine weitere wichtige Eigenschaft von Datentypen in Python an."
   ]
  },
  {
   "cell_type": "markdown",
   "metadata": {},
   "source": [
    "## Mutable und immutable Datentypen\n",
    "In Python unterscheidet man zwei Arten an Datentypen:\n",
    "\n",
    "- mutable (veränderbar)\n",
    "- immutable (nicht veränderbar)\n",
    "\n",
    "Mutable Objekte können auch nach deren Erstellung verändert werden. Im Gegensatz dazu können immutable Objekte nach deren Erstellung nicht mehr verändert werden.\n",
    "\n",
    "Für uns relevante mutable Datentypen sind:\n",
    "\n",
    "- Liste `list`\n",
    "- Dictionary `dict`\n",
    "\n",
    "Für uns relevante immutable Datentypen sind:\n",
    "\n",
    "- Ganzzahl `int`, Kommazahl `float`\n",
    "- String `str`, Tupel `tuple`"
   ]
  },
  {
   "cell_type": "markdown",
   "metadata": {},
   "source": [
    "### Immutable Typen\n",
    "Befassen wir uns zunächst mit den nicht veränderbaren immutable Typen. Als Beispiel betrachten wir das Objekt `2` vom Typ `int`. Dieses Objekt ist nicht veränderbar (`2` kann also nicht verändert werden). Im folgenden Beispiel wird das Objekt 2, welches den Namen `a` hat, auch nicht verändert. Wenn man `a = 3` setzt, wird das Objekt `2` nicht geändert, sondern der Name `a` verweist lediglich auf das Objekt `3`. Dies kann man auch mit Hilfe der `id`-Funktion verifizieren; man erkennt, dass die IDs tatsächlich unterschiedlich sind."
   ]
  },
  {
   "cell_type": "code",
   "execution_count": 71,
   "metadata": {
    "collapsed": true
   },
   "outputs": [],
   "source": [
    "a = 2"
   ]
  },
  {
   "cell_type": "code",
   "execution_count": 72,
   "metadata": {
    "collapsed": false
   },
   "outputs": [
    {
     "data": {
      "text/plain": [
       "140049153921632"
      ]
     },
     "execution_count": 72,
     "metadata": {},
     "output_type": "execute_result"
    }
   ],
   "source": [
    "id(a)"
   ]
  },
  {
   "cell_type": "code",
   "execution_count": 73,
   "metadata": {
    "collapsed": true
   },
   "outputs": [],
   "source": [
    "a = 3"
   ]
  },
  {
   "cell_type": "code",
   "execution_count": 74,
   "metadata": {
    "collapsed": false
   },
   "outputs": [
    {
     "data": {
      "text/plain": [
       "140049153921664"
      ]
     },
     "execution_count": 74,
     "metadata": {},
     "output_type": "execute_result"
    }
   ],
   "source": [
    "id(a)"
   ]
  },
  {
   "cell_type": "markdown",
   "metadata": {},
   "source": [
    "Auch Strings sind immutable. Wenn man versucht, einen einmal angelegten String zu verändern (z.B. ein Zeichen zu ändern), bekommt man eine Fehlermeldung:"
   ]
  },
  {
   "cell_type": "code",
   "execution_count": 75,
   "metadata": {
    "collapsed": true
   },
   "outputs": [],
   "source": [
    "s = \"Python\""
   ]
  },
  {
   "cell_type": "code",
   "execution_count": 76,
   "metadata": {
    "collapsed": false
   },
   "outputs": [
    {
     "data": {
      "text/plain": [
       "'y'"
      ]
     },
     "execution_count": 76,
     "metadata": {},
     "output_type": "execute_result"
    }
   ],
   "source": [
    "s[1]  # das 2. Zeichen des Strings (Python beginnt mit 0 zu zählen)"
   ]
  },
  {
   "cell_type": "code",
   "execution_count": null,
   "metadata": {
    "collapsed": true
   },
   "outputs": [],
   "source": []
  }
 ],
 "metadata": {
  "kernelspec": {
   "display_name": "Python 3",
   "language": "python",
   "name": "python3"
  },
  "language_info": {
   "codemirror_mode": {
    "name": "ipython",
    "version": 3
   },
   "file_extension": ".py",
   "mimetype": "text/x-python",
   "name": "python",
   "nbconvert_exporter": "python",
   "pygments_lexer": "ipython3",
   "version": "3.5.2"
  }
 },
 "nbformat": 4,
 "nbformat_minor": 1
}
