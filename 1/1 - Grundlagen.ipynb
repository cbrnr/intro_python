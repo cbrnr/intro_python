{
 "cells": [
  {
   "cell_type": "markdown",
   "metadata": {},
   "source": [
    "_Einführung in Python, Clemens Brunner, 15.3.2018_\n",
    "\n",
    "# 1 - Grundlagen"
   ]
  },
  {
   "cell_type": "markdown",
   "metadata": {},
   "source": [
    "## Überblick\n",
    "\n",
    "Im Seminar \"Einführung in Python\" werden Sie die Programmiersprache Python kennenlernen. Sie werden die grundlegenden Sprachelemente wie z.B. Schleifen, Funktionen und Bedingungen sowie wichtige Datentypen kennenlernen. Nach einer ausführlichen Behandlung der Grundlagen werden wir gegen Ende der Lehrveranstaltung lernen, wie man Python für die Analyse von Daten einsetzen kann (z.B. Einlesen von Daten, Darstellung von numerischen und tabellarischen Daten, Erstellen von Grafiken). Diese Lehrveranstaltung setzt keinerlei Vorwissen im Bereich Programmieren voraus. Die Grundlagen des Programmierens werden praxisnahe erläutert; dieses Grundlagenwissen können Sie auf die meisten anderen Programmiersprachen übertragen. Aufgrund der begrenzten Zeit können nur sehr grundlegende Konzepte in Python abgedeckt werden, die aber Voraussetzung für alle komplexeren Anwendungen sind. Sie werden aber durch ein umfassendes Basiswissen selbst die Werkzeuge in die Hand bekommen, sich fortgeschrittenere Methoden in Python selbst anzueignen. Für die wissenschaftliche Praxis besonders relevante Pakete werden wir dennoch in den letzten Einheiten des Seminars zumindest oberflächlich behandeln.\n",
    "\n",
    "Der Plan für dieses Semester sieht wie folgt aus:\n",
    "\n",
    "Einheit | Datum      | Inhalt\n",
    "-------:| ----------:| ------\n",
    "1       |  15.3.2018 | Grundlagen\n",
    "2       |  22.3.2018 | Die Python-Umgebung\n",
    "3       |  12.4.2018 | Variablen, Ausdrücke, Anweisungen\n",
    "4       |  19.4.2018 | Funktionen\n",
    "5       |  26.4.2018 | Bedingungen und Schleifen\n",
    "6       |   3.5.2018 | Strings\n",
    "7       |  17.5.2018 | Listen\n",
    "8       |  24.5.2018 | Dictionaries, Module und Packages\n",
    "9       |   7.6.2018 | Ein- und Ausgabe\n",
    "10      |  14.6.2018 | NumPy\n",
    "11      |  21.6.2018 | Matplotlib und Seaborn\n",
    "12      |  28.6.2018 | Pandas "
   ]
  },
  {
   "cell_type": "markdown",
   "metadata": {},
   "source": [
    "## Organisatorisches\n",
    "### Anwesenheit\n",
    "Diese Lehrveranstaltung wird als Seminar abgehalten. Daher sind Sie aufgefordert, sich aktiv an der Veranstaltung zu beteiligen. Eine Voraussetzung für den positiven Abschluss ist Ihre Anwesenheit. Sie dürfen sich zu maximal zwei Einheiten entschuldigen.\n",
    "\n",
    "### Hausübungen\n",
    "Ein weiterer Bestandteil dieses Seminars sind Hausübungen. Es wird zu jeder Einheit eine Hausübung geben, die Sie in **Zweiergruppen** bearbeiten. Die Abgabe einer Hausübung ist bis zur folgenden Einheit möglich, d.h. Sie haben in der Regel mindestens eine Woche pro Hausübung Zeit. Es reicht wenn eine Person der Zweiergruppe die Hausübung in Moodle rechtzeitig abgibt.\n",
    "\n",
    "### Benotung\n",
    "In die Note fließen beide zuvor beschriebenen Kriterien ein:\n",
    "\n",
    "- Anwesenheit und aktive Mitarbeit\n",
    "- Hausübungen\n",
    "\n",
    "Wie bereits erwähnt dürfen Sie maximal zwei Mal fehlen. Ein Fehlen in jeder weiteren Einheit führt dazu, dass Ihre Beurteilung pro zusätzlicher Fehlstunde um eine Note herabgestuft wird.\n",
    "\n",
    "Jede Hausübung wird mit maximal 10 Punkten bewertet. Eine nicht abgegebene Hausübung zählt 0 Punkte. Aus den Punkten aller Hausübungen wird dann der Mittelwert berechnet. Aus dem Mittelwert wird eine Note für die Hausübungen wie folgt ermittelt:\n",
    "\n",
    "<= 6 Punkte        | 6-7 Punkte   | 7-8 Punkte       | 8-9 Punkte | 9-10 Punkte\n",
    "------------------ | ------------ | ---------------- | ---------- | ------------\n",
    "Nicht genügend (5) | Genügend (4) | Befriedigend (3) | Gut (2)    | Sehr gut (1)\n",
    "\n",
    "Wenn Sie die Anwesenheitskriterien erfüllen entspricht die Hausübungsnote der Gesamtnote auf das Seminar."
   ]
  },
  {
   "cell_type": "markdown",
   "metadata": {},
   "source": [
    "## Überblick über Python\n",
    "\n",
    "![](python.png)"
   ]
  },
  {
   "cell_type": "markdown",
   "metadata": {},
   "source": [
    "### Was ist Python?\n",
    "\n",
    "- Einfach zu erlernende Programmiersprache\n",
    "- Open Source (freie Software)\n",
    "- Plattformübergreifend (läuft auf Windows, macOS, Linux)\n",
    "- Vielfältige Einsatzgebiete (nicht spezialisiert auf einen Bereich wie z.B. Datenanalyse)\n",
    "- Sehr gut geeignet für reproduzierbare Datenanalysen\n",
    "- Umfangreiche Standardbibliothek\n",
    "- Große und hilfsbereite Community\n",
    "- Riesige Anzahl an Zusatzpaketen verfügbar"
   ]
  },
  {
   "cell_type": "markdown",
   "metadata": {},
   "source": [
    "### Verbreitung von Python\n",
    "Der [TIOBE-Index](http://www.tiobe.com/tiobe_index) ist ein Maß für die Popularität von Programmiersprachen. Im September 2017 sah die Reihung laut diesem Index wie folgt aus:\n",
    "\n",
    "\n",
    "Platz | Sprache | Index\n",
    "-----:| --------| ------:\n",
    "    1 | Java    | 12.69%  \n",
    "    2 | C       |  7.38%  \n",
    "    3 | C++     |  5.57%   \n",
    "    4 | C#      |  4.78%   \n",
    "    5 | Python  |  2.98%   \n",
    "    6 | PHP     |  2.21%   \n",
    "  ... |         |\n",
    "   11 | R       |  1.82%   \n",
    "   16 | MATLAB  |  1.63%   \n",
    "  ... |         |\n",
    "   47 | Julia   |  0.44%"
   ]
  },
  {
   "cell_type": "markdown",
   "metadata": {},
   "source": [
    "Dieser Index sagt allerdings nichts über die Qualität einer Programmiersprache aus (sofern man das überhaupt beurteilen kann), sondern ist eher ein Maß für die Aktivität der Community hinter einer Sprache. Dies ist durchaus ein sehr wichtiger Faktor, denn je größer und aktiver die Community einer Sprache ist, desto einfacher wird man existierende Lösungen zu Problemen finden bzw. desto schneller wird man eine Antwort auf ein noch ungelöstes Problem bekommen.\n",
    "\n",
    "Ein anderer Index für die Popularität von Programmiersprachen wird von [IEEE Spectrum](https://spectrum.ieee.org/computing/software/the-2017-top-programming-languages) erstellt. Im Jahr 2017 waren die ersten sechs Plätze in diesem Ranking:\n",
    "\n",
    "1. Python\n",
    "2. C\n",
    "3. Java\n",
    "4. C++\n",
    "5. C#\n",
    "6. R"
   ]
  },
  {
   "cell_type": "markdown",
   "metadata": {},
   "source": [
    "Python ist eine generische Programmiersprache, d.h. Python ist nicht spezialisiert auf ein eingeschränktes Gebiet, so wie z.B. R auf Datenanalyse/Statistik ausgerichtet ist. Mit spezialisierten Programmiersprachen kann man manche Dinge schneller/besser/eleganter/kürzer lösen als generische Programmiersprachen. Im Gegensatz dazu ist man mit generischen Programmiersprachen aber nicht auf ein bestimmtes Gebiet eingeschränkt. Mit Python kann man neben Datenanalyse, numerischen Berechnungen und Statistik auch z.B. Webanwendungen oder \"richtige\" Programme mit grafischen Oberflächen erstellen."
   ]
  },
  {
   "cell_type": "markdown",
   "metadata": {},
   "source": [
    "### Wie sieht Python-Code aus?\n",
    "Im Folgenden sind beispielhaft einige Zeilen Python-Code dargestellt. Vieles ist vielleicht intuitiv verständlich, manches ist aber eventuell komplett unverständlich. Keine Sorge, am Ende dieses Seminars werden Sie alle Codebeispiele unten verstehen können! In den Zeilen die mit `In [.]` bezeichnet sind befinden sich Python-Befehle, darunter folgt das Ergebnis des jeweiligen Befehls (manchmal auch in mit `Out[.]` bezeichnet)."
   ]
  },
  {
   "cell_type": "code",
   "execution_count": 1,
   "metadata": {},
   "outputs": [
    {
     "name": "stdout",
     "output_type": "stream",
     "text": [
      "Hello World!\n"
     ]
    }
   ],
   "source": [
    "print(\"Hello World!\")"
   ]
  },
  {
   "cell_type": "code",
   "execution_count": 2,
   "metadata": {},
   "outputs": [
    {
     "name": "stdout",
     "output_type": "stream",
     "text": [
      "0, 1, 2, 3, 4, 5, 6, 7, 8, 9, "
     ]
    }
   ],
   "source": [
    "for i in range(10):\n",
    "    print(i, end=\", \")"
   ]
  },
  {
   "cell_type": "code",
   "execution_count": 3,
   "metadata": {},
   "outputs": [
    {
     "name": "stdout",
     "output_type": "stream",
     "text": [
      "0, 1, 2, 3, 4, 5, 6, 7, 8, 9\n"
     ]
    }
   ],
   "source": [
    "print(\", \".join([str(i) for i in range(10)]))"
   ]
  },
  {
   "cell_type": "code",
   "execution_count": 4,
   "metadata": {},
   "outputs": [
    {
     "data": {
      "text/plain": [
       "[0, 100, 400, 900, 1600, 2500, 3600, 4900, 6400, 8100]"
      ]
     },
     "execution_count": 4,
     "metadata": {},
     "output_type": "execute_result"
    }
   ],
   "source": [
    "[k**2 for k in range(0, 100, 10)]"
   ]
  },
  {
   "cell_type": "markdown",
   "metadata": {
    "collapsed": true
   },
   "source": [
    "## Installation\n",
    "Auf der [offiziellen Python-Website](https://www.python.org/) findet man alles rund um Python. Dort kann man auch Installationspakete für diverse Betriebssysteme herunterladen. Weiters gibt es dort auch eine sehr umfangreiche Dokumentation inklusive Beispielen und Tutorials.\n",
    "\n",
    "Die Installation bzw. die Wartung von Python kann mit den offiziellen Installationspaketen aber mitunter relativ aufwändig sein (vor allem auf Windows-Rechnern). Insbesondere im wissenschaftlichen Bereich hat es sich daher bewährt, die fertig geschnürte Python-Distribution [Anaconda](https://www.anaconda.com/download/) zu verwenden. Dabei handelt es sich um eine Sammlung abgestimmter und getesteter Komponenten, aber im Kern befindet sich Python in unveränderter Form. Mit Anaconda ist es oft einfacher, Python auf einem beliebigen System zu installieren und Zusatzpakete zu verwenden, da viele Pakete schon vorinstalliert sind.\n",
    "\n",
    "Für welche Installationsart man sich auch entscheidet, eine Frage muss man (leider) immer noch beantworten: Python 2 oder Python 3? Die kurze Antwort darauf: unbedingt Python 3!\n",
    "\n",
    "Wieso gibt es eigentlich immer noch zwei Python-Versionen? Bei der Entwicklung von Python 3 hat man sich entschieden, in manchen Bereichen nicht abwärtskompatibel zur Version 2 zu bleiben. Das bedeutet, dass Code, der in Python 3 geschrieben ist, nicht unbedingt auf Python 2 läuft (und umgekehrt). Die Unterschiede sind aber nicht so groß, und man kann durchaus Python-Code erstellen, der mit beiden Versionen läuft. Diese Entscheidung, nicht abwärtskompatibel zu bleiben, war sehr umstritten in der Python-Community. Es hat lange gedauert, bis große Python-Pakete für Python 3 erschienen sind. Daher entschieden sich viele Leute noch für Python 2, denn ansonsten gab es keine Möglichkeit viele wichtige Pakete zu verwenden. Mittlerweile gibt es aber alle großen Pakete für Python 3, sodass man nur noch in Ausnahmefällen auf Python 2 zurückgreifen muss. Darüber hinaus wird Python 2 auch nur mehr bis Anfang 2020 gewartet, danach wird die Entwicklung komplett eingestellt und nur mehr Python 3 weiterentwickelt. Viele Python-Pakete werden bereits jetzt nur mehr für Python 3 weiterentwickelt.\n",
    "\n",
    "In dieser Lehrveranstaltung werden wir ausschließlich Python 3 verwenden - stellen Sie daher bitte sicher, dass Sie diese Version benutzen um etwaige Probleme zu vermeiden."
   ]
  },
  {
   "cell_type": "markdown",
   "metadata": {},
   "source": [
    "## Erste Schritte\n",
    "\n",
    "Nachdem Sie Python installiert haben, starten Sie den Python-Interpreter. Dabei handelt es sich um eine textbasierte Anwendung (oft als Console bezeichnet), in der Sie Python-Befehle eintippen können. Die Ergebnisse der Befehle werden direkt nach Bestätigung mit der Eingabetaste angezeigt (ähnlich wie oben bei den Code-Beispielen zu sehen ist).\n",
    "\n",
    "Es gibt viele Möglichkeiten, den Python-Interpreter zu verwenden - mehr dazu in der nächsten Einheit. Fürs erste ist es am einfachsten, wenn Sie eine IPython-Console starten.\n",
    "\n",
    "Dies funktioniert unter Windows am einfachsten über das Windows-Startmenü durch Starten von \"IPython\" oder \"Jupyter QTConsole\" im Anaconda-Ordner.\n",
    "\n",
    "![](anaconda_start_menu.png)\n",
    "\n",
    "Unter macOS starten Sie am einfachsten den Anaconda Navigator (ein Link befindet sich am Desktop). Dort suchen Sie dann den Eintrag \"qtconsole\" und klicken dann auf \"Launch\". Sie können diese Vorgehensweise auch unter Windows verwenden.\n",
    "\n",
    "![](navigator.png)"
   ]
  },
  {
   "cell_type": "markdown",
   "metadata": {},
   "source": [
    "Wenn Sie dann eine IPython-Console geöffnet haben, sehen Sie ein Fenster vor sich, in dem Sie Python-Befehle eingeben können. Dieses Fenster sollte in etwa so aussehen:\n",
    "\n",
    "![](jupyter_qtconsole.png)"
   ]
  },
  {
   "cell_type": "markdown",
   "metadata": {},
   "source": [
    "Nun können Sie Python-Befehle eintippen und mit der Eingabetaste bestätigen. So können Sie Python z.B. als Taschenrechner verwenden:"
   ]
  },
  {
   "cell_type": "code",
   "execution_count": 5,
   "metadata": {},
   "outputs": [
    {
     "data": {
      "text/plain": [
       "2"
      ]
     },
     "execution_count": 5,
     "metadata": {},
     "output_type": "execute_result"
    }
   ],
   "source": [
    "1 + 1"
   ]
  },
  {
   "cell_type": "code",
   "execution_count": 6,
   "metadata": {},
   "outputs": [
    {
     "data": {
      "text/plain": [
       "3"
      ]
     },
     "execution_count": 6,
     "metadata": {},
     "output_type": "execute_result"
    }
   ],
   "source": [
    "10 - 7"
   ]
  },
  {
   "cell_type": "code",
   "execution_count": 7,
   "metadata": {},
   "outputs": [
    {
     "data": {
      "text/plain": [
       "56"
      ]
     },
     "execution_count": 7,
     "metadata": {},
     "output_type": "execute_result"
    }
   ],
   "source": [
    "7 * 8"
   ]
  },
  {
   "cell_type": "code",
   "execution_count": 8,
   "metadata": {},
   "outputs": [
    {
     "data": {
      "text/plain": [
       "17.142857142857142"
      ]
     },
     "execution_count": 8,
     "metadata": {},
     "output_type": "execute_result"
    }
   ],
   "source": [
    "120 / 7"
   ]
  },
  {
   "cell_type": "code",
   "execution_count": 9,
   "metadata": {},
   "outputs": [
    {
     "data": {
      "text/plain": [
       "17"
      ]
     },
     "execution_count": 9,
     "metadata": {},
     "output_type": "execute_result"
    }
   ],
   "source": [
    "120 // 7  # ganzzahlige Division"
   ]
  },
  {
   "cell_type": "code",
   "execution_count": 10,
   "metadata": {},
   "outputs": [
    {
     "data": {
      "text/plain": [
       "1"
      ]
     },
     "execution_count": 10,
     "metadata": {},
     "output_type": "execute_result"
    }
   ],
   "source": [
    "120 % 7  # ganzzahliger Rest der Division (Modulus)"
   ]
  },
  {
   "cell_type": "code",
   "execution_count": 11,
   "metadata": {},
   "outputs": [
    {
     "data": {
      "text/plain": [
       "18446744073709551616"
      ]
     },
     "execution_count": 11,
     "metadata": {},
     "output_type": "execute_result"
    }
   ],
   "source": [
    "2**64  # 2 hoch 64"
   ]
  },
  {
   "cell_type": "code",
   "execution_count": 12,
   "metadata": {},
   "outputs": [
    {
     "data": {
      "text/plain": [
       "149.0731707317073"
      ]
     },
     "execution_count": 12,
     "metadata": {},
     "output_type": "execute_result"
    }
   ],
   "source": [
    "(13 + 6) * 8 - 12 / (2.5 + 1.6)"
   ]
  },
  {
   "cell_type": "markdown",
   "metadata": {},
   "source": [
    "Bei der Eingabe von Zahlen ist darauf zu achten, dass Python die englische Zahlenschreibweise mit einem Punkt (`.`) als Dezimaltrennzeichen verwendet. Wenn Sie mathematische Funktionen verwenden möchten, müssen Sie zuerst das `math`-Modul importieren:"
   ]
  },
  {
   "cell_type": "code",
   "execution_count": 13,
   "metadata": {},
   "outputs": [],
   "source": [
    "import math"
   ]
  },
  {
   "cell_type": "markdown",
   "metadata": {},
   "source": [
    "Dann stehen Ihnen viele verschiedene Funktionen wie z.B. `sqrt` (Wurzel), `log` (Logarithmus) oder `sin` (Sinus) zur Verfügung, die man wie folgt verwendet:"
   ]
  },
  {
   "cell_type": "code",
   "execution_count": 14,
   "metadata": {},
   "outputs": [
    {
     "data": {
      "text/plain": [
       "1.4142135623730951"
      ]
     },
     "execution_count": 14,
     "metadata": {},
     "output_type": "execute_result"
    }
   ],
   "source": [
    "math.sqrt(2)"
   ]
  },
  {
   "cell_type": "code",
   "execution_count": 15,
   "metadata": {},
   "outputs": [
    {
     "data": {
      "text/plain": [
       "3.141592653589793"
      ]
     },
     "execution_count": 15,
     "metadata": {},
     "output_type": "execute_result"
    }
   ],
   "source": [
    "math.pi"
   ]
  },
  {
   "cell_type": "code",
   "execution_count": 16,
   "metadata": {},
   "outputs": [
    {
     "data": {
      "text/plain": [
       "8.974423397125074"
      ]
     },
     "execution_count": 16,
     "metadata": {},
     "output_type": "execute_result"
    }
   ],
   "source": [
    "1 + math.sqrt(5) * 7 - 2 * math.pi * 1.222"
   ]
  },
  {
   "cell_type": "markdown",
   "metadata": {},
   "source": [
    "## Anwendungsbeispiele\n",
    "Python wird für viele verschiedene Zwecke verwendet. Um Ihnen zu verdeutlichen, was man mit Python im Bereich der Psychologie und den Neurowissenschaften machen kann, sind hier einige prominente Beispiele angeführt, die vielleicht für Sie relevant sein könnten. Diese Auswahl ist jedoch bei weitem nicht vollständig und spiegelt vor allem meine persönliche Erfahrung wider.\n",
    "\n",
    "### Präsentation von Stimuli\n",
    "[PsychoPy](http://www.psychopy.org/) ist ein Programm zur Präsentation von Stimuli für psychophysiologische Untersuchungen. Beispielsweise kann man mit PsychoPy Paradigmen erstellen, die die Reaktionszeiten von Personen testen. Das Programm kann aber auch für fMRI- bzw. EEG-Untersuchungen verwendet werden, um die dort benötigten (visuellen bzw. auditorischen) Stimuli der Versuchsperson zeitpräzise zu präsentieren. PsychoPy kann über eine grafische Oberfläche bedient werden, aber spezielle Versuchsdesigns, die über die Standardparadigmen hinausgehen, programmiert man direkt in Python. Leider ist PsychoPy eines der letzten Pakete, die nur mit Python 2 laufen - Entwicklungen zur Portierung auf Python 3 sind aber im Laufen.\n",
    "\n",
    "![](psychopy.png)\n",
    "\n",
    "Alternativen zu PsychoPy sind die ebenfalls in Python geschriebenen Tools [Expyriment](https://github.com/expyriment/expyriment) und [OpenSesame](http://osdoc.cogsci.nl/)."
   ]
  },
  {
   "cell_type": "markdown",
   "metadata": {},
   "source": [
    "### Neurowissenschaften\n",
    "\n",
    "Python ist sehr populär in den Neurowissenschaften. Auf der [NIPY-Website](http://nipy.org/) (Neuroimaging for Python) haben sich einzelne Projekte zusammengeschlossen, welche spezifische Aufgaben im Bereich der Neurowissenschaften abdecken. Besonders viele Pakete gibt es für die Auswertung von fMRI-Daten. Hier gibt es z.B. [NiBabel](http://nipy.org/nibabel/) zum Einlesen verschiedenster Neuroimaging-Datenformate, [Nipype](http://www.mit.edu/~satra/nipype-nightly/) zur einheitlichen Verwendung verschiedenster fMRI-Analyseprogramme wie SPM oder FSL, [Dipy](http://nipy.org/dipy/) zur Auswertung von Diffusions-MRI, sowie [Nipy](http://nipy.org/nipy/), [Nitime](http://nipy.org/nitime/), [Nilearn](http://nilearn.github.io/) und [PyMVPA](http://www.pymvpa.org/) zur Analyse von fMRI-Daten.\n",
    "\n",
    "![](nilearn.png)\n",
    "\n",
    "[MNE-Python](http://mne-tools.github.io/stable/index.html) kann man zur Analyse von EEG- bzw. MEG-Signalen verwenden. Es werden eine Vielzahl an Methoden unterstützt, welche in der Verarbeitung von elektrophysiologischen Gehirnsignalen eine Rolle spielen, wie z.B. Filterung, Artefaktbereinigung, Quelllokalisation und Konnektivitätsanalysen. Für gerichtete Konnektivitätsanalysen zwischen kortikalen Quellen gibt es [SCoT](https://github.com/scot-dev/scot) (Source Connectivity Toolbox).\n",
    "\n",
    "![](scot.png)"
   ]
  },
  {
   "cell_type": "markdown",
   "metadata": {},
   "source": [
    "### Statistische Datenanalyse\n",
    "Zur statistischen Auswertung von Daten gibt es in Python eine große Anzahl an Paketen. Besonders populär sind für diese Zwecke [NumPy](http://www.numpy.org/), [SciPy](https://www.scipy.org/scipylib/index.html), [Pandas](http://pandas.pydata.org/), [Statsmodels](http://www.statsmodels.org/stable/index.html) und [Matplotlib](https://matplotlib.org/). Einige dieser Pakete werden wir im Rahmen dieses Seminars kennenlernen (zumindest oberflächlich).\n",
    "\n",
    "![](scatter.png)"
   ]
  },
  {
   "cell_type": "markdown",
   "metadata": {},
   "source": [
    "### Grafische Oberflächen\n",
    "In Python kann man auch Programme mit grafischen Oberflächen erstellen. Ein Beispiel dafür werden wir demnächst kennenlernen: [Spyder](https://github.com/spyder-ide/spyder), eine Oberfläche zum Programmieren mit Python, welche selbst komplett in Python geschrieben ist.\n",
    "\n",
    "![](spyder.png)"
   ]
  },
  {
   "cell_type": "markdown",
   "metadata": {},
   "source": [
    "## Hausübung\n",
    "Geben Sie diese Hausübung als PDF-Datei in Moodle ab. Verwenden Sie für den Namen Ihrer Datei bitte folgendes Schema:\n",
    "\n",
    "*Nachname1*_*Nachname2*-HUE01.pdf\n",
    "\n",
    "Die Nachnamen sollten alphabetisch geordnet sein, egal wer die Hausübung hochlädt.\n",
    "\n",
    "Führen Sie neben den Ergebnissen bitte auch die Python-Befehle an, die Sie zur Lösung verwendet haben (das können Sie zum Beispiel mit Screenshots machen).\n",
    "\n",
    "### Übung 1\n",
    "Installieren Sie Python 3 mittels Anaconda auf Ihrem Rechner. Starten Sie dann den Python-Interpreter (am einfachsten über den Anaconda Navigator), beispielsweise mit dem Programm *ipython-qtconsole*. Welche Version von Python meldet der Interpreter? Fertigen Sie einen Screenshot an, wo diese Versionsnummer ersichtlich ist.\n",
    "\n",
    "### Übung 2\n",
    "Tippen Sie im Python-Interpreter `import antigravity` ein. Was passiert? Was geschieht, wenn Sie `import this` eingeben?\n",
    "\n",
    "### Übung 3\n",
    "Berechnen Sie mit Python das Ergebnis der Division 619 : 65. Berechnen Sie außerdem das ganzzahlige Ergebnis und den Rest.\n",
    "\n",
    "### Übung 4\n",
    "Gegeben seien folgende Messwerte: 11, 27, 15, 10, 32, 18, 25, 22, 29, 11. Berechnen Sie deren Mittelwert $\\bar{x}$. Verwenden Sie dafür keine fertigen Funktionen, sondern nur Grundrechenarten.\n",
    "\n",
    "### Übung 5\n",
    "Berechnen Sie in Python das Ergebnis des folgenden Ausdrucks:\n",
    "\n",
    "$$\\sqrt 2 \\cdot \\frac{(5^3 - 2) \\cdot \\sqrt{18}}{\\left(\\frac{7}{5} + 13.2 \\right) \\cdot 7^\\frac{2}{3}}$$\n",
    "\n",
    "*Hinweis:* Das richtige Ergebnis liegt zwischen 12 und 14."
   ]
  }
 ],
 "metadata": {
  "anaconda-cloud": {},
  "kernelspec": {
   "display_name": "Python 3",
   "language": "python",
   "name": "python3"
  },
  "language_info": {
   "codemirror_mode": {
    "name": "ipython",
    "version": 3
   },
   "file_extension": ".py",
   "mimetype": "text/x-python",
   "name": "python",
   "nbconvert_exporter": "python",
   "pygments_lexer": "ipython3",
   "version": "3.6.4"
  }
 },
 "nbformat": 4,
 "nbformat_minor": 1
}
