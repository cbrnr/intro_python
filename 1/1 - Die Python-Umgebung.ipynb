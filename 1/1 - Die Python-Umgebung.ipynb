{
 "cells": [
  {
   "cell_type": "markdown",
   "metadata": {},
   "source": [
    "_Einführung in Python, Clemens Brunner, 19.10.2017_\n",
    "\n",
    "# 1 - Die Python-Umgebung"
   ]
  },
  {
   "cell_type": "markdown",
   "metadata": {},
   "source": [
    "## Aufbau von Python\n",
    "Python besteht aus der Programmiersprache Python, einem Interpreter (welcher Python-Programme ausführen kann), und einer umfangreichen [Standardbibliothek](https://docs.python.org/3/library/). Python selbst bringt nur sehr grundlegende Befehle mit, wie z.B. `for`-Schleifen, `if`-Abfragen und andere fest eingebaute Funktionen.\n",
    "\n",
    "Darüber hinaus finden sich sehr viele Funktionen in der Standardbibliothek. Diese wird standardmäßig mit Python mitgeliefert und deckt unter anderem Gebiete wie Ein-/Ausgabe, Manipulation von regulären Ausdrücken, erweiterte Datentypen, mathematische Funktionen, Internetprotokolle, und grafische Benutzerschnittstellen ab.\n",
    "\n",
    "Schließlich gibt es noch tausende zusätzliche Python-Pakete, die sehr einfach zu einer existierenden Python-Umgebung hinzugefügt werden können. Der [Python Package Index (PyPI)](https://pypi.python.org/pypi) sammelt alle verfügbaren Pakete an einer zentralen Stelle.\n",
    "\n",
    "![](python_blocks.png)"
   ]
  },
  {
   "cell_type": "markdown",
   "metadata": {},
   "source": [
    "## Anaconda\n",
    "Wie bereits in der ersten Einheit erwähnt, handelt es sich bei [Anaconda Python](https://www.continuum.io/downloads) um eine einfach zu installierende und einfach zu wartende Python-Umgebung. Neben Python selbst beinhaltet Anaconda Python auch eine große Anzahl an getesteten zusätzlichen Paketen.\n",
    "\n",
    "Manchmal ist es aber notwendig, ein zusätzliches Python-Paket zu installieren, welches nicht standardmäßig in einer Anaconda-Installation enthalten ist. Außerdem sollte Anaconda (wie jede Python-Umgebung) regelmäßig gewartet werden, d.h. veraltete Pakete sollten aktualisiert werden. Auch wenn eine neue Python-Version erscheint, sollte man diese in aller Regel verwenden, d.h. man muss die bestehende Version aktualisieren.\n",
    "\n",
    "### conda\n",
    "All diese Tätigkeiten lassen sich mit den in Anaconda vorhandenen Werkzeugen durchführen. Dazu steht das Kommandozeilenprogramm `conda` zur Verfügung. Um es zu verwenden, muss eine Kommandozeile (oft auch Eingabeaufforderung oder Terminal genannt) geöffnet werden. Dies ist je nach Betriebssystem leicht unterschiedlich:\n",
    "\n",
    "- Unter Windows gibt es im Startmenü einen Eintrag im Anaconda-Ordner namens \"Anaconda Prompt\". Dabei handelt es sich um eine normale Eingabeaufforderung, die jedoch den `conda`-Befehl kennt.\n",
    "- Unter Mac OS X startet man das Programm \"Terminal\".\n",
    "- Unter Linux startet man ebenfalls ein Terminal.\n",
    "\n",
    "In diesem Terminal-Fenster kann man nun Befehle eintippen. Um zu testen, ob `conda` funktioniert und welche Version installiert ist, gibt man folgenden Befehl ein:\n",
    "\n",
    "    conda --version\n",
    "\n",
    "Wenn man hier eine Versionsnummer rückgemeldet bekommt, wurde `conda` gefunden und es funktioniert alles. Um immer am aktuellsten Stand zu sein, sollte man `conda` selbst regelmäßig aktualisieren:\n",
    "\n",
    "    conda update conda\n",
    "\n",
    "Auch Anaconda (d.h. die Kombination aus Python und vielen aufeinander abgestimmten Zusatzpaketen) sollte man aktuell halten:\n",
    "\n",
    "    conda update anaconda\n",
    "\n",
    "Das `conda`-Werkzeug ist sehr mächtig und kann auch zum Verwalten mehrerer parallel installierter Python-Umgebungen verwendet werden. Darauf werden wir hier aber nicht eingehen; für den Anfang reicht es, wenn wir uns nur mit der Standard-Python-Umgebung beschäftigen (mehr Informationen zum Verwalten von Umgebungen gibt es in der [offiziellen conda-Dokumentation](http://conda.pydata.org/docs/using/index.html)).\n",
    "\n",
    "Eine Liste aller installierten Python-Pakete erhält man mit:\n",
    "\n",
    "    conda list\n",
    "\n",
    "Ein Paket namens `package_name` sucht man mit:\n",
    "\n",
    "    conda search package_name\n",
    "    \n",
    "Möchte man ein neues Paket installieren, kann man dies einfach wie folgt tun:\n",
    "\n",
    "    conda install package_name\n",
    "\n",
    "Ein installiertes Paket kann man ebenso leicht wieder deinstallieren mit:\n",
    "\n",
    "    conda uninstall package_name\n",
    "\n",
    "### pip\n",
    "Verglichen mit der Anzahl an Python-Paketen auf [PyPI](https://pypi.python.org/pypi) gibt es nur relativ wenig Pakete in Anaconda. Wenn man einmal ein Paket installieren möchte, welches nicht in Anaconda verfügbar ist, kann man das mit dem Standard-Python-Tool `pip` machen. `pip` funktioniert ähnlich wie `conda`:\n",
    "\n",
    "    pip search package_name\n",
    "    pip install package_name\n",
    "    pip uninstall package_name\n",
    "\n",
    "Pakete, die in Anaconda enthalten sind, sollte man aber auf jeden Fall mit `conda` installieren.\n",
    "\n",
    "### Anaconda Navigator\n",
    "Der Anaconda Navigator bietet eine grafische Oberfläche für viele der oben beschriebenen Aufgaben. Beispielsweise kann man sich eine Liste aller installierten Pakete bzw. aller verfügbaren Pakete anzeigen lassen. Man kann Anaconda-Pakete installieren, nicht jedoch Pakete, die nur via `pip` verfügbar sind."
   ]
  },
  {
   "cell_type": "markdown",
   "metadata": {},
   "source": [
    "## Python-Interpreter\n",
    "Der Python-Interpreter führt Python-Befehle aus. Er kann auf zwei unterschiedliche Arten verwendet werden:\n",
    "\n",
    "- Interaktiver Modus\n",
    "- Script-Modus\n",
    "\n",
    "Im interaktiven Modus hat man die Möglichkeit, einzelne Python-Befehle einzugeben; diese werden sofort ausgeführt. Ein Prompt signalisiert im interaktiven Modus, dass Befehle eingegeben werden können. Der Prompt sieht üblicherweise wie folgt aus:\n",
    "\n",
    "- `>>>` (im interaktiven Standard-Python-Interpreter)\n",
    "- `In [1]:` (in IPython, einem erweiterten interaktiven Python-Interpreter)\n",
    "\n",
    "Der interaktive Modus ist praktisch zum Ausprobieren von Befehlen, eignet sich aber nicht zur Erstellung längerer Programme. Programme (auch Scripts genannt) sind einfache Textdateien mit der Endung `.py`, welche Python-Befehle enthalten (jeweils ein Befehl pro Zeile). Diese Scripts können dem Python-Interpreter übergeben werden, welcher dann das gesamte Script Zeile für Zeile ausführt. Der Interpreter befindet sich dann im Script-Modus.\n",
    "\n",
    "Ein wesentlicher Unterschied zwischen interaktivem und Script-Modus ist, dass nur im interaktiven Modus Werte automatisch ausgegeben werden:"
   ]
  },
  {
   "cell_type": "code",
   "execution_count": 1,
   "metadata": {},
   "outputs": [
    {
     "data": {
      "text/plain": [
       "5"
      ]
     },
     "execution_count": 1,
     "metadata": {},
     "output_type": "execute_result"
    }
   ],
   "source": [
    "5"
   ]
  },
  {
   "cell_type": "markdown",
   "metadata": {},
   "source": [
    "Hier sieht man, dass nach der Eingabe der Zahl 5 der Wert dieser Zahl automatisch ausgegeben wird. In einem Script würde eine Zeile mit dem Inhalt `5` keine Ausgabe bewirken."
   ]
  },
  {
   "cell_type": "markdown",
   "metadata": {},
   "source": [
    "## Arbeitsverzeichnis (Working Directory)\n",
    "Der Python-Interpreter arbeitet immer im aktuellen Verzeichnis, dem sogenannten Arbeitsverzeichnis (Working Directory). Das Arbeitsverzeichnis ist wichtig, da Python annimmt, dass sich eigene Dateien (wie Scripts oder Module) in diesem Verzeichnis befinden.\n",
    "\n",
    "Das aktuelle Arbeitsverzeichnis findet man mit `os.getcwd` heraus:"
   ]
  },
  {
   "cell_type": "code",
   "execution_count": 2,
   "metadata": {},
   "outputs": [
    {
     "data": {
      "text/plain": [
       "'/Users/clemens/Repositories/python_intro/1'"
      ]
     },
     "execution_count": 2,
     "metadata": {},
     "output_type": "execute_result"
    }
   ],
   "source": [
    "import os\n",
    "\n",
    "os.getcwd()"
   ]
  },
  {
   "cell_type": "markdown",
   "metadata": {},
   "source": [
    "Eigene Scripts bzw. Module sollten immer in diesem Verzeichnis sein. Mit `os.chdir` kann man das Arbeitsverzeichnis wechseln:"
   ]
  },
  {
   "cell_type": "code",
   "execution_count": 3,
   "metadata": {},
   "outputs": [],
   "source": [
    "os.chdir(\"/Users/clemens/Repositories/python_intro\")"
   ]
  },
  {
   "cell_type": "markdown",
   "metadata": {},
   "source": [
    "Überprüfen wir, ob der vorige Befehl den gewünschten Effekt gehabt hat:"
   ]
  },
  {
   "cell_type": "code",
   "execution_count": 4,
   "metadata": {},
   "outputs": [
    {
     "data": {
      "text/plain": [
       "'/Users/clemens/Repositories/python_intro'"
      ]
     },
     "execution_count": 4,
     "metadata": {},
     "output_type": "execute_result"
    }
   ],
   "source": [
    "os.getcwd()"
   ]
  },
  {
   "cell_type": "markdown",
   "metadata": {},
   "source": [
    "In den meisten Entwicklungsumgebungen kann man das Arbeitsverzeichnis auch über die grafische Oberfläche sehen bzw. wechseln. Wenn man Python von der Kommandozeile aus startet, ist es sinnvoll, zuerst in das gewünschte Verzeichnis zu wechseln und dann Python zu starten - denn das Arbeitsverzeichnis ist im Allgemeinen jenes, aus dem Python gestartet wurde.\n",
    "\n",
    "Wenn man IPython verwendet, kann das aktuelle Arbeitsverzeichnis mit `pwd` anzeigen lassen. Verzeichnisse wechseln kann man dann mit `cd`."
   ]
  },
  {
   "cell_type": "code",
   "execution_count": 5,
   "metadata": {},
   "outputs": [
    {
     "data": {
      "text/plain": [
       "'/Users/clemens/Repositories/python_intro'"
      ]
     },
     "execution_count": 5,
     "metadata": {},
     "output_type": "execute_result"
    }
   ],
   "source": [
    "pwd"
   ]
  },
  {
   "cell_type": "code",
   "execution_count": 6,
   "metadata": {},
   "outputs": [
    {
     "name": "stdout",
     "output_type": "stream",
     "text": [
      "/Users/clemens/Repositories/python_intro/1\n"
     ]
    }
   ],
   "source": [
    "cd 1"
   ]
  },
  {
   "cell_type": "markdown",
   "metadata": {},
   "source": [
    "## Syntax\n",
    "Unter Syntax versteht man die Regeln, wie man aus grundlegenden Zeichen gültige Konstruktionen erzeugt. Es gibt sowohl für natürliche Sprachen (wie deutsch oder englisch) als auch für formale Sprachen (Programmiersprachen) eine entsprechende Syntax.\n",
    "\n",
    "Wie bereits erwähnt, speichert man ein Python-Programm bzw. ein Python-Script in eine Textdatei mit der Endung `.py`. Ein spezielles Merkmal der Syntax von Python ist, dass Einrückungen Bedeutung haben - sie definieren Blöcke von zusammengehörigen Code. Die meisten anderen Programmiersprachen verwenden dafür spezielle Zeichen oder Schlüsselwörter wie z.B. `begin`, `end`, `{` oder `}`. Durch Einrückungen benötigt Python diese Zeichen nicht und der Code wird dadurch strukturierter und kürzer. Dies ist im folgenden Codebeispiel dargestellt (bitte achten Sie nur auf die Struktur, der Inhalt/die Bedeutung des Codebeispiels ist nicht relevant):"
   ]
  },
  {
   "cell_type": "code",
   "execution_count": 7,
   "metadata": {},
   "outputs": [
    {
     "name": "stdout",
     "output_type": "stream",
     "text": [
      "0\n",
      "1\n",
      "Odd\n",
      "2\n",
      "3\n",
      "Odd\n",
      "4\n",
      "5\n",
      "Odd\n",
      "3\n"
     ]
    }
   ],
   "source": [
    "# this is a comment\n",
    "def do_something(n_times=10):\n",
    "    counter = 0\n",
    "    for i in range(n_times):\n",
    "        print(i)\n",
    "        if i % 2:  # odd number\n",
    "            counter += 1\n",
    "            print(\"Odd\")\n",
    "    return counter\n",
    "\n",
    "counter = do_something(6)\n",
    "print(counter)"
   ]
  },
  {
   "cell_type": "markdown",
   "metadata": {},
   "source": [
    "Es ist üblich, für eine Einrückung vier Leerzeichen (keine Tabulatoren) zu verwenden. Keinesfalls sollte man verschiedene Einrückungen mischen (z.B. vier Leerzeichen, Tabulatoren, zwei Leerzeichen) - dies kann zu überraschenden Fehlermeldungen führen.\n",
    "\n",
    "Im Beispiel oben sieht man auch Kommentare. Diese werden durch ein `#`-Zeichen eingeleitet. Alles, was danach folgt, wird von Python bis zum Zeilenende ignoriert, d.h. so kann man umgangsprachliche Kommentare zur Erklärung des Codes hinzufügen.\n",
    "\n",
    "Weiters sieht man im obigen Beispiel noch die Verwendung von Funktionen - diese werden mit ihrem Namen und den Argumenten in Klammern aufgerufen, z.B.\n",
    "\n",
    "    print(counter)\n",
    "\n",
    "Hier ist `print` der Name der Funktion und `counter` ist das Argument für die Funktion. Es gibt auch Funktionen ohne Argumente, diese müssen aber trotzdem mit den Klammern aufgerufen werden, z.B.\n",
    "\n",
    "    print()\n",
    "\n",
    "Mehr zu Funktionen werden wir in einer der nächsten Einheiten erfahren.\n",
    "\n",
    "Zusätzlich zur Syntax haben sich Konventionen durchgesetzt, wie man schön formatierten Code schreibt. Z.B. verwendet man für Einrückungen vier Leerzeichen, nach dem Kommentarzeichen `#` soll ein Leerzeichen folgen, die maximale Zeilenlänge soll 79 Zeichen nicht überschreiten, und so weiter. All diese Regeln sind im [Python Enhancement Proposal 8 (PEP8)](https://www.python.org/dev/peps/pep-0008/) zusammengefasst. Obwohl das Einhalten der Konventionen nicht erforderlich ist (die Syntax ist davon ja nicht betroffen), ist es sehr zu empfehlen, sich daran zu halten, da dies die Lesbarkeit des Codes stark erhöht."
   ]
  },
  {
   "cell_type": "markdown",
   "metadata": {},
   "source": [
    "## Editoren\n",
    "Python-Scripts bearbeitet man mit Texteditoren. Prinzipiell sind Python-Scripts ganz normale Textdateien, d.h. sie können mit jedem Texteditor geöffnet werden. Dennoch sollte man einen Editor verwenden, welcher das Editieren möglichst komfortabel gestaltet. Gute Editoren bieten Syntax Highlighting, verwenden automatisch vier Leerzeichen zur Einrückung, zeigen die Zeilennummern an, kontrollieren die Einhaltung von PEP8, usw.\n",
    "\n",
    "Kostenlose Editoren, die sich gut zum Schreiben von Python-Scripts eignen, sind:\n",
    "\n",
    "- [Atom](https://atom.io/) (Windows, macOS, Linux)\n",
    "- [Visual Studio Code](Visual Studio Code) (Windows, macOS, Linux)\n",
    "- [Sublime Text](https://www.sublimetext.com/) (Windows, macOS, Linux)\n",
    "- [Notepad++](https://notepad-plus-plus.org/) (Windows)\n",
    "- [gedit](https://wiki.gnome.org/Apps/Gedit), [kate](http://kate-editor.org/) (Linux)\n",
    "\n",
    "Nicht geeignet sind Textverarbeitungsprogramme wie Microsoft Word oder LibreOffice Writer. Auch die mit Windows bzw. macOS mitgelieferten Editoren Notepad bzw. TextEdit sollte man nicht verwenden."
   ]
  },
  {
   "cell_type": "markdown",
   "metadata": {},
   "source": [
    "## Entwicklungsumgebungen\n",
    "Entwicklungsumgebungen vereinen Editoren mit der Möglichkeit, Code direkt in einem integrierten Python-Interpreter auszuführen. So muss man also nicht immer zwischen zwei Programmen (Editor und Interpreter) wechseln, wenn man Python-Scripts schreibt. Entwicklungsumgebungen enthalten noch viele weitere praktische Funktionen, die das Schreiben von Programmen erleichtern, wie z.B. eine integrierte kontextsensitive Hilfe, automatische Vervollständigung, automatische Überprüfung der Syntax, Code-Analyse, eingebaute Debugger, und vieles mehr.\n",
    "\n",
    "Kostenlose Entwicklungsumgebungen für Python gibt es einige, die folgenden zwei werden von vielen Python-Anwendern verwendet:\n",
    "\n",
    "- [PyCharm](https://www.jetbrains.com/pycharm/)\n",
    "- [Spyder](https://github.com/spyder-ide/spyder)\n",
    "\n",
    "Beide Programme sind kostenlos erhältlich. PyCharm richtet sich dabei eher an fortgeschrittene Programmierer, welche umfangreiche Programme designen und entwickeln wollen. Spyder eignet sich sehr gut für den wissenschaftlichen Bereich, d.h. für interaktives Arbeiten mit Daten. Spyder ist übrigens komplett in Python geschrieben und ist auch standardmäßig bei Anaconda Python installiert.\n",
    "\n",
    "Für den Einstieg ist Spyder sicher eine gute Wahl. Im Bild unten sieht man den Aufbau von Spyder: Links befindet sich ein Editor zum Bearbeiten von Python-Scripts, rechts unten befindet sich der Python-Interpreter (IPython). Hier kann man auch auf eine Liste aller eingetippten Befehle umschalten (History). Rechts oben werden hilfreiche Informationen angezeigt, wie z.B. eine kontextsensitive Hilfe, eine Auflistung aller Variablen und ein Dateimanager.\n",
    "\n",
    "![](spyder.png)\n",
    "\n",
    "PyCharm ist für den Einstieg etwas unübersichtlich, da die Oberfläche mit sehr vielen Funktionen ausgestattet ist. Gerade als Python-Neuling benötigt man aber die meisten Funktionen von PyCharm noch nicht. Daher gibt es eine spezielle Variante namens [PyCharm Edu](https://www.jetbrains.com/pycharm-edu/), welche speziell für Leute gedacht ist, die gerade Python lernen. Es handelt sich dabei um eine vollwertige Version von PyCharm, welche aber eine einfachere Oberfläche, die sich auf die wesentlichen Funktionen beschränkt, enthält. Außerdem kann man mit den in PyCharm Edu integrierten Tutorials interaktiv Python lernen.\n",
    "\n",
    "![](pce.png)"
   ]
  },
  {
   "cell_type": "markdown",
   "metadata": {},
   "source": [
    "## Hilfe"
   ]
  },
  {
   "cell_type": "markdown",
   "metadata": {
    "collapsed": true
   },
   "source": [
    "### Integrierte Hilfe\n",
    "Hilfe zu Python-Befehlen kann man direkt im Python-Interpreter bekommen. Dazu tippt man einfach folgenden Befehl ein:"
   ]
  },
  {
   "cell_type": "code",
   "execution_count": 8,
   "metadata": {},
   "outputs": [
    {
     "name": "stdout",
     "output_type": "stream",
     "text": [
      "\n",
      "Welcome to Python 3.6's help utility!\n",
      "\n",
      "If this is your first time using Python, you should definitely check out\n",
      "the tutorial on the Internet at http://docs.python.org/3.6/tutorial/.\n",
      "\n",
      "Enter the name of any module, keyword, or topic to get help on writing\n",
      "Python programs and using Python modules.  To quit this help utility and\n",
      "return to the interpreter, just type \"quit\".\n",
      "\n",
      "To get a list of available modules, keywords, symbols, or topics, type\n",
      "\"modules\", \"keywords\", \"symbols\", or \"topics\".  Each module also comes\n",
      "with a one-line summary of what it does; to list the modules whose name\n",
      "or summary contain a given string such as \"spam\", type \"modules spam\".\n",
      "\n",
      "help> q\n",
      "\n",
      "You are now leaving help and returning to the Python interpreter.\n",
      "If you want to ask for help on a particular object directly from the\n",
      "interpreter, you can type \"help(object)\".  Executing \"help('string')\"\n",
      "has the same effect as typing a particular string at the help> prompt.\n"
     ]
    }
   ],
   "source": [
    "help()"
   ]
  },
  {
   "cell_type": "markdown",
   "metadata": {},
   "source": [
    "Das integrierte Hilfesystem bietet einen guten Überblick über diverse Themen und kann verwendet werden, um direkt Hilfe zu einem bestimmten Befehl zu erhalten:"
   ]
  },
  {
   "cell_type": "code",
   "execution_count": 9,
   "metadata": {},
   "outputs": [
    {
     "name": "stdout",
     "output_type": "stream",
     "text": [
      "Help on built-in function print in module builtins:\n",
      "\n",
      "print(...)\n",
      "    print(value, ..., sep=' ', end='\\n', file=sys.stdout, flush=False)\n",
      "    \n",
      "    Prints the values to a stream, or to sys.stdout by default.\n",
      "    Optional keyword arguments:\n",
      "    file:  a file-like object (stream); defaults to the current sys.stdout.\n",
      "    sep:   string inserted between values, default a space.\n",
      "    end:   string appended after the last value, default a newline.\n",
      "    flush: whether to forcibly flush the stream.\n",
      "\n"
     ]
    }
   ],
   "source": [
    "help(print)"
   ]
  },
  {
   "cell_type": "markdown",
   "metadata": {},
   "source": [
    "In IPython kann man dafür auch folgende alternative Schreibweisen verwenden:\n",
    "\n",
    "- `?print`\n",
    "- `print?`"
   ]
  },
  {
   "cell_type": "markdown",
   "metadata": {},
   "source": [
    "Zusätzlich zur integrierten Hilfe bieten Entwicklungsumgebungen wie Spyder oder PyCharm darüber hinausgehende Möglichkeiten."
   ]
  },
  {
   "cell_type": "markdown",
   "metadata": {},
   "source": [
    "### Online Hilfe\n",
    "Einen guten Überblick bietet die [offizielle Python-Dokumentation](https://docs.python.org/3/). Hier werden die allermeisten Themengebiete rund um Python sehr umfangreich beschrieben. Auch das [Tutorial](https://docs.python.org/3/tutorial/index.html) ist sehr zu empfehlen.\n",
    "\n",
    "Durch die große und sehr aktive Community rund um Python findet man mit einer Google-Suche sehr viel zu den allermeisten Fragen. Sehr hochwertige Antworten findet man meist auf [StackOverflow](http://stackoverflow.com/questions/tagged/python).\n",
    "\n",
    "### Online Kurse\n",
    "- [Learn to Program: The Fundamentals](https://www.coursera.org/learn/learn-to-program)\n",
    "- [Learn to Program: Crafting Quality Code](https://www.coursera.org/learn/program-code)\n",
    "- [Programming for Everybody (Getting Started with Python)](https://www.coursera.org/learn/python)\n",
    "- [Python Data Structures](https://www.coursera.org/learn/python-data)\n",
    "- [An Introduction to Interactive Programming in Python (Part 1)](https://www.coursera.org/learn/interactive-python-1)\n",
    "- [An Introduction to Interactive Programming in Python (Part 2)](https://www.coursera.org/learn/interactive-python-2)\n",
    "- [Python at Codecademy](https://www.codecademy.com/learn/python)\n",
    "- [Learn Python](http://www.learnpython.org/)\n",
    "\n",
    "### Bücher\n",
    "- [Think Python](http://greenteapress.com/wp/think-python/)\n",
    "- [A Byte of Python](http://python.swaroopch.com/)\n",
    "- [Python for You and Me](http://pymbook.readthedocs.io/en/latest/)"
   ]
  }
 ],
 "metadata": {
  "anaconda-cloud": {},
  "kernelspec": {
   "display_name": "Python 3",
   "language": "python",
   "name": "python3"
  },
  "language_info": {
   "codemirror_mode": {
    "name": "ipython",
    "version": 3
   },
   "file_extension": ".py",
   "mimetype": "text/x-python",
   "name": "python",
   "nbconvert_exporter": "python",
   "pygments_lexer": "ipython3",
   "version": "3.6.3"
  }
 },
 "nbformat": 4,
 "nbformat_minor": 1
}
