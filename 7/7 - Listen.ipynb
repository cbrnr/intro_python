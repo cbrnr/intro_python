{
 "cells": [
  {
   "cell_type": "markdown",
   "metadata": {},
   "source": [
    "_Einführung in Python, Clemens Brunner, 29.11.2018_\n",
    "\n",
    "# 7 - Listen"
   ]
  },
  {
   "cell_type": "markdown",
   "metadata": {},
   "source": [
    "## Listen erstellen\n",
    "Eine Liste (Datentyp `list`) ist wie ein String (Datentyp `str`) ein Sequenzdatentyp. Im Gegensatz zu einem String kann eine Liste aber Elemente mit unterschiedlichen Datentypen enthalten, z.B. Strings, Zahlen, weitere Listen, und so weiter. Eine Liste erstellt man mit eckigen Klammern, innerhalb derer die einzelnen Elemente durch Kommas getrennt angegeben werden:"
   ]
  },
  {
   "cell_type": "code",
   "execution_count": 1,
   "metadata": {},
   "outputs": [],
   "source": [
    "x = [23, \"Hallo\", \"test\", 1.44, True]"
   ]
  },
  {
   "cell_type": "code",
   "execution_count": 2,
   "metadata": {},
   "outputs": [],
   "source": [
    "y = [1, \"1\", [1, 2, 3], [\"test\", False, [True, True, 2, 4]]]"
   ]
  },
  {
   "cell_type": "markdown",
   "metadata": {},
   "source": [
    "## Indizieren und Slicen\n",
    "Der Zugriff auf einzelne (bzw. mehrere) Elemente funktioniert genau wie bei Strings durch Indizierung (bzw. Slicen) mit eckigen Klammern."
   ]
  },
  {
   "cell_type": "code",
   "execution_count": 3,
   "metadata": {},
   "outputs": [
    {
     "data": {
      "text/plain": [
       "23"
      ]
     },
     "execution_count": 3,
     "metadata": {},
     "output_type": "execute_result"
    }
   ],
   "source": [
    "x[0]  # erstes Element"
   ]
  },
  {
   "cell_type": "code",
   "execution_count": 4,
   "metadata": {},
   "outputs": [
    {
     "data": {
      "text/plain": [
       "1.44"
      ]
     },
     "execution_count": 4,
     "metadata": {},
     "output_type": "execute_result"
    }
   ],
   "source": [
    "x[-2]  # vorletztes Element"
   ]
  },
  {
   "cell_type": "code",
   "execution_count": 5,
   "metadata": {},
   "outputs": [
    {
     "data": {
      "text/plain": [
       "['Hallo', 'test', 1.44]"
      ]
     },
     "execution_count": 5,
     "metadata": {},
     "output_type": "execute_result"
    }
   ],
   "source": [
    "x[1:4]  # drei Elemente"
   ]
  },
  {
   "cell_type": "code",
   "execution_count": 6,
   "metadata": {},
   "outputs": [
    {
     "data": {
      "text/plain": [
       "[True, 1.44, 'test', 'Hallo', 23]"
      ]
     },
     "execution_count": 6,
     "metadata": {},
     "output_type": "execute_result"
    }
   ],
   "source": [
    "x[::-1]  # ganze Liste in umgekehrter Reihenfolge"
   ]
  },
  {
   "cell_type": "markdown",
   "metadata": {},
   "source": [
    "## Arbeiten mit Listen\n",
    "Wie bei Strings gibt die Funktion `len` die Länge der Liste (also die Anzahl der Elemente in der Liste) zurück."
   ]
  },
  {
   "cell_type": "code",
   "execution_count": 7,
   "metadata": {},
   "outputs": [
    {
     "data": {
      "text/plain": [
       "5"
      ]
     },
     "execution_count": 7,
     "metadata": {},
     "output_type": "execute_result"
    }
   ],
   "source": [
    "len(x)"
   ]
  },
  {
   "cell_type": "code",
   "execution_count": 8,
   "metadata": {},
   "outputs": [
    {
     "data": {
      "text/plain": [
       "4"
      ]
     },
     "execution_count": 8,
     "metadata": {},
     "output_type": "execute_result"
    }
   ],
   "source": [
    "len(y)"
   ]
  },
  {
   "cell_type": "markdown",
   "metadata": {},
   "source": [
    "Selbstverständlich ist eine leere Liste auch eine Liste, nur eben mit der Länge 0:"
   ]
  },
  {
   "cell_type": "code",
   "execution_count": 9,
   "metadata": {},
   "outputs": [
    {
     "data": {
      "text/plain": [
       "0"
      ]
     },
     "execution_count": 9,
     "metadata": {},
     "output_type": "execute_result"
    }
   ],
   "source": [
    "z = []\n",
    "len(z)"
   ]
  },
  {
   "cell_type": "code",
   "execution_count": 10,
   "metadata": {},
   "outputs": [
    {
     "data": {
      "text/plain": [
       "list"
      ]
     },
     "execution_count": 10,
     "metadata": {},
     "output_type": "execute_result"
    }
   ],
   "source": [
    "type(z)"
   ]
  },
  {
   "cell_type": "markdown",
   "metadata": {},
   "source": [
    "Nachdem Listen mutable sind, kann man einzelne Elemente auch nach der Erstellung der Liste ändern."
   ]
  },
  {
   "cell_type": "code",
   "execution_count": 11,
   "metadata": {},
   "outputs": [
    {
     "data": {
      "text/plain": [
       "[23, 'Hallo', 'test', 1.44, True]"
      ]
     },
     "execution_count": 11,
     "metadata": {},
     "output_type": "execute_result"
    }
   ],
   "source": [
    "x"
   ]
  },
  {
   "cell_type": "code",
   "execution_count": 12,
   "metadata": {},
   "outputs": [
    {
     "data": {
      "text/plain": [
       "[23, 111111, 'test', 1.44, True]"
      ]
     },
     "execution_count": 12,
     "metadata": {},
     "output_type": "execute_result"
    }
   ],
   "source": [
    "x[1] = 111111\n",
    "x"
   ]
  },
  {
   "cell_type": "code",
   "execution_count": 13,
   "metadata": {},
   "outputs": [
    {
     "data": {
      "text/plain": [
       "[None, 111111, 'test', 1.44, True]"
      ]
     },
     "execution_count": 13,
     "metadata": {},
     "output_type": "execute_result"
    }
   ],
   "source": [
    "x[0] = None\n",
    "x"
   ]
  },
  {
   "cell_type": "markdown",
   "metadata": {},
   "source": [
    "Zwei Listen kann man mit dem `+`-Operator zu einer neuen Liste zusammenfügen."
   ]
  },
  {
   "cell_type": "code",
   "execution_count": 14,
   "metadata": {},
   "outputs": [
    {
     "data": {
      "text/plain": [
       "[1, 2, 'drei', 'vier', 5, 6.0]"
      ]
     },
     "execution_count": 14,
     "metadata": {},
     "output_type": "execute_result"
    }
   ],
   "source": [
    "[1, 2, \"drei\"] + [\"vier\", 5, 6.0]"
   ]
  },
  {
   "cell_type": "markdown",
   "metadata": {},
   "source": [
    "Der `*`-Operator vervielfältigt eine Liste."
   ]
  },
  {
   "cell_type": "code",
   "execution_count": 15,
   "metadata": {},
   "outputs": [
    {
     "data": {
      "text/plain": [
       "[1, 2.0, 'drei', 1, 2.0, 'drei', 1, 2.0, 'drei']"
      ]
     },
     "execution_count": 15,
     "metadata": {},
     "output_type": "execute_result"
    }
   ],
   "source": [
    "[1, 2.0, \"drei\"] * 3"
   ]
  },
  {
   "cell_type": "markdown",
   "metadata": {},
   "source": [
    "Mit der Methode `append` kann man neue Elemente am Ende der Liste hinzufügen."
   ]
  },
  {
   "cell_type": "code",
   "execution_count": 16,
   "metadata": {},
   "outputs": [
    {
     "data": {
      "text/plain": [
       "[None, 111111, 'test', 1.44, True]"
      ]
     },
     "execution_count": 16,
     "metadata": {},
     "output_type": "execute_result"
    }
   ],
   "source": [
    "x"
   ]
  },
  {
   "cell_type": "code",
   "execution_count": 17,
   "metadata": {},
   "outputs": [
    {
     "data": {
      "text/plain": [
       "[None, 111111, 'test', 1.44, True, 13]"
      ]
     },
     "execution_count": 17,
     "metadata": {},
     "output_type": "execute_result"
    }
   ],
   "source": [
    "x.append(13)\n",
    "x"
   ]
  },
  {
   "cell_type": "markdown",
   "metadata": {},
   "source": [
    "Im Gegensatz zu Strings wird hier die Liste direkt (in place) verändert; eine erneute Zuweisung zu einem Namen ist nicht notwendig bzw. führt nicht zum gewünschten Ergebnis wie in folgendem Beispiel ersichtlich:"
   ]
  },
  {
   "cell_type": "code",
   "execution_count": 18,
   "metadata": {},
   "outputs": [],
   "source": [
    "a = x.append(25)"
   ]
  },
  {
   "cell_type": "code",
   "execution_count": 19,
   "metadata": {},
   "outputs": [
    {
     "name": "stdout",
     "output_type": "stream",
     "text": [
      "None\n"
     ]
    }
   ],
   "source": [
    "print(a)  # Listen-Methoden geben immer None zurück, da Sie die Listen direkt ändern"
   ]
  },
  {
   "cell_type": "code",
   "execution_count": 20,
   "metadata": {},
   "outputs": [
    {
     "data": {
      "text/plain": [
       "[None, 111111, 'test', 1.44, True, 13, 25]"
      ]
     },
     "execution_count": 20,
     "metadata": {},
     "output_type": "execute_result"
    }
   ],
   "source": [
    "x  # geänderte Liste"
   ]
  },
  {
   "cell_type": "markdown",
   "metadata": {},
   "source": [
    " Möchte man gleich mehrere Elemente hinzufügen, kann man die Methode `extend` benutzen."
   ]
  },
  {
   "cell_type": "code",
   "execution_count": 21,
   "metadata": {},
   "outputs": [
    {
     "data": {
      "text/plain": [
       "[None, 111111, 'test', 1.44, True, 13, 25, 99, 'HH', 'zz']"
      ]
     },
     "execution_count": 21,
     "metadata": {},
     "output_type": "execute_result"
    }
   ],
   "source": [
    "x.extend([99, \"HH\", \"zz\"])\n",
    "x"
   ]
  },
  {
   "cell_type": "markdown",
   "metadata": {},
   "source": [
    "Versuchen Sie anhand dieses Beispiels den Unterschied zwischen `append` und `extend` zu erklären!"
   ]
  },
  {
   "cell_type": "markdown",
   "metadata": {},
   "source": [
    "Um Elemente an bestimmten Indizes aus der Liste zu entfernen verwendet man den `del`-Befehl."
   ]
  },
  {
   "cell_type": "code",
   "execution_count": 22,
   "metadata": {},
   "outputs": [
    {
     "data": {
      "text/plain": [
       "['A', 4, 'fünf']"
      ]
     },
     "execution_count": 22,
     "metadata": {},
     "output_type": "execute_result"
    }
   ],
   "source": [
    "x = [\"A\", \"b\", 3, 4, \"fünf\"]\n",
    "del x[1:3]  # löscht 2 Elemente\n",
    "x"
   ]
  },
  {
   "cell_type": "markdown",
   "metadata": {},
   "source": [
    "Alternativ kann man auch die Methode `pop` zum Löschen eines Elementes an einem bestimmten Index verwenden. Diese gibt das entfernte Element zurück."
   ]
  },
  {
   "cell_type": "code",
   "execution_count": 23,
   "metadata": {},
   "outputs": [
    {
     "data": {
      "text/plain": [
       "'b'"
      ]
     },
     "execution_count": 23,
     "metadata": {},
     "output_type": "execute_result"
    }
   ],
   "source": [
    "x = [\"A\", \"b\", 3, 4, \"fünf\"]\n",
    "x.pop(1)"
   ]
  },
  {
   "cell_type": "code",
   "execution_count": 24,
   "metadata": {},
   "outputs": [
    {
     "data": {
      "text/plain": [
       "['A', 3, 4, 'fünf']"
      ]
     },
     "execution_count": 24,
     "metadata": {},
     "output_type": "execute_result"
    }
   ],
   "source": [
    "x"
   ]
  },
  {
   "cell_type": "markdown",
   "metadata": {},
   "source": [
    "Die Methode `remove` entfernt das erste Element aus der Liste, welches dem gesuchten Wert entspricht. Hier gibt man also nicht den zu entfernenden Index an, sondern den zu löschenden Wert."
   ]
  },
  {
   "cell_type": "code",
   "execution_count": 25,
   "metadata": {},
   "outputs": [
    {
     "data": {
      "text/plain": [
       "['A', 'b', 4, 'fünf']"
      ]
     },
     "execution_count": 25,
     "metadata": {},
     "output_type": "execute_result"
    }
   ],
   "source": [
    "x = [\"A\", \"b\", 3, 4, \"fünf\"]\n",
    "x.remove(3)\n",
    "x"
   ]
  },
  {
   "cell_type": "markdown",
   "metadata": {},
   "source": [
    "Wenn eine Liste sortierbare Elemente enthält, kann man sie mit der Methode `sort` sortieren."
   ]
  },
  {
   "cell_type": "code",
   "execution_count": 26,
   "metadata": {},
   "outputs": [
    {
     "data": {
      "text/plain": [
       "[-78, 1, 6, 9, 23, 44]"
      ]
     },
     "execution_count": 26,
     "metadata": {},
     "output_type": "execute_result"
    }
   ],
   "source": [
    "h = [6, 9, 23, 1, -78, 44]\n",
    "h.sort()\n",
    "h"
   ]
  },
  {
   "cell_type": "markdown",
   "metadata": {},
   "source": [
    "Probieren Sie aus was passiert, wenn Sie eine Liste mit nicht sortierbaren Elementen sortieren möchten (z.B. die Liste `x` aus dem vorigen Beispiel)!"
   ]
  },
  {
   "cell_type": "markdown",
   "metadata": {},
   "source": [
    "Mit dem `in`-Operator kann man abfragen, ob ein bestimmtes Element in einer Liste enthalten ist."
   ]
  },
  {
   "cell_type": "code",
   "execution_count": 27,
   "metadata": {},
   "outputs": [
    {
     "data": {
      "text/plain": [
       "False"
      ]
     },
     "execution_count": 27,
     "metadata": {},
     "output_type": "execute_result"
    }
   ],
   "source": [
    "2 in h"
   ]
  },
  {
   "cell_type": "code",
   "execution_count": 28,
   "metadata": {},
   "outputs": [
    {
     "data": {
      "text/plain": [
       "True"
      ]
     },
     "execution_count": 28,
     "metadata": {},
     "output_type": "execute_result"
    }
   ],
   "source": [
    "-78 in h"
   ]
  },
  {
   "cell_type": "markdown",
   "metadata": {},
   "source": [
    "Eine Liste ist wie jeder Sequenzdatentyp iterierbar, d.h. man kann mit einer `for`-Schleife über die einzelnen Elemente iterieren:"
   ]
  },
  {
   "cell_type": "code",
   "execution_count": 29,
   "metadata": {},
   "outputs": [
    {
     "name": "stdout",
     "output_type": "stream",
     "text": [
      "2\n",
      "fünf\n",
      "3.14\n",
      "sieben\n"
     ]
    }
   ],
   "source": [
    "for k in [2, \"fünf\", 3.14, \"sieben\"]:\n",
    "    print(k)"
   ]
  },
  {
   "cell_type": "markdown",
   "metadata": {},
   "source": [
    "## Tupel\n",
    "Tupel verhalten sich wie Listen, sind aber immutable. Das bedeutet, dass man einzelne Elemente nicht verändern kann. Tupel erstellt man wie Listen, nur lässt man die eckigen Klammern weg (man benötigt auch keine runden Klammern)."
   ]
  },
  {
   "cell_type": "code",
   "execution_count": 30,
   "metadata": {},
   "outputs": [
    {
     "data": {
      "text/plain": [
       "('A', 'b', 3, 4, 'fünf')"
      ]
     },
     "execution_count": 30,
     "metadata": {},
     "output_type": "execute_result"
    }
   ],
   "source": [
    "t = \"A\", \"b\", 3, 4, \"fünf\"\n",
    "t"
   ]
  },
  {
   "cell_type": "code",
   "execution_count": 31,
   "metadata": {},
   "outputs": [
    {
     "data": {
      "text/plain": [
       "'b'"
      ]
     },
     "execution_count": 31,
     "metadata": {},
     "output_type": "execute_result"
    }
   ],
   "source": [
    "t[1]"
   ]
  },
  {
   "cell_type": "code",
   "execution_count": 32,
   "metadata": {},
   "outputs": [
    {
     "ename": "TypeError",
     "evalue": "'tuple' object does not support item assignment",
     "output_type": "error",
     "traceback": [
      "\u001b[0;31m---------------------------------------------------------------------------\u001b[0m",
      "\u001b[0;31mTypeError\u001b[0m                                 Traceback (most recent call last)",
      "\u001b[0;32m<ipython-input-32-ff45dbd9c438>\u001b[0m in \u001b[0;36m<module>\u001b[0;34m\u001b[0m\n\u001b[0;32m----> 1\u001b[0;31m \u001b[0mt\u001b[0m\u001b[0;34m[\u001b[0m\u001b[0;36m1\u001b[0m\u001b[0;34m]\u001b[0m \u001b[0;34m=\u001b[0m \u001b[0;34m\"c\"\u001b[0m\u001b[0;34m\u001b[0m\u001b[0;34m\u001b[0m\u001b[0m\n\u001b[0m",
      "\u001b[0;31mTypeError\u001b[0m: 'tuple' object does not support item assignment"
     ]
    }
   ],
   "source": [
    "t[1] = \"c\""
   ]
  },
  {
   "cell_type": "markdown",
   "metadata": {},
   "source": [
    "## List Comprehensions\n",
    "Mit sogenannten List Comprehensions kann man sehr kompakt und elegant Listen erstellen. List Comprehensions sind im Prinzip Schleifen, die man aber syntaktisch kompakter darstellen kann. Nehmen wir als Beispiel eine Liste der Quadratzahlen von 0 bis 9. Mit einer normalen Schleife würde man diese Liste so erstellen:"
   ]
  },
  {
   "cell_type": "code",
   "execution_count": 33,
   "metadata": {},
   "outputs": [
    {
     "data": {
      "text/plain": [
       "[0, 1, 4, 9, 16, 25, 36, 49, 64, 81]"
      ]
     },
     "execution_count": 33,
     "metadata": {},
     "output_type": "execute_result"
    }
   ],
   "source": [
    "squares = []  # wir beginnen mit leerer Liste\n",
    "for x in range(10):\n",
    "    squares.append(x**2)  # Liste wird befüllt\n",
    "\n",
    "squares"
   ]
  },
  {
   "cell_type": "markdown",
   "metadata": {},
   "source": [
    "Dasselbe Ergebnis kann mit einer List Comprehension viel kürzer erreicht werden:"
   ]
  },
  {
   "cell_type": "code",
   "execution_count": 34,
   "metadata": {},
   "outputs": [
    {
     "data": {
      "text/plain": [
       "[0, 1, 4, 9, 16, 25, 36, 49, 64, 81]"
      ]
     },
     "execution_count": 34,
     "metadata": {},
     "output_type": "execute_result"
    }
   ],
   "source": [
    "squares = [x**2 for x in range(10)]\n",
    "squares"
   ]
  },
  {
   "cell_type": "markdown",
   "metadata": {},
   "source": [
    "Allgemein besteht eine List Comprehension aus zwei eckigen Klammern (die ja eine Liste definieren), einem Ausdruck, einer `for`-Anweisung und optional weiteren `for`-Anweisungen und/oder `if`-Bedingungen. Ein komplexeres Beispiel könnte wie folgt aussehen:"
   ]
  },
  {
   "cell_type": "code",
   "execution_count": 35,
   "metadata": {},
   "outputs": [
    {
     "data": {
      "text/plain": [
       "[(0, 1), (0, 2), (1, 1), (1, -1), (1, 2), (2, -1), (2, 2)]"
      ]
     },
     "execution_count": 35,
     "metadata": {},
     "output_type": "execute_result"
    }
   ],
   "source": [
    "[(x - 1, y - 2) for x in [1, 2, 3] for y in [3, 1, 4] if x != y]"
   ]
  },
  {
   "cell_type": "markdown",
   "metadata": {},
   "source": [
    "Oder ein weiteres Beispiel:"
   ]
  },
  {
   "cell_type": "code",
   "execution_count": 36,
   "metadata": {},
   "outputs": [],
   "source": [
    "vec = [-4, -2, 0, 2, 4]"
   ]
  },
  {
   "cell_type": "code",
   "execution_count": 37,
   "metadata": {},
   "outputs": [
    {
     "data": {
      "text/plain": [
       "[-8, -4, 0, 4, 8]"
      ]
     },
     "execution_count": 37,
     "metadata": {},
     "output_type": "execute_result"
    }
   ],
   "source": [
    "[x * 2 for x in vec]  # neue Liste mit verdoppelten Einträgen"
   ]
  },
  {
   "cell_type": "code",
   "execution_count": 38,
   "metadata": {},
   "outputs": [
    {
     "data": {
      "text/plain": [
       "[0, 2, 4]"
      ]
     },
     "execution_count": 38,
     "metadata": {},
     "output_type": "execute_result"
    }
   ],
   "source": [
    "[x for x in vec if x >= 0]  # negative Einträge herausfiltern"
   ]
  },
  {
   "cell_type": "code",
   "execution_count": 39,
   "metadata": {},
   "outputs": [
    {
     "data": {
      "text/plain": [
       "[4, 2, 0, 2, 4]"
      ]
     },
     "execution_count": 39,
     "metadata": {},
     "output_type": "execute_result"
    }
   ],
   "source": [
    "[abs(x) for x in vec]  # eine Funktion auf alle Elemente separat anwenden"
   ]
  },
  {
   "cell_type": "markdown",
   "metadata": {},
   "source": [
    "Noch ein Beispiel:"
   ]
  },
  {
   "cell_type": "code",
   "execution_count": 40,
   "metadata": {},
   "outputs": [],
   "source": [
    "freshfruit = ['  banana', '  loganberry ', 'passion fruit  ']"
   ]
  },
  {
   "cell_type": "code",
   "execution_count": 41,
   "metadata": {},
   "outputs": [
    {
     "data": {
      "text/plain": [
       "['BANANA!', 'LOGANBERRY!', 'PASSION FRUIT!']"
      ]
     },
     "execution_count": 41,
     "metadata": {},
     "output_type": "execute_result"
    }
   ],
   "source": [
    "[weapon.strip().upper() + \"!\" for weapon in freshfruit]"
   ]
  },
  {
   "cell_type": "markdown",
   "metadata": {},
   "source": [
    "In der Praxis verwendet man List Comprehensions so lange diese noch relativ einfach und übersichtlich sind. Hat man aber mehrere geschachtelte Schleifen und if-Abfragen, verwendet man besser explizite Schleifen, da dies dann meist besser lesbar ist."
   ]
  },
  {
   "cell_type": "markdown",
   "metadata": {},
   "source": [
    "## Hausübung\n",
    "Geben Sie diese Hausübung als Python-Script in Moodle ab. Verwenden Sie für den Namen Ihrer Datei bitte folgendes Schema:\n",
    "\n",
    "*Nachname1*_*Nachname2*-HUE07.py\n",
    "\n",
    "### Übung 1\n",
    "Schreiben Sie eine Funktion `histogram`, welche eine Liste mit Zahlen als Argument bekommen soll und diese Zahlen als vereinfachtes Histogramm am Bildschirm darstellt. Dieses Histogramm soll für jeden Wert eine Zeile ausgeben mit der entsprechenden Anzahl an Zeichen. Das Standardzeichen soll ein Stern (*) sein, aber dieses Zeichen soll mit einem Funktionsargument namens `char` anpassbar sein. Beispiele für mögliche Funktionsaufrufe und deren Ergebnisse:\n",
    "\n",
    "```\n",
    ">>> histogram([1, 8, 5, 17, 14, 9, 2])\n",
    "*\n",
    "********\n",
    "*****\n",
    "*****************\n",
    "**************\n",
    "*********\n",
    "**\n",
    "```\n",
    "\n",
    "```\n",
    ">>> histogram([1, 8, 5, 17, 2], char=\"-\")\n",
    "-\n",
    "--------\n",
    "-----\n",
    "-----------------\n",
    "--\n",
    "```\n",
    "\n",
    "*Anmerkung:* Diese Funktion liefert keinen Wert zurück, sondern gibt das Histogramm (mit Hilfe der `print`-Funktion) am Bildschirm aus.\n",
    "\n",
    "*(2 Punkte)*\n",
    "\n",
    "### Übung 2\n",
    "Schreiben Sie eine Funktion `sum_of_squares`, welche eine Liste mit Zahlen als Argument hat und die Quadratsumme dieser Zahlen (also eine einzige Zahl) zurückgibt.\n",
    "\n",
    "*Hinweis:* Sie könnten in der Funktion z.B. zuerst eine Liste mit den quadrierten Zahlen erstellen, deren Elemente mit der Funktion `sum` addieren und das Ergebnis zurückgeben.\n",
    "\n",
    "*(1.5 Punkte)*\n",
    "\n",
    "### Übung 3\n",
    "Erstellen Sie eine Liste mit den ganzen Zahlen von 1 bis 25 und weisen Sie dieser Liste den Namen `numbers` zu. Erstellen Sie dann fünf neue Listen, welche folgende Zahlen beinhalten (basierend auf `numbers`, die neuen Listen sollen wie angegeben benannt werden):\n",
    "\n",
    "- Die Quadratzahlen `squares`.\n",
    "- Die geraden Zahlen `evens`.\n",
    "- Die ungeraden Zahlen `odds`.\n",
    "- Die Wurzeln `roots`.\n",
    "- Die natürlichen Logarithmen `logs`.\n",
    "\n",
    "Verwenden Sie zur Erstellung der neuen Listen jeweils eine geeignete List Comprehension. *Hinweis:* Für die letzten beiden Listen verwenden Sie am besten Funktionen aus dem Modul `math`.\n",
    "\n",
    "*(1.5 Punkte)*\n",
    "\n",
    "### Übung 4\n",
    "Schreiben Sie folgende List Comprehension um, indem Sie normale `for`-Schleifen verwenden:\n",
    "\n",
    "```Python\n",
    "z = [x**2 - y for x in range(7) for y in [3, 1, 5] if x != y]\n",
    "```\n",
    "\n",
    "Geben Sie den Inhalt der Liste `z` am Bildschirm aus und stellen Sie sicher, dass beide Varianten dasselbe Ergebnis liefern.\n",
    "\n",
    "*(2 Punkte)*\n",
    "\n",
    "### Übung 5\n",
    "Erstellen Sie eine Liste `r1` aus 15 zufälligen Ganzzahlen zwischen 0 und 100 mit Hilfe einer List Comprehension. Geben Sie diese Liste am Bildschirm aus und berechnen Sie die Summe aller Zahlen in der Liste. Initialisieren Sie ganz zu Beginn den Zufallsgenerator mit dem Wert 11!\n",
    "\n",
    "*Hinweise:* Verwenden Sie die Funktionen `seed` und `randint` aus dem Modul `random`. Den Generator initialisieren Sie, indem Sie ganz zu Beginn einmal die Funktion `seed` mit dem Argument `11` aufrufen. So ist sichergestellt, dass Sie reproduzierbare Zufallszahlen erhalten. Fügen Sie also folgende Zeilen zu Beginn Ihres Scripts (bzw. zu Beginn dieser Übung) ein:\n",
    "\n",
    "```Python\n",
    "import random\n",
    "random.seed(11)\n",
    "```\n",
    "\n",
    "Danach können Sie mit `random.randint` Zufallszahlen ziehen, und zwar sollen Sie dies 15 Mal tun.\n",
    "\n",
    "*(1.5 Punkte)*\n",
    "\n",
    "### Übung 6\n",
    "Erstellen Sie aus der Zufallszahlen-Liste `r1` aus der vorigen Übung eine neue Liste `r2`, welche die Quadrate der ursprünglichen Elemente enthält. Erstellen Sie aus der Liste `r2` eine weitere Liste `r3`, welche alle Elemente aus `r2` enthält, die größer als 4000 sind. Verwenden Sie zur Erstellung der Listen wieder List Comprehensions.\n",
    "\n",
    "Mit welchen Befehlen können Sie die Längen der Listen `r1`, `r2` und `r3` berechnen? Wie lang sind diese Listen?\n",
    "\n",
    "*(1.5 Punkte)*\n"
   ]
  },
  {
   "cell_type": "markdown",
   "metadata": {},
   "source": [
    "---\n",
    "![](cc_license.png)\n",
    "\n",
    "Diese Unterlagen sind lizenziert unter einer [Creative Commons Namensnennung - Nicht-kommerziell - Weitergabe unter gleichen Bedingungen 4.0 International Lizenz](http://creativecommons.org/licenses/by-nc-sa/4.0/)."
   ]
  }
 ],
 "metadata": {
  "kernelspec": {
   "display_name": "Python 3",
   "language": "python",
   "name": "python3"
  },
  "language_info": {
   "codemirror_mode": {
    "name": "ipython",
    "version": 3
   },
   "file_extension": ".py",
   "mimetype": "text/x-python",
   "name": "python",
   "nbconvert_exporter": "python",
   "pygments_lexer": "ipython3",
   "version": "3.7.1"
  }
 },
 "nbformat": 4,
 "nbformat_minor": 2
}
