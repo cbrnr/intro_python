{
 "cells": [
  {
   "cell_type": "markdown",
   "metadata": {},
   "source": [
    "_Einführung in Python, Clemens Brunner, 15.12.2016_\n",
    "\n",
    "# 7 - Dictionaries, Module und Packages\n",
    "## Dictionaries\n",
    "Ein Dictionary ordnet Keys bestimmten Values zu. Man kann sich ein Dictionary wie ein Sprachwörterbuch vorstellen. Wenn man die Übersetzung zu einem bestimmten Wort wissen möchte, schlägt man unter dem gesuchten Wort nach und findet dort die Übersetzung. In Python definiert man ein `dict` mit geschwungenen Klammern und trennt die Einträge wie bei Listen mit Kommas. Jeder Eintrag besteht aus einem Key und einem Value, welche durch einen Doppelpunkt voneinander getrennt sind.\n",
    "\n",
    "Folgendes Beispiel zeigt ein `dict` mit drei Einträgen:"
   ]
  },
  {
   "cell_type": "code",
   "execution_count": 1,
   "metadata": {
    "collapsed": true
   },
   "outputs": [],
   "source": [
    "d = {\"Haus\": \"house\", \"Schlange\": \"snake\", \"Katze\": \"cat\"}"
   ]
  },
  {
   "cell_type": "markdown",
   "metadata": {},
   "source": [
    "Einzelne Elemente kann man wieder mit Indizierung herausgreifen - anstelle eines numerischen Index (wie bei Listen) gibt man aber nun den jeweiligen Key als Index an:"
   ]
  },
  {
   "cell_type": "code",
   "execution_count": 2,
   "metadata": {
    "collapsed": false
   },
   "outputs": [
    {
     "data": {
      "text/plain": [
       "'house'"
      ]
     },
     "execution_count": 2,
     "metadata": {},
     "output_type": "execute_result"
    }
   ],
   "source": [
    "d[\"Haus\"]"
   ]
  },
  {
   "cell_type": "code",
   "execution_count": 3,
   "metadata": {
    "collapsed": false
   },
   "outputs": [
    {
     "data": {
      "text/plain": [
       "'snake'"
      ]
     },
     "execution_count": 3,
     "metadata": {},
     "output_type": "execute_result"
    }
   ],
   "source": [
    "d[\"Schlange\"]"
   ]
  },
  {
   "cell_type": "markdown",
   "metadata": {},
   "source": [
    "Ein Dictionary ist also gewissermaßen eine verallgemeinerte Liste. Ein wichtiger Unterschied zu Listen ist, dass die Reihenfolge der Einträge in Dictionaries nicht definiert ist, in Listen aber schon. Wenn man das `dict` am Bildschirm ausgibt, wird die Reihenfolge der Elemente im Allgemeinen nicht der Reihenfolge entsprechen, in denen die Elemente eingegeben wurden."
   ]
  },
  {
   "cell_type": "code",
   "execution_count": 4,
   "metadata": {
    "collapsed": false
   },
   "outputs": [
    {
     "data": {
      "text/plain": [
       "{'Haus': 'house', 'Katze': 'cat', 'Schlange': 'snake'}"
      ]
     },
     "execution_count": 4,
     "metadata": {},
     "output_type": "execute_result"
    }
   ],
   "source": [
    "d"
   ]
  },
  {
   "cell_type": "markdown",
   "metadata": {},
   "source": [
    "Genau wie in Listen kann man in Dictionaries Elemente mit unterschiedlichen Datentypen speichern. Eine Einschränkung gibt es aber für die Keys: diese müssen immutable sein (daher kann man z.B. keine Listen als Keys verwenden). Neue Elemente fügt man einfach durch Angabe von Key und Value zu einem bestehenden Dictionary hinzu."
   ]
  },
  {
   "cell_type": "code",
   "execution_count": 5,
   "metadata": {
    "collapsed": false
   },
   "outputs": [
    {
     "data": {
      "text/plain": [
       "{1: 3.14,\n",
       " 23: 'tt',\n",
       " 'Haus': 'house',\n",
       " 'Schlange': 'snake',\n",
       " 'Katze': 'cat',\n",
       " 'L': [1, 2, 3]}"
      ]
     },
     "execution_count": 5,
     "metadata": {},
     "output_type": "execute_result"
    }
   ],
   "source": [
    "d[23] = \"tt\"\n",
    "d[1] = 3.14\n",
    "d[\"L\"] = [1, 2, 3]\n",
    "d"
   ]
  },
  {
   "cell_type": "markdown",
   "metadata": {},
   "source": [
    "Gibt man einen Key an, der im Wörterbuch nicht existiert, erhält man eine Fehlermeldung."
   ]
  },
  {
   "cell_type": "code",
   "execution_count": 6,
   "metadata": {
    "collapsed": false
   },
   "outputs": [
    {
     "ename": "KeyError",
     "evalue": "0",
     "output_type": "error",
     "traceback": [
      "\u001b[0;31m---------------------------------------------------------------------------\u001b[0m",
      "\u001b[0;31mKeyError\u001b[0m                                  Traceback (most recent call last)",
      "\u001b[0;32m<ipython-input-6-17371c6688f6>\u001b[0m in \u001b[0;36m<module>\u001b[0;34m()\u001b[0m\n\u001b[0;32m----> 1\u001b[0;31m \u001b[0md\u001b[0m\u001b[0;34m[\u001b[0m\u001b[0;36m0\u001b[0m\u001b[0;34m]\u001b[0m\u001b[0;34m\u001b[0m\u001b[0m\n\u001b[0m",
      "\u001b[0;31mKeyError\u001b[0m: 0"
     ]
    }
   ],
   "source": [
    "d[0]"
   ]
  },
  {
   "cell_type": "markdown",
   "metadata": {},
   "source": [
    "### Arbeiten  mit Dictionaries\n",
    "\n",
    "Die Länge eines Dictionaries, also die Anzahl der Einträge, bekommt man wieder mit der Funktion `len`:"
   ]
  },
  {
   "cell_type": "code",
   "execution_count": 7,
   "metadata": {
    "collapsed": false
   },
   "outputs": [
    {
     "data": {
      "text/plain": [
       "6"
      ]
     },
     "execution_count": 7,
     "metadata": {},
     "output_type": "execute_result"
    }
   ],
   "source": [
    "len(d)"
   ]
  },
  {
   "cell_type": "markdown",
   "metadata": {},
   "source": [
    "Die Keys bekommt man mit der Methode `keys`, die Values mit der Methode `values`:"
   ]
  },
  {
   "cell_type": "code",
   "execution_count": 8,
   "metadata": {
    "collapsed": false
   },
   "outputs": [
    {
     "data": {
      "text/plain": [
       "dict_keys([1, 23, 'Haus', 'Schlange', 'Katze', 'L'])"
      ]
     },
     "execution_count": 8,
     "metadata": {},
     "output_type": "execute_result"
    }
   ],
   "source": [
    "d.keys()"
   ]
  },
  {
   "cell_type": "code",
   "execution_count": 9,
   "metadata": {
    "collapsed": false
   },
   "outputs": [
    {
     "data": {
      "text/plain": [
       "dict_values([3.14, 'tt', 'house', 'snake', 'cat', [1, 2, 3]])"
      ]
     },
     "execution_count": 9,
     "metadata": {},
     "output_type": "execute_result"
    }
   ],
   "source": [
    "d.values()"
   ]
  },
  {
   "cell_type": "markdown",
   "metadata": {},
   "source": [
    "Beides, also Keys und Values, bekommt man mit der Methode `items`."
   ]
  },
  {
   "cell_type": "code",
   "execution_count": 10,
   "metadata": {
    "collapsed": false
   },
   "outputs": [
    {
     "data": {
      "text/plain": [
       "dict_items([(1, 3.14), (23, 'tt'), ('Haus', 'house'), ('Schlange', 'snake'), ('Katze', 'cat'), ('L', [1, 2, 3])])"
      ]
     },
     "execution_count": 10,
     "metadata": {},
     "output_type": "execute_result"
    }
   ],
   "source": [
    "d.items()"
   ]
  },
  {
   "cell_type": "markdown",
   "metadata": {},
   "source": [
    "Ob ein Wert als Key vorkommt, kann man mit `in` überprüfen:"
   ]
  },
  {
   "cell_type": "code",
   "execution_count": 11,
   "metadata": {
    "collapsed": false
   },
   "outputs": [
    {
     "data": {
      "text/plain": [
       "True"
      ]
     },
     "execution_count": 11,
     "metadata": {},
     "output_type": "execute_result"
    }
   ],
   "source": [
    "\"Katze\" in d"
   ]
  },
  {
   "cell_type": "code",
   "execution_count": 12,
   "metadata": {
    "collapsed": false
   },
   "outputs": [
    {
     "data": {
      "text/plain": [
       "False"
      ]
     },
     "execution_count": 12,
     "metadata": {},
     "output_type": "execute_result"
    }
   ],
   "source": [
    "\"cat\" in d"
   ]
  },
  {
   "cell_type": "markdown",
   "metadata": {},
   "source": [
    "Wenn man wissen möchte, ob ein Wert als Value vorkommt, verwendet man die `values`-Methode:"
   ]
  },
  {
   "cell_type": "code",
   "execution_count": 13,
   "metadata": {
    "collapsed": false
   },
   "outputs": [
    {
     "data": {
      "text/plain": [
       "True"
      ]
     },
     "execution_count": 13,
     "metadata": {},
     "output_type": "execute_result"
    }
   ],
   "source": [
    "\"cat\" in d.values()"
   ]
  },
  {
   "cell_type": "markdown",
   "metadata": {},
   "source": [
    "Selbstverständlich kann man über ein Dictionary auch iterieren - in diesem Fall wird über alle Keys iteriert."
   ]
  },
  {
   "cell_type": "code",
   "execution_count": 14,
   "metadata": {
    "collapsed": false
   },
   "outputs": [
    {
     "name": "stdout",
     "output_type": "stream",
     "text": [
      "1\n",
      "23\n",
      "Haus\n",
      "Schlange\n",
      "Katze\n",
      "L\n"
     ]
    }
   ],
   "source": [
    "for k in d:\n",
    "    print(k)"
   ]
  },
  {
   "cell_type": "markdown",
   "metadata": {},
   "source": [
    "Auf die entsprechenden Values greift man dann einfach durch Indizieren zu:"
   ]
  },
  {
   "cell_type": "code",
   "execution_count": 15,
   "metadata": {
    "collapsed": false
   },
   "outputs": [
    {
     "name": "stdout",
     "output_type": "stream",
     "text": [
      "1 : 3.14\n",
      "23 : tt\n",
      "Haus : house\n",
      "Schlange : snake\n",
      "Katze : cat\n",
      "L : [1, 2, 3]\n"
     ]
    }
   ],
   "source": [
    "for k in d:\n",
    "    print(k, \":\", d[k])"
   ]
  },
  {
   "cell_type": "markdown",
   "metadata": {},
   "source": [
    "Eleganter funktioniert das mit der Methode `items`. Diese erzeugt eine Liste von Tupeln, welche die Key/Value-Paare enthalten:"
   ]
  },
  {
   "cell_type": "code",
   "execution_count": 16,
   "metadata": {
    "collapsed": false
   },
   "outputs": [
    {
     "data": {
      "text/plain": [
       "dict_items([(1, 3.14), (23, 'tt'), ('Haus', 'house'), ('Schlange', 'snake'), ('Katze', 'cat'), ('L', [1, 2, 3])])"
      ]
     },
     "execution_count": 16,
     "metadata": {},
     "output_type": "execute_result"
    }
   ],
   "source": [
    "d.items()"
   ]
  },
  {
   "cell_type": "markdown",
   "metadata": {},
   "source": [
    "Damit kann man in einer Schleife sowohl auf die Keys als auch auf die Values zugreifen."
   ]
  },
  {
   "cell_type": "code",
   "execution_count": 17,
   "metadata": {
    "collapsed": false
   },
   "outputs": [
    {
     "name": "stdout",
     "output_type": "stream",
     "text": [
      "1 : 3.14\n",
      "23 : tt\n",
      "Haus : house\n",
      "Schlange : snake\n",
      "Katze : cat\n",
      "L : [1, 2, 3]\n"
     ]
    }
   ],
   "source": [
    "for k, v in d.items():\n",
    "    print(k, \":\", v)"
   ]
  },
  {
   "cell_type": "markdown",
   "metadata": {},
   "source": [
    "Möchte man wie oben gezeigt den Fehler vermeiden, wenn man einen nicht existierenden Key verwendet, so kann man stattdessen die Methode `get` verwenden. Diese Methode hat zwei Argumente: das erste Argument ist der Key, und das zweite Argument ist ein Standardwert, der zurückgegeben wird falls der angegebene Key im Dictionary nicht existiert:"
   ]
  },
  {
   "cell_type": "code",
   "execution_count": 18,
   "metadata": {
    "collapsed": false
   },
   "outputs": [
    {
     "ename": "KeyError",
     "evalue": "'psy'",
     "output_type": "error",
     "traceback": [
      "\u001b[0;31m---------------------------------------------------------------------------\u001b[0m",
      "\u001b[0;31mKeyError\u001b[0m                                  Traceback (most recent call last)",
      "\u001b[0;32m<ipython-input-18-6cbf3b9d8095>\u001b[0m in \u001b[0;36m<module>\u001b[0;34m()\u001b[0m\n\u001b[0;32m----> 1\u001b[0;31m \u001b[0md\u001b[0m\u001b[0;34m[\u001b[0m\u001b[0;34m\"psy\"\u001b[0m\u001b[0;34m]\u001b[0m  \u001b[0;31m# Fehler, Key \"psy\" existiert nicht\u001b[0m\u001b[0;34m\u001b[0m\u001b[0m\n\u001b[0m",
      "\u001b[0;31mKeyError\u001b[0m: 'psy'"
     ]
    }
   ],
   "source": [
    "d[\"psy\"]  # Fehler, Key \"psy\" existiert nicht"
   ]
  },
  {
   "cell_type": "code",
   "execution_count": 19,
   "metadata": {
    "collapsed": false
   },
   "outputs": [
    {
     "data": {
      "text/plain": [
       "0"
      ]
     },
     "execution_count": 19,
     "metadata": {},
     "output_type": "execute_result"
    }
   ],
   "source": [
    "d.get(\"psy\", 0)  # Key \"psy\" exisitiert nicht, also wird 0 zurückgegeben"
   ]
  },
  {
   "cell_type": "code",
   "execution_count": 20,
   "metadata": {
    "collapsed": false
   },
   "outputs": [
    {
     "data": {
      "text/plain": [
       "'snake'"
      ]
     },
     "execution_count": 20,
     "metadata": {},
     "output_type": "execute_result"
    }
   ],
   "source": [
    "d.get(\"Schlange\", \"Tier\")"
   ]
  },
  {
   "cell_type": "code",
   "execution_count": 21,
   "metadata": {
    "collapsed": false
   },
   "outputs": [
    {
     "data": {
      "text/plain": [
       "'Schlange'"
      ]
     },
     "execution_count": 21,
     "metadata": {},
     "output_type": "execute_result"
    }
   ],
   "source": [
    "d.get(\"snake\", \"Schlange\")"
   ]
  },
  {
   "cell_type": "markdown",
   "metadata": {},
   "source": [
    "Zu beachten ist, dass in den Fällen, wo Standardwerte zurückgegeben werden, diese Einträge nicht automatisch im Dictionary erzeugt werden:"
   ]
  },
  {
   "cell_type": "code",
   "execution_count": 22,
   "metadata": {
    "collapsed": false
   },
   "outputs": [
    {
     "data": {
      "text/plain": [
       "{1: 3.14,\n",
       " 23: 'tt',\n",
       " 'Haus': 'house',\n",
       " 'Schlange': 'snake',\n",
       " 'Katze': 'cat',\n",
       " 'L': [1, 2, 3]}"
      ]
     },
     "execution_count": 22,
     "metadata": {},
     "output_type": "execute_result"
    }
   ],
   "source": [
    "d"
   ]
  },
  {
   "cell_type": "markdown",
   "metadata": {},
   "source": [
    "Möchte man diese neuen Einträge gleich dem Dictionary hinzufügen, verwendet man die Methode `setdefault`:"
   ]
  },
  {
   "cell_type": "code",
   "execution_count": 23,
   "metadata": {
    "collapsed": false
   },
   "outputs": [
    {
     "data": {
      "text/plain": [
       "42"
      ]
     },
     "execution_count": 23,
     "metadata": {},
     "output_type": "execute_result"
    }
   ],
   "source": [
    "d.setdefault(\"X\", 42)"
   ]
  },
  {
   "cell_type": "code",
   "execution_count": 24,
   "metadata": {
    "collapsed": false
   },
   "outputs": [
    {
     "data": {
      "text/plain": [
       "{1: 3.14,\n",
       " 23: 'tt',\n",
       " 'Haus': 'house',\n",
       " 'Schlange': 'snake',\n",
       " 'X': 42,\n",
       " 'Katze': 'cat',\n",
       " 'L': [1, 2, 3]}"
      ]
     },
     "execution_count": 24,
     "metadata": {},
     "output_type": "execute_result"
    }
   ],
   "source": [
    "d"
   ]
  },
  {
   "cell_type": "code",
   "execution_count": 25,
   "metadata": {
    "collapsed": false
   },
   "outputs": [
    {
     "data": {
      "text/plain": [
       "42"
      ]
     },
     "execution_count": 25,
     "metadata": {},
     "output_type": "execute_result"
    }
   ],
   "source": [
    "d.setdefault(\"X\", 100)"
   ]
  },
  {
   "cell_type": "code",
   "execution_count": 26,
   "metadata": {
    "collapsed": false
   },
   "outputs": [
    {
     "data": {
      "text/plain": [
       "{1: 3.14,\n",
       " 23: 'tt',\n",
       " 'Haus': 'house',\n",
       " 'Schlange': 'snake',\n",
       " 'X': 42,\n",
       " 'Katze': 'cat',\n",
       " 'L': [1, 2, 3]}"
      ]
     },
     "execution_count": 26,
     "metadata": {},
     "output_type": "execute_result"
    }
   ],
   "source": [
    "d"
   ]
  },
  {
   "cell_type": "markdown",
   "metadata": {},
   "source": [
    "## Module und Packages\n",
    "Wenn man in einer interaktiven Python-Sitzung (also z.B. in der IPython-Console in Spyder) programmiert, dann gehen alle Definitionen (Variablen, Funktionen) beim Beenden der Sitzung verloren. Daher ist es sinnvoll, Code in einem Script zu speichern (ein Script ist eine Textdatei mit der Endung `.py`, welche Python-Code enthält). Dieses Script kann man dann beliebig oft ausführen.\n",
    "\n",
    "Wenn ein Programm umfangreicher wird, möchte man vielleicht Code auf unterschiedliche Dateien aufteilen. Es wäre dann sehr umständlich, eine benötigte Funktion in jeder Datei neu zu definieren. In Python kann man daher Code in sogenannte Module auslagern. Module sind ganz normale Textdateien mit der Endung `.py` (d.h. technisch gesehen gibt es keinen Unterschied zwischen Scripts und Modulen). Module enthalten normalerweise hauptsächlich Definitionen von Funktionen und Variablen. Diese Definitionen können dann einfach in andere Dateien (Scripts oder Module) mit dem Befehl `import` importiert werden.\n",
    "\n",
    "\n",
    "### Beispiel\n",
    "Als Beispiel definieren wir die Funktion `mean` in dem Modul `stuff.py`:\n",
    "\n",
    "```\n",
    "def mean(values):\n",
    "    s = 0\n",
    "    for v in values:\n",
    "        s += v\n",
    "    return s / len(values)\n",
    "```\n",
    "\n",
    "Wenn wir diese Funktion nun in einem Script verwenden wollen, können wir den gesamten Inhalt von `stuff.py` importieren:"
   ]
  },
  {
   "cell_type": "code",
   "execution_count": 27,
   "metadata": {
    "collapsed": true
   },
   "outputs": [],
   "source": [
    "import stuff"
   ]
  },
  {
   "cell_type": "markdown",
   "metadata": {},
   "source": [
    "Nach diesem Import steht ein Objekt namens `stuff` zur Verfügung, mit dem man alle dort definierten Funktionen ansprechen kann:"
   ]
  },
  {
   "cell_type": "code",
   "execution_count": 28,
   "metadata": {
    "collapsed": false
   },
   "outputs": [
    {
     "data": {
      "text/plain": [
       "3.5"
      ]
     },
     "execution_count": 28,
     "metadata": {},
     "output_type": "execute_result"
    }
   ],
   "source": [
    "stuff.mean([1, 2, 3, 4, 5, 6])"
   ]
  },
  {
   "cell_type": "markdown",
   "metadata": {},
   "source": [
    "Wenn man gezielt spezifische Funktionen aus einem Modul importieren möchte, kann man dies so tun:"
   ]
  },
  {
   "cell_type": "code",
   "execution_count": 29,
   "metadata": {
    "collapsed": true
   },
   "outputs": [],
   "source": [
    "from stuff import mean"
   ]
  },
  {
   "cell_type": "markdown",
   "metadata": {},
   "source": [
    "Dann ist diese importierte Funktion direkt verfügbar:"
   ]
  },
  {
   "cell_type": "code",
   "execution_count": 30,
   "metadata": {
    "collapsed": false
   },
   "outputs": [
    {
     "data": {
      "text/plain": [
       "3.5"
      ]
     },
     "execution_count": 30,
     "metadata": {},
     "output_type": "execute_result"
    }
   ],
   "source": [
    "mean([1, 2, 3, 4, 5, 6])"
   ]
  },
  {
   "cell_type": "markdown",
   "metadata": {},
   "source": [
    "Alternativ kann man gezielt ein Modul oder eine Funktion unter einem anderen Namen importieren:"
   ]
  },
  {
   "cell_type": "code",
   "execution_count": 31,
   "metadata": {
    "collapsed": true
   },
   "outputs": [],
   "source": [
    "import stuff as st  # Modul ist als st bekannt"
   ]
  },
  {
   "cell_type": "code",
   "execution_count": 32,
   "metadata": {
    "collapsed": false
   },
   "outputs": [
    {
     "data": {
      "text/plain": [
       "3.5"
      ]
     },
     "execution_count": 32,
     "metadata": {},
     "output_type": "execute_result"
    }
   ],
   "source": [
    "st.mean([1, 2, 3, 4, 5, 6])"
   ]
  },
  {
   "cell_type": "code",
   "execution_count": 33,
   "metadata": {
    "collapsed": true
   },
   "outputs": [],
   "source": [
    "from stuff import mean as m  # Funktion mean aus stuff ist als m bekannt"
   ]
  },
  {
   "cell_type": "code",
   "execution_count": 34,
   "metadata": {
    "collapsed": false
   },
   "outputs": [
    {
     "data": {
      "text/plain": [
       "11.5"
      ]
     },
     "execution_count": 34,
     "metadata": {},
     "output_type": "execute_result"
    }
   ],
   "source": [
    "m([10, 11, 12, 13])"
   ]
  },
  {
   "cell_type": "markdown",
   "metadata": {},
   "source": [
    "### Eigenschaften\n",
    "Mit diesem Mechanismus kann man Python um zusätzliche Funktionalität erweitern. Dies ist eines der mächtigsten Konzepte von Python, da es eine sehr große Anzahl an Modulen bzw. Paketen (eine Sammlung von Modulen) gibt."
   ]
  },
  {
   "cell_type": "markdown",
   "metadata": {},
   "source": [
    "Um zu sehen, was alles in einem Modul definiert ist, kann man die Funktion `dir` verwenden:"
   ]
  },
  {
   "cell_type": "code",
   "execution_count": 35,
   "metadata": {
    "collapsed": false
   },
   "outputs": [
    {
     "data": {
      "text/plain": [
       "['__builtins__',\n",
       " '__cached__',\n",
       " '__doc__',\n",
       " '__file__',\n",
       " '__loader__',\n",
       " '__name__',\n",
       " '__package__',\n",
       " '__spec__',\n",
       " 'mean']"
      ]
     },
     "execution_count": 35,
     "metadata": {},
     "output_type": "execute_result"
    }
   ],
   "source": [
    "dir(stuff)"
   ]
  },
  {
   "cell_type": "markdown",
   "metadata": {},
   "source": [
    "Namen, die mit zwei Unterstrichen `__` beginnen und enden sind für den internen Gebrauch gedacht, d.h. normalerweise verwendet man solche Namen nicht. Im Beispiel des Moduls `stuff` sieht man, dass nur ein Name zur Verwendung gedacht ist, nämlich `mean`."
   ]
  },
  {
   "cell_type": "markdown",
   "metadata": {},
   "source": [
    "Innerhalb eines Moduls ist dessen Name in der Variable `__name__` zugänglich (dieser Name entspricht dem Dateinamen)."
   ]
  },
  {
   "cell_type": "code",
   "execution_count": 36,
   "metadata": {
    "collapsed": false
   },
   "outputs": [
    {
     "data": {
      "text/plain": [
       "'stuff'"
      ]
     },
     "execution_count": 36,
     "metadata": {},
     "output_type": "execute_result"
    }
   ],
   "source": [
    "stuff.__name__"
   ]
  },
  {
   "cell_type": "markdown",
   "metadata": {},
   "source": [
    "Ein Modul kann auch ganz normal als Script ausgeführt werden (d.h. nicht mit `import` importiert werden). Der Wert von `__name__` ist dann allerdings `__main__`. Dies kann man benutzen, um bestimmten Code nur auszuführen, wenn das Modul als Script ausgeführt wird, nicht aber, wenn es normal als Modul importiert wird. D.h. im Modul könnte sich folgender Code befinden:\n",
    "\n",
    "```\n",
    "if __name__ == \"__main__\":\n",
    "    print(\"This code does not run when you import the module.\")\n",
    "    print(\"You will only see these lines if you run it as a script.\")\n",
    "```"
   ]
  },
  {
   "cell_type": "markdown",
   "metadata": {},
   "source": [
    "Praktisch ist dieses Verhalten, wenn man Code zum Testen eines Moduls integrieren will. Diese Tests werden dann bei normaler Verwendung mit `import` ignoriert, aber wenn man das Modul direkt ausführt, werden diese Tests ausgeführt."
   ]
  },
  {
   "cell_type": "markdown",
   "metadata": {},
   "source": [
    "Ein Modul wird aus Effizienzgründen nur ein einziges Mal importiert - jeder erneute `import`-Befehl hat deswegen keine Auswirkung! Dies bedeutet, dass man ein geändertes Modul nur durch einen Neustart des Python-Interpreters importieren kann. Alternativ kann man auch, wenn es sich um ein einzelnes Modul handelt welches man gerade testen möchte, die Funktion `reload` aus dem Modul `importlib` verwenden (im folgenden Beispiel wird das Modul `stuff` erneut importiert):\n",
    "\n",
    "```\n",
    "import importlib\n",
    "importlib.reload(stuff)\n",
    "```"
   ]
  },
  {
   "cell_type": "markdown",
   "metadata": {},
   "source": [
    "Ohne Argumente listet die Funktion `dir` alle Namen (also Variablen, Module, Funktionen, usw.), die im Moment definiert sind, auf:"
   ]
  },
  {
   "cell_type": "code",
   "execution_count": 37,
   "metadata": {
    "collapsed": false
   },
   "outputs": [
    {
     "data": {
      "text/plain": [
       "['In',\n",
       " 'Out',\n",
       " '_',\n",
       " '_10',\n",
       " '_11',\n",
       " '_12',\n",
       " '_13',\n",
       " '_16',\n",
       " '_19',\n",
       " '_2',\n",
       " '_20',\n",
       " '_21',\n",
       " '_22',\n",
       " '_23',\n",
       " '_24',\n",
       " '_25',\n",
       " '_26',\n",
       " '_28',\n",
       " '_3',\n",
       " '_30',\n",
       " '_32',\n",
       " '_34',\n",
       " '_35',\n",
       " '_36',\n",
       " '_4',\n",
       " '_5',\n",
       " '_7',\n",
       " '_8',\n",
       " '_9',\n",
       " '__',\n",
       " '___',\n",
       " '__builtin__',\n",
       " '__builtins__',\n",
       " '__doc__',\n",
       " '__loader__',\n",
       " '__name__',\n",
       " '__package__',\n",
       " '__spec__',\n",
       " '_dh',\n",
       " '_i',\n",
       " '_i1',\n",
       " '_i10',\n",
       " '_i11',\n",
       " '_i12',\n",
       " '_i13',\n",
       " '_i14',\n",
       " '_i15',\n",
       " '_i16',\n",
       " '_i17',\n",
       " '_i18',\n",
       " '_i19',\n",
       " '_i2',\n",
       " '_i20',\n",
       " '_i21',\n",
       " '_i22',\n",
       " '_i23',\n",
       " '_i24',\n",
       " '_i25',\n",
       " '_i26',\n",
       " '_i27',\n",
       " '_i28',\n",
       " '_i29',\n",
       " '_i3',\n",
       " '_i30',\n",
       " '_i31',\n",
       " '_i32',\n",
       " '_i33',\n",
       " '_i34',\n",
       " '_i35',\n",
       " '_i36',\n",
       " '_i37',\n",
       " '_i4',\n",
       " '_i5',\n",
       " '_i6',\n",
       " '_i7',\n",
       " '_i8',\n",
       " '_i9',\n",
       " '_ih',\n",
       " '_ii',\n",
       " '_iii',\n",
       " '_oh',\n",
       " '_sh',\n",
       " 'd',\n",
       " 'exit',\n",
       " 'get_ipython',\n",
       " 'k',\n",
       " 'm',\n",
       " 'mean',\n",
       " 'quit',\n",
       " 'st',\n",
       " 'stuff',\n",
       " 'v']"
      ]
     },
     "execution_count": 37,
     "metadata": {},
     "output_type": "execute_result"
    }
   ],
   "source": [
    "dir()"
   ]
  },
  {
   "cell_type": "markdown",
   "metadata": {},
   "source": [
    "Wie man sieht, gibt es auch eine Menge an internen Namen, die mit einem Unterstrich beginnen. Gemeinsam mit Namen, die mit zwei Unterstrichen beginnen (und manchmal auch enden) bilden diese Namen \"private\" interne Variablen, die man normalerweise nicht direkt benötigt. Die Builtins werden mit `dir()` aufgrund einer besseren Übersichtlichkeit nicht aufgelistet, diese erhält man wie wir bereits wissen mit dem Befehl `dir(__builtins__)`."
   ]
  },
  {
   "cell_type": "markdown",
   "metadata": {},
   "source": [
    "### Standardmodule\n",
    "Python kommt mit einer großen Anzahl an Standardmodulen. Dies wird als Standard Library bezeichnet und ist Teil jeder Python-Distribution. Neben Modulen enthält die Standard Library auch eingebaute (built-in) Funktionen, Typen und Konstanten. Eine Liste aller Module in der Standard Library gibt es in der [offiziellen Dokumentation](https://docs.python.org/3/library/index.html).\n",
    "\n",
    "Beispielsweise gibt es seit Python 3.4 ein `statistics`-Modul, welches unsere oben definierte Funktion `mean` bereits mitbringt."
   ]
  },
  {
   "cell_type": "code",
   "execution_count": 38,
   "metadata": {
    "collapsed": false
   },
   "outputs": [
    {
     "data": {
      "text/plain": [
       "3.5"
      ]
     },
     "execution_count": 38,
     "metadata": {},
     "output_type": "execute_result"
    }
   ],
   "source": [
    "import statistics\n",
    "\n",
    "statistics.mean([1, 2, 3, 4, 5, 6])"
   ]
  },
  {
   "cell_type": "markdown",
   "metadata": {},
   "source": [
    "Das Modul `random` beinhaltet einige Funktionen zur Generierung von Zufallszahlen."
   ]
  },
  {
   "cell_type": "code",
   "execution_count": 39,
   "metadata": {
    "collapsed": false
   },
   "outputs": [
    {
     "data": {
      "text/plain": [
       "0"
      ]
     },
     "execution_count": 39,
     "metadata": {},
     "output_type": "execute_result"
    }
   ],
   "source": [
    "import random\n",
    "\n",
    "a = random.randint(0, 10)  # Zufallszahl\n",
    "a"
   ]
  },
  {
   "cell_type": "code",
   "execution_count": 40,
   "metadata": {
    "collapsed": false
   },
   "outputs": [
    {
     "data": {
      "text/plain": [
       "'Das'"
      ]
     },
     "execution_count": 40,
     "metadata": {},
     "output_type": "execute_result"
    }
   ],
   "source": [
    "x = [\"Das\", \"ist\", \"eine\", \"Liste\", \"mit\", \"ein\", \"paar\", \"Elementen\"]\n",
    "random.choice(x)  # Element zufällig auswählen"
   ]
  },
  {
   "cell_type": "code",
   "execution_count": 41,
   "metadata": {
    "collapsed": false
   },
   "outputs": [
    {
     "data": {
      "text/plain": [
       "['eine', 'paar', 'ist', 'ein', 'Das', 'Elementen', 'mit', 'Liste']"
      ]
     },
     "execution_count": 41,
     "metadata": {},
     "output_type": "execute_result"
    }
   ],
   "source": [
    "random.shuffle(x)  # Liste mischen\n",
    "x"
   ]
  },
  {
   "cell_type": "code",
   "execution_count": 42,
   "metadata": {
    "collapsed": false
   },
   "outputs": [
    {
     "data": {
      "text/plain": [
       "13.026505294329253"
      ]
     },
     "execution_count": 42,
     "metadata": {},
     "output_type": "execute_result"
    }
   ],
   "source": [
    "random.normalvariate(10, 4)  # Sample aus einer Normalverteilung"
   ]
  },
  {
   "cell_type": "markdown",
   "metadata": {},
   "source": [
    "Das Modul `math` definiert gebräuchliche mathematische Funktionen und Konstanten."
   ]
  },
  {
   "cell_type": "code",
   "execution_count": 43,
   "metadata": {
    "collapsed": false
   },
   "outputs": [
    {
     "data": {
      "text/plain": [
       "3.141592653589793"
      ]
     },
     "execution_count": 43,
     "metadata": {},
     "output_type": "execute_result"
    }
   ],
   "source": [
    "import math\n",
    "\n",
    "math.pi  # Pi"
   ]
  },
  {
   "cell_type": "code",
   "execution_count": 44,
   "metadata": {
    "collapsed": false
   },
   "outputs": [
    {
     "data": {
      "text/plain": [
       "2.718281828459045"
      ]
     },
     "execution_count": 44,
     "metadata": {},
     "output_type": "execute_result"
    }
   ],
   "source": [
    "math.e  # Eulersche Zahl"
   ]
  },
  {
   "cell_type": "code",
   "execution_count": 45,
   "metadata": {
    "collapsed": false
   },
   "outputs": [
    {
     "data": {
      "text/plain": [
       "4.0"
      ]
     },
     "execution_count": 45,
     "metadata": {},
     "output_type": "execute_result"
    }
   ],
   "source": [
    "math.sqrt(16)  # Wurzel"
   ]
  },
  {
   "cell_type": "markdown",
   "metadata": {},
   "source": [
    "### Packages\n"
   ]
  },
  {
   "cell_type": "markdown",
   "metadata": {},
   "source": [
    "Eine Ansammlung von Modulen kann in ein Package verpackt werden. Ein Package besteht im Prinzip aus einzelnen Modulen, die in Unterverzeichnissen organisiert sind. Am besten kann dies durch ein Beispiel veranschaulicht werden. Sehen wir uns ein (fiktives) Package namens `sound` an, welches folgende Datei- und Verzeichnisstruktur aufweist:\n",
    "\n",
    "    sound/                          Top-level package\n",
    "          __init__.py               Initialize the sound package\n",
    "          formats/                  Subpackage for file format conversions\n",
    "                  __init__.py\n",
    "                  wavread.py\n",
    "                  wavwrite.py\n",
    "                  aiffread.py\n",
    "                  aiffwrite.py\n",
    "                  auread.py\n",
    "                  auwrite.py\n",
    "                  ...\n",
    "          effects/                  Subpackage for sound effects\n",
    "                  __init__.py\n",
    "                  echo.py\n",
    "                  surround.py\n",
    "                  reverse.py\n",
    "                  ...\n",
    "          filters/                  Subpackage for filters\n",
    "                  __init__.py\n",
    "                  equalizer.py\n",
    "                  vocoder.py\n",
    "                  karaoke.py\n",
    "                  ..."
   ]
  },
  {
   "cell_type": "markdown",
   "metadata": {},
   "source": [
    "Damit Python weiß, dass es sich bei einem Verzeichnis um ein Package handelt, muss die Datei `__init__.py` in diesem Verzeichnis vorhanden sein (diese Datei ist im einfachsten Fall einfach leer).\n",
    "\n",
    "Individuelle Module aus dem Package können nun wie folgt importiert werden:\n",
    "\n",
    "```\n",
    "import sound.effects.echo\n",
    "```\n",
    "\n",
    "Eine Funktion aus diesem Modul kann man nun verwenden, indem man den gesamten Namen angibt, also z.B.\n",
    "\n",
    "```\n",
    "sound.effects.echo.echofilter(input, output, delay=0.7, atten=4)\n",
    "```\n",
    "\n",
    "Alternativ kann das Modul so importiert werden:\n",
    "\n",
    "```\n",
    "from sound.effects import echo\n",
    "```\n",
    "\n",
    "Dies ermöglicht es, auf eine Funktion zuzugreifen, ohne den kompletten Namen anzugeben:\n",
    "\n",
    "```\n",
    "echo.echofilter(input, output, delay=0.7, atten=4)\n",
    "```\n",
    "\n",
    "Schließlich kann man auch die gewünschte Funktion direkt aus dem Modul importieren:\n",
    "\n",
    "```\n",
    "from sound.effects.echo import echofilter\n",
    "```\n",
    "\n",
    "Die Funktion kann dann direkt verwendet werden:\n",
    "\n",
    "```\n",
    "echofilter(input, output, delay=0.7, atten=4)\n",
    "```\n",
    "\n",
    "Eine weitere Möglichkeit besteht darin, dass man einzelne importierte Funktionen umbenennt (z.B. um lange Funktionsnamen abzukürzen):\n",
    "\n",
    "```\n",
    "from sound.effects.echo import echofilter as ef\n",
    "```\n",
    "\n",
    "Nun ist also die Funktion `echofilter` mit `ef` ansprechbar und wird so verwendet:\n",
    "\n",
    "```\n",
    "ef(input, output, delay=0.7, atten=4)\n",
    "```\n",
    "\n",
    "Für viele Module/Packages haben sich Abkürzungen etabliert:\n",
    "\n",
    "```\n",
    "import numpy as np\n",
    "import scipy as sp\n",
    "import pandas as pd\n",
    "import matplotlib.pyplot as plt\n",
    "```"
   ]
  },
  {
   "cell_type": "markdown",
   "metadata": {},
   "source": [
    "### Wichtige Packages im wissenschaftlichen Bereich\n",
    "Python eignet sich hervorragend für wissenschaftliches Arbeiten (z.B. Datenanalyse, statistische Auswertungen, grafische Darstellungen). Folgende Packages haben sich dafür als praktisch herausgestellt (diese Packages werden oft unter dem Begriff [SciPy-Stack](http://www.scipy.org/about.html) zusammengefasst):\n",
    "\n",
    "* [NumPy](http://www.numpy.org/) bietet einen hochoptimierten Datentyp für numerische Berechnungen\n",
    "* [SciPy](http://www.scipy.org/scipylib/index.html) enthält Algorithmen aus verschiedenen wissenschaftlichen Disziplinen\n",
    "* [Pandas](http://pandas.pydata.org/) vereinfacht die Verarbeitung von tabellarischen Daten\n",
    "* [Matplotlib](http://matplotlib.org/) erstellt verschiedenste Grafiken\n",
    "* [IPython](http://ipython.org/) bzw. [Jupyter](http://jupyter.org/) ermöglichen komfortables interaktives Arbeiten mit Python"
   ]
  }
 ],
 "metadata": {
  "anaconda-cloud": {},
  "kernelspec": {
   "display_name": "Python [default]",
   "language": "python",
   "name": "python3"
  },
  "language_info": {
   "codemirror_mode": {
    "name": "ipython",
    "version": 3
   },
   "file_extension": ".py",
   "mimetype": "text/x-python",
   "name": "python",
   "nbconvert_exporter": "python",
   "pygments_lexer": "ipython3",
   "version": "3.5.2"
  }
 },
 "nbformat": 4,
 "nbformat_minor": 0
}
