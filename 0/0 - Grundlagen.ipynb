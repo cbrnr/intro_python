{
 "cells": [
  {
   "cell_type": "markdown",
   "metadata": {
    "deletable": true,
    "editable": true
   },
   "source": [
    "_Einführung in Python, Clemens Brunner, 16.3.2017_\n",
    "\n",
    "# 0 - Grundlagen"
   ]
  },
  {
   "cell_type": "markdown",
   "metadata": {
    "deletable": true,
    "editable": true
   },
   "source": [
    "## Überblick\n",
    "\n",
    "Im Seminar \"Einführung in Python\" werden Sie die Programmiersprache Python kennenlernen. Sie werden die grundlegenden Sprachelemente wie z.B. Schleifen, Funktionen und Bedingungen sowie wichtige Datentypen kennenlernen. Nach einer ausführlichen Behandlung der Grundlagen werden wir gegen Ende der Lehrveranstaltung lernen, wie man Python für die Analyse von Daten einsetzen kann (z.B. Einlesen von Daten, Darstellung von numerischen und tabellarischen Daten, Erstellen von Grafiken). Diese Lehrveranstaltung setzt keinerlei Vorwissen im Bereich Programmieren voraus. Die Grundlagen des Programmierens werden praxisnahe erläutert; dieses Grundlagenwissen können Sie auf die meisten anderen Programmiersprachen übertragen. Aufgrund der begrenzten Zeit können nur sehr grundlegende Konzepte in Python abgedeckt werden, die aber Voraussetzung für alle komplexeren Anwendungen sind. Sie werden aber durch ein umfassendes Basiswissen selbst die Werkzeuge in die Hand bekommen, sich fortgeschrittenere Methoden in Python selbst anzueignen. Für die wissenschaftliche Praxis besonders relevante Pakete werden wir dennoch in den letzten Einheiten des Seminars zumindest oberflächlich behandeln.\n",
    "\n",
    "Der Plan für dieses Semester sieht wie folgt aus:\n",
    "\n",
    "Einheit | Datum     | Inhalt\n",
    "-------:| ---------:| ------\n",
    "0       | 16.3.2017 | Grundlagen\n",
    "1       | 23.3.2017 | Die Python-Umgebung\n",
    "2       | 30.3.2017 | Variablen, Ausdrücke, Anweisungen\n",
    "3       |  6.4.2017 | Funktionen\n",
    "4       | 27.4.2017 | Bedingungen und Schleifen\n",
    "5       |  4.5.2017 | Strings\n",
    "6       | 11.5.2017 | Listen\n",
    "7       | 18.5.2017 | Dictionaries, Module und Packages\n",
    "8       |  1.6.2017 | Ein- und Ausgabe\n",
    "9       |  8.6.2017 | NumPy\n",
    "10      | 22.6.2017 | Matplotlib und Seaborn\n",
    "11      | 29.6.2017 | Pandas"
   ]
  },
  {
   "cell_type": "markdown",
   "metadata": {
    "deletable": true,
    "editable": true
   },
   "source": [
    "## Organisatorisches\n",
    "### Anwesenheit\n",
    "Diese Lehrveranstaltung wird als Seminar abgehalten. Daher sind Sie aufgefordert, sich aktiv an der Veranstaltung zu beteiligen. Eine Voraussetzung für den positiven Abschluss ist Ihre Anwesenheit. Sie dürfen sich zu maximal zwei Einheiten entschuldigen.\n",
    "\n",
    "In den Einheiten werden sich Theorie und Praxis abwechseln, d.h. Sie werden neue Dinge sowohl kennenlernen als auch an praktischen Beispielen in Python umsetzen.\n",
    "\n",
    "### Hausübungen\n",
    "Ein weiterer Bestandteil dieses Seminars sind Hausübungen. Es wird zu jeder Einheit eine Hausübung geben, die Sie selbstständig nach der jeweiligen Einheit bearbeiten. Die Abgabe einer Hausübung ist bis zur folgenden Einheit möglich, d.h. Sie haben in der Regel mindestens eine Woche pro Hausübung Zeit.\n",
    "\n",
    "### Benotung\n",
    "In die Note fließen beide zuvor beschriebenen Kriterien ein:\n",
    "\n",
    "- Anwesenheit und aktive Mitarbeit\n",
    "- Hausübungen\n",
    "\n",
    "Wie bereits erwähnt dürfen Sie maximal zwei Mal fehlen. Ein Fehlen in jeder weiteren Einheit führt dazu, dass Ihre Beurteilung pro zusätzlicher Fehlstunde um eine Note herabgestuft wird.\n",
    "\n",
    "Jede Hausübung wird mit maximal 10 Punkten bewertet. Eine nicht abgegebene Hausübung zählt 0 Punkte. Aus den Punkten aller Hausübungen wird dann der Mittelwert berechnet. Aus dem Mittelwert wird eine Note für die Hausübungen wie folgt ermittelt:\n",
    "\n",
    "< 6 Punkte     | 6-7 Punkte | 7-8 Punkte   | 8-9 Punkte | 9-10 Punkte\n",
    "-------------- | ---------- | ------------ | ---------- | ------------\n",
    "Nicht genügend | Genügend   | Befriedigend | Gut        | Sehr gut\n",
    "\n",
    "Wenn Sie die Anwesenheitskriterien erfüllen entspricht die Hausübungsnote der Gesamtnote auf das Seminar."
   ]
  },
  {
   "cell_type": "markdown",
   "metadata": {
    "deletable": true,
    "editable": true
   },
   "source": [
    "## Überblick über Python\n",
    "\n",
    "![](python.png)"
   ]
  },
  {
   "cell_type": "markdown",
   "metadata": {
    "deletable": true,
    "editable": true
   },
   "source": [
    "### Was ist Python?\n",
    "\n",
    "- Einfach zu erlernende Programmiersprache\n",
    "- Einsteigerfreundlich\n",
    "- Elegante und kompakte Syntax\n",
    "- Open Source (freie Software)\n",
    "- Plattformübergreifend (Windows, macOS, Linux)\n",
    "- Vielfältige Einsatzgebiete (keine domain-spezifische Programmiersprache)\n",
    "- Sehr gut geeignet für Datenanalyse\n",
    "- Daher populär u.a. im wissenschaftlichen Bereich\n",
    "- Interpretierte Sprache\n",
    "- Umfangreiche Standardbibliothek\n",
    "- Riesige Anzahl an Zusatzpaketen verfügbar\n",
    "- Einfache Dokumentation und Visualisierung von Datenanalysen (Jupyter Notebook)"
   ]
  },
  {
   "cell_type": "markdown",
   "metadata": {
    "deletable": true,
    "editable": true
   },
   "source": [
    "### Verbreitung von Python\n",
    "Der [TIOBE-Index](http://www.tiobe.com/tiobe_index) ist ein Maß für die Popularität von Programmiersprachen. Im März 2017 sah die Reihung laut diesem Index wie folgt aus:\n",
    "\n",
    "\n",
    "Platz | Sprache           | Index\n",
    "-----:| ----------------- | ------:\n",
    "    1 | Java              | 16.38%  \n",
    "    2 | C                 |  7.74%  \n",
    "    3 | C++               |  5.18%   \n",
    "    4 | C#                |  4.41%   \n",
    "    5 | Python            |  3.92%   \n",
    "    6 | Visual Basic .NET |  3.17%   \n",
    "  ... |                   |\n",
    "   14 | R                 |  2.02%   \n",
    "   18 | MATLAB            |  1.85%   \n",
    "  ... |                   |\n",
    "   47 | Julia             |  0.32%"
   ]
  },
  {
   "cell_type": "markdown",
   "metadata": {
    "deletable": true,
    "editable": true
   },
   "source": [
    "Dieser Index sagt allerdings nichts über die Qualität einer Programmiersprache aus (sofern man das überhaupt beurteilen kann), sondern ist eher ein Maß für die Aktivität der Community hinter einer Sprache. Dies ist durchaus ein sehr wichtiger Faktor, denn je größer und aktiver die Community einer Sprache ist, desto einfacher wird man existierende Lösungen zu Problemen finden bzw. desto schneller wird man eine Antwort auf ein noch ungelöstes Problem bekommen."
   ]
  },
  {
   "cell_type": "markdown",
   "metadata": {
    "deletable": true,
    "editable": true
   },
   "source": [
    "Python ist eine generische Programmiersprache, d.h. Python ist nicht spezialisiert auf ein eingeschränktes Gebiet, so wie z.B. R auf Datenanalyse/Statistik ausgerichtet ist. Mit spezialisierten Programmiersprachen kann man manche Dinge schneller/besser/eleganter/kürzer lösen als generische Programmiersprachen. Im Gegensatz dazu ist man mit generischen Programmiersprachen aber nicht auf ein bestimmtes Gebiet eingeschränkt, mit Python kann man neben Datenanalyse, numerischen Berechnungen und Statistik auch z.B. Webanwendungen oder \"richtige\" Programme mit grafischen Oberflächen erstellen."
   ]
  },
  {
   "cell_type": "markdown",
   "metadata": {
    "deletable": true,
    "editable": true
   },
   "source": [
    "### Beispielcode"
   ]
  },
  {
   "cell_type": "code",
   "execution_count": 1,
   "metadata": {
    "collapsed": false,
    "deletable": true,
    "editable": true
   },
   "outputs": [
    {
     "name": "stdout",
     "output_type": "stream",
     "text": [
      "Hello World!\n"
     ]
    }
   ],
   "source": [
    "print(\"Hello World!\")"
   ]
  },
  {
   "cell_type": "code",
   "execution_count": 2,
   "metadata": {
    "collapsed": false,
    "deletable": true,
    "editable": true
   },
   "outputs": [
    {
     "name": "stdout",
     "output_type": "stream",
     "text": [
      "0, 1, 2, 3, 4, 5, 6, 7, 8, 9, "
     ]
    }
   ],
   "source": [
    "for i in range(10):\n",
    "    print(i, end=\", \")"
   ]
  },
  {
   "cell_type": "code",
   "execution_count": 3,
   "metadata": {
    "collapsed": false,
    "deletable": true,
    "editable": true
   },
   "outputs": [
    {
     "name": "stdout",
     "output_type": "stream",
     "text": [
      "0, 1, 2, 3, 4, 5, 6, 7, 8, 9\n"
     ]
    }
   ],
   "source": [
    "print(\", \".join([str(i) for i in range(10)]))"
   ]
  },
  {
   "cell_type": "code",
   "execution_count": 4,
   "metadata": {
    "collapsed": false,
    "deletable": true,
    "editable": true
   },
   "outputs": [
    {
     "data": {
      "text/plain": [
       "[0, 100, 400, 900, 1600, 2500, 3600, 4900, 6400, 8100]"
      ]
     },
     "execution_count": 4,
     "metadata": {},
     "output_type": "execute_result"
    }
   ],
   "source": [
    "[k**2 for k in range(0, 100, 10)]"
   ]
  },
  {
   "cell_type": "markdown",
   "metadata": {
    "deletable": true,
    "editable": true
   },
   "source": [
    "### Aufbau von Python\n",
    "\n",
    "![](python_blocks.png)"
   ]
  },
  {
   "cell_type": "markdown",
   "metadata": {
    "collapsed": true,
    "deletable": true,
    "editable": true
   },
   "source": [
    "## Installation\n",
    "Auf der [offiziellen Python-Website](https://www.python.org/) findet man alles rund um Python. Dort kann man auch Installationspakete für diverse Betriebssysteme herunterladen. Weiters gibt es dort auch eine sehr umfangreiche Dokumentation inklusive Beispielen und Tutorials.\n",
    "\n",
    "Die Installation bzw. die Wartung von Python kann mit den offiziellen Installationspaketen aber mitunter relativ aufwändig sein (vor allem auf Windows-Rechnern). Insbesondere im wissenschaftlichen Bereich hat es sich bewährt, die fertig geschnürte Python-Distribution [Anaconda Python](https://www.continuum.io/downloads) zu verwenden. Dabei handelt es sich um eine Sammlung abgestimmter und getesteter Komponenten, aber im Kern befindet sich ein ganz normales unverändertes Python. Mit Anaconda Python ist es oft einfacher, Python auf einem beliebigen System zu installieren und Zusatzpakete zu verwenden, da viele Pakete schon vorinstalliert sind.\n",
    "\n",
    "Für welche Installationsart man sich auch entscheidet, eine Frage muss man immer noch beantworten: Python 2 oder Python 3? Die kurze Antwort darauf: unbedingt Python 3!\n",
    "\n",
    "Wieso gibt es eigentlich immer noch zwei Python-Versionen? Bei der Entwicklung von Python 3 hat man sich entschieden, in manchen Bereichen nicht abwärtskompatibel zur Version 2 zu bleiben. Das bedeutet, dass Code, der in Python 3 geschrieben ist, nicht unbedingt auf Python 2 läuft (und umgekehrt). Die Unterschiede sind aber nicht so groß, und man kann durchaus Python-Code erstellen, der mit beiden Versionen läuft. Diese Entscheidung, nicht abwärtskompatibel zu bleiben, war sehr umstritten in der Python-Community. Es hat lange gedauert, bis große Python-Pakete für Python 3 erschienen sind. Daher entschieden sich viele Leute noch für Python 2, denn ansonsten gab es keine Möglichkeit viele wichtige Pakete zu verwenden. Mittlerweile gibt es aber alle wichtigen Pakete für Python 3, sodass man nur noch in Ausnahmefällen auf Python 2 zurückgreifen muss. In dieser Lehrveranstaltung werden wir ausschließlich Python 3 verwenden - stellen Sie daher bitte sicher, dass Sie diese Version benutzen um etwaige Probleme zu vermeiden."
   ]
  },
  {
   "cell_type": "markdown",
   "metadata": {
    "deletable": true,
    "editable": true
   },
   "source": [
    "## Erste Schritte\n",
    "\n",
    "Nachdem Sie Python installiert haben, starten Sie den Python-Interpreter. Dabei handelt es sich um eine textbasierte Anwendung, in der Sie Python-Befehle eintippen können. Die Ergebnisse der Befehle werden direkt nach Bestätigung mit der Eingabetaste angezeigt.\n",
    "\n",
    "Es gibt viele Möglichkeiten, den Python-Interpreter zu verwenden - mehr dazu in der nächsten Einheit. Fürs erste ist es am einfachsten, wenn Sie eine IPython-Console starten.\n",
    "\n",
    "Dies funktioniert unter Windows am einfachsten über das Windows-Startmenü durch Starten von \"IPython\" oder \"Jupyter QTConsole\" im Anaconda-Ordner.\n",
    "\n",
    "![](anaconda_start_menu.png)\n",
    "\n",
    "Unter macOS starten Sie am einfachsten den Anaconda Navigator (ein Link befindet sich am Desktop). Dort suchen Sie dann den Eintrag \"qtconsole\" und klicken dann auf \"Launch\". Sie können diese Vorgehensweise auch unter Windows verwenden.\n",
    "\n",
    "![](navigator.png)"
   ]
  },
  {
   "cell_type": "markdown",
   "metadata": {
    "deletable": true,
    "editable": true
   },
   "source": [
    "Wenn Sie dann eine IPython-Console geöffnet haben, sehen Sie ein Fenster vor sich, in dem Sie Python-Befehle eingeben können. Dieses Fenster sollte in etwa so aussehen:\n",
    "\n",
    "![](jupyter_qtconsole.png)"
   ]
  },
  {
   "cell_type": "markdown",
   "metadata": {
    "deletable": true,
    "editable": true
   },
   "source": [
    "Nun können Sie Python-Befehle eintippen und mit der Eingabetaste bestätigen. So können Sie Python z.B. als Taschenrechner verwenden:"
   ]
  },
  {
   "cell_type": "code",
   "execution_count": 5,
   "metadata": {
    "collapsed": false,
    "deletable": true,
    "editable": true
   },
   "outputs": [
    {
     "data": {
      "text/plain": [
       "2"
      ]
     },
     "execution_count": 5,
     "metadata": {},
     "output_type": "execute_result"
    }
   ],
   "source": [
    "1 + 1"
   ]
  },
  {
   "cell_type": "code",
   "execution_count": 6,
   "metadata": {
    "collapsed": false,
    "deletable": true,
    "editable": true
   },
   "outputs": [
    {
     "data": {
      "text/plain": [
       "3"
      ]
     },
     "execution_count": 6,
     "metadata": {},
     "output_type": "execute_result"
    }
   ],
   "source": [
    "10 - 7"
   ]
  },
  {
   "cell_type": "code",
   "execution_count": 7,
   "metadata": {
    "collapsed": false,
    "deletable": true,
    "editable": true
   },
   "outputs": [
    {
     "data": {
      "text/plain": [
       "56"
      ]
     },
     "execution_count": 7,
     "metadata": {},
     "output_type": "execute_result"
    }
   ],
   "source": [
    "7 * 8"
   ]
  },
  {
   "cell_type": "code",
   "execution_count": 8,
   "metadata": {
    "collapsed": false,
    "deletable": true,
    "editable": true
   },
   "outputs": [
    {
     "data": {
      "text/plain": [
       "17.142857142857142"
      ]
     },
     "execution_count": 8,
     "metadata": {},
     "output_type": "execute_result"
    }
   ],
   "source": [
    "120 / 7"
   ]
  },
  {
   "cell_type": "code",
   "execution_count": 9,
   "metadata": {
    "collapsed": false,
    "deletable": true,
    "editable": true
   },
   "outputs": [
    {
     "data": {
      "text/plain": [
       "17"
      ]
     },
     "execution_count": 9,
     "metadata": {},
     "output_type": "execute_result"
    }
   ],
   "source": [
    "120 // 7  # ganzzahlige Division"
   ]
  },
  {
   "cell_type": "code",
   "execution_count": 10,
   "metadata": {
    "collapsed": false,
    "deletable": true,
    "editable": true
   },
   "outputs": [
    {
     "data": {
      "text/plain": [
       "1"
      ]
     },
     "execution_count": 10,
     "metadata": {},
     "output_type": "execute_result"
    }
   ],
   "source": [
    "120 % 7  # ganzzahliger Rest der Division (Modulus)"
   ]
  },
  {
   "cell_type": "code",
   "execution_count": 11,
   "metadata": {
    "collapsed": false,
    "deletable": true,
    "editable": true
   },
   "outputs": [
    {
     "data": {
      "text/plain": [
       "18446744073709551616"
      ]
     },
     "execution_count": 11,
     "metadata": {},
     "output_type": "execute_result"
    }
   ],
   "source": [
    "2**64  # 2 hoch 64"
   ]
  },
  {
   "cell_type": "code",
   "execution_count": 12,
   "metadata": {
    "collapsed": false,
    "deletable": true,
    "editable": true
   },
   "outputs": [
    {
     "data": {
      "text/plain": [
       "149.0731707317073"
      ]
     },
     "execution_count": 12,
     "metadata": {},
     "output_type": "execute_result"
    }
   ],
   "source": [
    "(13 + 6) * 8 - 12 / (2.5 + 1.6)"
   ]
  },
  {
   "cell_type": "markdown",
   "metadata": {
    "deletable": true,
    "editable": true
   },
   "source": [
    "Bei der Eingabe von Zahlen ist darauf zu achten, dass Python die englische Zahlenschreibweise mit einem Punkt (`.`) als Dezimaltrennzeichen verwendet. Wenn Sie mathematische Funktionen verwenden möchten, müssen Sie zuerst das `math`-Modul importieren:"
   ]
  },
  {
   "cell_type": "code",
   "execution_count": 13,
   "metadata": {
    "collapsed": true,
    "deletable": true,
    "editable": true
   },
   "outputs": [],
   "source": [
    "import math"
   ]
  },
  {
   "cell_type": "markdown",
   "metadata": {
    "deletable": true,
    "editable": true
   },
   "source": [
    "Dann stehen Ihnen viele verschiedene Funktionen wie z.B. `sqrt` (Wurzel), `log` (Logarithmus) oder `sin` (Sinus) zur Verfügung, die man wie folgt verwendet:"
   ]
  },
  {
   "cell_type": "code",
   "execution_count": 14,
   "metadata": {
    "collapsed": false,
    "deletable": true,
    "editable": true
   },
   "outputs": [
    {
     "data": {
      "text/plain": [
       "1.4142135623730951"
      ]
     },
     "execution_count": 14,
     "metadata": {},
     "output_type": "execute_result"
    }
   ],
   "source": [
    "math.sqrt(2)"
   ]
  },
  {
   "cell_type": "code",
   "execution_count": 15,
   "metadata": {
    "collapsed": false,
    "deletable": true,
    "editable": true
   },
   "outputs": [
    {
     "data": {
      "text/plain": [
       "3.141592653589793"
      ]
     },
     "execution_count": 15,
     "metadata": {},
     "output_type": "execute_result"
    }
   ],
   "source": [
    "math.pi"
   ]
  },
  {
   "cell_type": "code",
   "execution_count": 16,
   "metadata": {
    "collapsed": false,
    "deletable": true,
    "editable": true
   },
   "outputs": [
    {
     "data": {
      "text/plain": [
       "8.974423397125074"
      ]
     },
     "execution_count": 16,
     "metadata": {},
     "output_type": "execute_result"
    }
   ],
   "source": [
    "1 + math.sqrt(5) * 7 - 2 * math.pi * 1.222"
   ]
  },
  {
   "cell_type": "markdown",
   "metadata": {
    "deletable": true,
    "editable": true
   },
   "source": [
    "## Anwendungsbeispiele\n",
    "Python wird für viele verschiedene Zwecke verwendet. Um Ihnen zu verdeutlichen, was man mit Python im Bereich der Psychologie und den Neurowissenschaften machen kann, sind hier einige prominente Beispiele angeführt, die vielleicht für Sie relevant sein könnten. Diese Auswahl ist jedoch bei weitem nicht vollständig und spiegelt vor allem meine persönliche Erfahrung wider.\n",
    "\n",
    "### Präsentation von Stimuli\n",
    "[PsychoPy](http://www.psychopy.org/) ist ein Programm zur Präsentation von Stimuli für psychophysiologische Untersuchungen. Beispielsweise kann man mit PsychoPy Paradigmen erstellen, die die Reaktionszeiten von Personen testen. Das Programm kann aber auch für fMRI- bzw. EEG-Untersuchungen verwendet werden, um die dort benötigten (visuellen bzw. auditorischen) Stimuli der Versuchsperson zeitpräzise zu präsentieren. PsychoPy kann über eine grafische Oberfläche bedient werden, aber spezielle Versuchsdesigns, die über die Standardparadigmen hinausgehen, programmiert man direkt in Python.\n",
    "\n",
    "![](psychopy.png)\n",
    "\n",
    "Alternativen zu PsychoPy sind die ebenfalls in Python geschriebenen Tools [Expyriment](https://github.com/expyriment/expyriment/tree/0.9.0rc1) und [OpenSesame](http://osdoc.cogsci.nl/)."
   ]
  },
  {
   "cell_type": "markdown",
   "metadata": {
    "deletable": true,
    "editable": true
   },
   "source": [
    "### Neurowissenschaften\n",
    "\n",
    "Python ist sehr populär in den Neurowissenschaften. Auf der [NIPY-Website](http://nipy.org/) (Neuroimaging for Python) haben sich einzelne Projekte zusammengeschlossen, welche spezifische Aufgaben im Bereich der Neurowissenschaften abdecken. Besonders viele Pakete gibt es für die Auswertung von fMRI-Daten. Hier gibt es z.B. [NiBabel](http://nipy.org/nibabel/) zum Einlesen verschiedenster Neuroimaging-Datenformate, [Nipype](http://www.mit.edu/~satra/nipype-nightly/) zur einheitlichen Verwendung verschiedenster fMRI-Analyseprogramme wie SPM oder FSL, [Dipy](http://nipy.org/dipy/) zur Auswertung von Diffusions-MRI, sowie [Nipy](http://nipy.org/nipy/), [Nitime](http://nipy.org/nitime/), [Nilearn](http://nilearn.github.io/) und [PyMVPA](http://www.pymvpa.org/) zur Analyse von fMRI-Daten.\n",
    "\n",
    "![](nilearn.png)\n",
    "\n",
    "[MNE-Python](http://mne-tools.github.io/stable/index.html) kann man zur Analyse von EEG- bzw. MEG-Signalen verwenden. Es werden eine Vielzahl an Methoden unterstützt, welche in der Verarbeitung von elektrophysiologischen Gehirnsignalen eine Rolle spielen, wie z.B. Filterung, Artefaktbereinigung, Quelllokalisation und Konnektivitätsanalysen. Für gerichtete Konnektivitätsanalysen zwischen kortikalen Quellen gibt es [SCoT](https://github.com/scot-dev/scot) (Source Connectivity Toolbox).\n",
    "\n",
    "![](scot.png)"
   ]
  },
  {
   "cell_type": "markdown",
   "metadata": {
    "deletable": true,
    "editable": true
   },
   "source": [
    "### Statistische Datenanalyse\n",
    "Zur statistischen Auswertung von Daten gibt es in Python eine große Anzahl an Paketen. Besonders populär sind für diese Zwecke NumPy, SciPy, Pandas, Statsmodels und Matplotlib. Einige dieser Pakete werden wir im Rahmen dieses Seminars kennenlernen (zumindest oberflächlich).\n",
    "\n",
    "![](scatter.png)"
   ]
  },
  {
   "cell_type": "markdown",
   "metadata": {
    "deletable": true,
    "editable": true
   },
   "source": [
    "### Grafische Oberflächen\n",
    "In Python kann man auch Programme mit grafischen Oberflächen erstellen. Ein Beispiel dafür werden wir demnächst kennenlernen: [Spyder](https://github.com/spyder-ide/spyder), eine Oberfläche zum Programmieren mit Python, welche komplett in Python geschrieben ist.\n",
    "\n",
    "![](spyder.png)"
   ]
  }
 ],
 "metadata": {
  "anaconda-cloud": {},
  "kernelspec": {
   "display_name": "Python 3",
   "language": "python",
   "name": "python3"
  },
  "language_info": {
   "codemirror_mode": {
    "name": "ipython",
    "version": 3
   },
   "file_extension": ".py",
   "mimetype": "text/x-python",
   "name": "python",
   "nbconvert_exporter": "python",
   "pygments_lexer": "ipython3",
   "version": "3.6.0"
  }
 },
 "nbformat": 4,
 "nbformat_minor": 0
}
