{
 "cells": [
  {
   "cell_type": "markdown",
   "metadata": {},
   "source": [
    "_Einführung in Python, Clemens Brunner, 8.10.2020_\n",
    "\n",
    "\n",
    "# 1 - Grundlagen"
   ]
  },
  {
   "cell_type": "markdown",
   "metadata": {},
   "source": [
    "## Überblick über Python\n",
    "In dieser Lehrveranstaltung werden Sie die Programmiersprache [Python](https://www.python.org/) kennenlernen. Zunächst werden wichtige Sprachelemente wie z.B. Schleifen, Funktionen und Bedingungen sowie grundlegende Datentypen vorgestellt. Nach einer ausführlichen Behandlung dieser Grundlagen werden Sie lernen, wie man Python für die Analyse von Daten einsetzen kann (z.B. Einlesen von einfachen Dateien, Repräsentieren von numerischen Daten, Erstellen von Grafiken). Abschließend werden Sie mit dem in der Psychologie populären Python-Paket [PsychoPy](https://www.psychopy.org/) einfache Experimente erstellen.\n",
    "\n",
    "Diese Lehrveranstaltung setzt keinerlei Programmierkenntnisse voraus. Die Grundlagen des Programmierens werden praxisnah erläutert &ndash; dieses Wissen können Sie danach auch auf die meisten anderen Programmiersprachen übertragen. Aufgrund des begrenzten Umfangs können allerdings nur grundlegende Konzepte in Python abgedeckt werden, die aber Voraussetzung für alle komplexeren Anwendungen sind. Sie werden durch ein umfassendes Basiswissen aber darauf vorbereitet, sich fortgeschrittenere Methoden selbst anzueignen.\n",
    "\n",
    "![](python.png)\n",
    "<div style=\"text-align: right\"><a href=\"https://xkcd.com/353/\">https://xkcd.com/353/</a></div>"
   ]
  },
  {
   "cell_type": "markdown",
   "metadata": {},
   "source": [
    "## Was ist Python?\n",
    "\n",
    "- Einfach zu erlernende Programmiersprache\n",
    "- Open Source (freie Software)\n",
    "- Plattformübergreifend (läuft auf Windows, macOS, Linux)\n",
    "- Vielfältige Einsatzgebiete (nicht spezialisiert auf nur einen Bereich wie z.B. Datenanalyse)\n",
    "- Sehr gut geeignet für reproduzierbare Datenanalysen im wissenschaftlichen Bereich\n",
    "- Umfangreiche Standardbibliothek\n",
    "- Große und hilfsbereite Community\n",
    "- Riesige Anzahl an Zusatzpaketen verfügbar\n",
    "\n",
    "Python ist eine generische Programmiersprache, d.h. Python ist nicht spezialisiert auf ein eingeschränktes Gebiet, so wie z.B. R auf Datenanalyse/Statistik ausgerichtet ist. Mit spezialisierten Programmiersprachen kann man manche Dinge schneller, besser, eleganter oder kürzer lösen als generische Programmiersprachen. Im Gegensatz dazu ist man mit generischen Programmiersprachen aber nicht auf ein bestimmtes Gebiet eingeschränkt. Mit Python kann man neben Datenanalysen, numerischen Berechnungen und Statistik auch z.B. Webanwendungen oder \"richtige\" Programme mit grafischen Oberflächen erstellen. Bevor man ein spezifisches Problem lösen möchte, sollte man sich also unter anderem auch überlegen, welches Tool bzw. welche Programmiersprache dafür geeignet ist."
   ]
  },
  {
   "cell_type": "markdown",
   "metadata": {},
   "source": [
    "## Verbreitung von Python\n",
    "Der [TIOBE-Index](http://www.tiobe.com/tiobe_index) ist ein Beispiel für einen Index, der die Popularität von Programmiersprachen zu messen versucht. Mit Stand Oktober 2020 sieht die Reihung laut diesem Index wie folgt aus:\n",
    "\n",
    "\n",
    "Platz | Sprache | Index\n",
    "-----:| --------| ------:\n",
    "    1 | C       | 16.95%  \n",
    "    2 | Java    | 12.56%   \n",
    "    3 | Python  | 11.28%   \n",
    "    4 | C++     |  6.94%   \n",
    "  ... | ...     | ...\n",
    "   9  | R       |  1.99%\n",
    "  ... | ...     | ...\n",
    "   20 | MATLAB  |  1.12%\n",
    "  ... | ...     | ...\n",
    "   32 | Julia   |  0.40%\n",
    "\n",
    "Diese Reihung sagt nichts über die Qualität einer Programmiersprache aus (sofern man das überhaupt beurteilen kann), sondern ist ein Maß für die Verbreitung bzw. die Aktivität der Community hinter einer Sprache. Dies ist durchaus ein sehr wichtiger Faktor, denn je größer und aktiver die Community hinter einer Sprache ist, desto einfacher wird man existierende Lösungen zu Problemen finden bzw. desto schneller wird man eine Antwort auf ein noch ungelöstes Problem bekommen.\n",
    "\n",
    "Alternative Maße wie beispielsweise [PYPL](http://pypl.github.io/PYPL.html) oder [RedMonk](https://redmonk.com/sogrady/2020/07/27/language-rankings-6-20/) zeichnen ein ähnliches Bild: Python ist im Moment unbestritten eine der beliebtesten Programmiersprachen."
   ]
  },
  {
   "cell_type": "markdown",
   "metadata": {},
   "source": [
    "## Wie sieht Python-Code aus?\n",
    "Im Folgenden sind beispielhaft einige Zeilen Python-Code dargestellt. Vieles ist vielleicht intuitiv verständlich, manches ist aber wahrscheinlich (noch) komplett unverständlich. In den grauen Zeilen die mit `In [.]:` bezeichnet sind befinden sich Python-Befehle, unmittelbar darunter folgt das Ergebnis des jeweiligen Befehls (manchmal auch in mit `Out[.]:` bezeichnet)."
   ]
  },
  {
   "cell_type": "code",
   "execution_count": 1,
   "metadata": {},
   "outputs": [
    {
     "name": "stdout",
     "output_type": "stream",
     "text": [
      "Hello World!\n"
     ]
    }
   ],
   "source": [
    "print(\"Hello World!\")"
   ]
  },
  {
   "cell_type": "code",
   "execution_count": 2,
   "metadata": {},
   "outputs": [
    {
     "data": {
      "text/plain": [
       "'LAUTER KLEINBUCHSTABEN'"
      ]
     },
     "execution_count": 2,
     "metadata": {},
     "output_type": "execute_result"
    }
   ],
   "source": [
    "\"lauter kleinbuchstaben\".upper()"
   ]
  },
  {
   "cell_type": "code",
   "execution_count": 3,
   "metadata": {},
   "outputs": [
    {
     "name": "stdout",
     "output_type": "stream",
     "text": [
      "0, 1, 2, 3, 4, 5, 6, 7, 8, 9, "
     ]
    }
   ],
   "source": [
    "for i in range(10):\n",
    "    print(i, end=\", \")"
   ]
  },
  {
   "cell_type": "code",
   "execution_count": 4,
   "metadata": {},
   "outputs": [
    {
     "name": "stdout",
     "output_type": "stream",
     "text": [
      "0, 1, 2, 3, 4, 5, 6, 7, 8, 9\n"
     ]
    }
   ],
   "source": [
    "print(\", \".join([str(i) for i in range(10)]))"
   ]
  },
  {
   "cell_type": "code",
   "execution_count": 5,
   "metadata": {},
   "outputs": [
    {
     "data": {
      "text/plain": [
       "[0, 100, 400, 900, 1600, 2500, 3600, 4900, 6400, 8100]"
      ]
     },
     "execution_count": 5,
     "metadata": {},
     "output_type": "execute_result"
    }
   ],
   "source": [
    "[k**2 for k in range(0, 100, 10)]"
   ]
  },
  {
   "cell_type": "markdown",
   "metadata": {},
   "source": [
    "## Installation\n",
    "Auf der [offiziellen Python-Website](https://www.python.org/) findet man alles rund um Python. Dort kann man auch Installationspakete für diverse Betriebssysteme herunterladen. Weiters gibt es dort auch die sehr umfangreiche offizielle Dokumentation inklusive vielen Beispielen und Tutorials.\n",
    "\n",
    "Die Installation bzw. die Wartung von Python kann mit den offiziellen Installationspaketen aber mitunter relativ aufwändig sein. Insbesondere im wissenschaftlichen Bereich hat es sich daher bewährt, die fertig geschnürte Python-Umgebung [Anaconda](https://www.anaconda.com/download/) zu verwenden. Dabei handelt es sich um eine Sammlung abgestimmter und getesteter Komponenten, aber im Kern befindet sich Python in unveränderter Form. Mit Anaconda ist es oft einfacher, Python auf einem beliebigen System zu installieren und Zusatzpakete zu verwenden, da viele Pakete schon vorinstalliert sind. Außerdem benötigt man für Anaconda keine Administratorrechte.\n",
    "\n",
    "Stellen Sie bitte immer sicher, dass Sie die aktuellste Python-Version benutzen (mehr dazu in der nächsten Einheit). Im Moment ist dies bei Anaconda noch Python 3.8. Wählen Sie [hier](https://www.anaconda.com/products/individual) die entsprechende Installationsdatei für Ihr Betriebssystem aus (in den allermeisten Fällen sollte die 64-Bit-Variante gewählt werden) und installieren Sie Anaconda auf Ihrem Rechner."
   ]
  },
  {
   "cell_type": "markdown",
   "metadata": {},
   "source": [
    "## Erste Schritte\n",
    "\n",
    "Nachdem Sie Python mittels Anaconda installiert haben, starten Sie den sogenannten Python-Interpreter. Dabei handelt es sich um ein Programm, welches Python-Befehle versteht und verarbeiten kann. Man kann mit dem Python-Interpreter interaktiv arbeiten, das bedeutet dass man einen Befehl eintippt und die Eingabetaste drückt. Danach wird der eingegebene Befehl direkt verarbeitet und das Ergebnis ausgegeben.\n",
    "\n",
    "Es gibt einige Möglichkeiten, den Python-Interpreter zu verwenden &ndash; mehr dazu in der nächsten Einheit. Fürs erste ist es am einfachsten, wenn Sie das Programm [Spyder](https://www.spyder-ide.org/) starten (dieses Programm wurde automatisch mit Anaconda installiert). Dies funktioniert unter Windows am einfachsten über das Windows-Startmenü durch Anklicken von \"Spyder\" im Anaconda-Ordner.\n",
    "\n",
    "![](anaconda_start_menu.png)\n",
    "\n",
    "Unter macOS starten Sie am einfachsten den Anaconda Navigator (ein Link befindet sich am Desktop bzw. Sie können dieses Programm in Ihrem Applikations-Ordner finden). Dort klicken Sie dann im Eintrag \"Spyder\" auf \"Launch\". Sie können diese Vorgehensweise auch unter Windows verwenden.\n",
    "\n",
    "![](navigator.png)"
   ]
  },
  {
   "cell_type": "markdown",
   "metadata": {},
   "source": [
    "Spyder sieht dann in etwa so aus (mehr dazu in der nächsten Einheit):\n",
    "\n",
    "![](spyder.png)"
   ]
  },
  {
   "cell_type": "markdown",
   "metadata": {},
   "source": [
    "Sie können nun im Bereich rechts unten (IPython Console) Python-Befehle eintippen und mit der Eingabetaste bestätigen. Der Python-Interpreter läuft dort im Hintergrund und führt Ihre Befehle aus. So können Sie Python z.B. als Taschenrechner verwenden. Die vier Grundrechenarten können wie folgt verwendet werden:"
   ]
  },
  {
   "cell_type": "code",
   "execution_count": 6,
   "metadata": {},
   "outputs": [
    {
     "data": {
      "text/plain": [
       "2"
      ]
     },
     "execution_count": 6,
     "metadata": {},
     "output_type": "execute_result"
    }
   ],
   "source": [
    "1 + 1"
   ]
  },
  {
   "cell_type": "code",
   "execution_count": 7,
   "metadata": {},
   "outputs": [
    {
     "data": {
      "text/plain": [
       "3"
      ]
     },
     "execution_count": 7,
     "metadata": {},
     "output_type": "execute_result"
    }
   ],
   "source": [
    "10 - 7"
   ]
  },
  {
   "cell_type": "code",
   "execution_count": 8,
   "metadata": {},
   "outputs": [
    {
     "data": {
      "text/plain": [
       "56"
      ]
     },
     "execution_count": 8,
     "metadata": {},
     "output_type": "execute_result"
    }
   ],
   "source": [
    "7 * 8"
   ]
  },
  {
   "cell_type": "code",
   "execution_count": 9,
   "metadata": {},
   "outputs": [
    {
     "data": {
      "text/plain": [
       "17.142857142857142"
      ]
     },
     "execution_count": 9,
     "metadata": {},
     "output_type": "execute_result"
    }
   ],
   "source": [
    "120 / 7"
   ]
  },
  {
   "cell_type": "markdown",
   "metadata": {},
   "source": [
    "Die ganzzahlige Division hat einen eigenen Operator:"
   ]
  },
  {
   "cell_type": "code",
   "execution_count": 10,
   "metadata": {},
   "outputs": [
    {
     "data": {
      "text/plain": [
       "17"
      ]
     },
     "execution_count": 10,
     "metadata": {},
     "output_type": "execute_result"
    }
   ],
   "source": [
    "120 // 7"
   ]
  },
  {
   "cell_type": "markdown",
   "metadata": {},
   "source": [
    "Der ganzzahlige Rest einer Division wird mit dem Modulus-Operator berechnet:"
   ]
  },
  {
   "cell_type": "code",
   "execution_count": 11,
   "metadata": {},
   "outputs": [
    {
     "data": {
      "text/plain": [
       "1"
      ]
     },
     "execution_count": 11,
     "metadata": {},
     "output_type": "execute_result"
    }
   ],
   "source": [
    "120 % 7"
   ]
  },
  {
   "cell_type": "markdown",
   "metadata": {},
   "source": [
    "Potenzieren (also eine Zahl hoch eine andere Zahl) ist ebenso möglich:"
   ]
  },
  {
   "cell_type": "code",
   "execution_count": 12,
   "metadata": {},
   "outputs": [
    {
     "data": {
      "text/plain": [
       "18446744073709551616"
      ]
     },
     "execution_count": 12,
     "metadata": {},
     "output_type": "execute_result"
    }
   ],
   "source": [
    "2**64"
   ]
  },
  {
   "cell_type": "markdown",
   "metadata": {},
   "source": [
    "Python kennt die Vorrangs- und Klammerregeln:"
   ]
  },
  {
   "cell_type": "code",
   "execution_count": 13,
   "metadata": {},
   "outputs": [
    {
     "data": {
      "text/plain": [
       "149.0731707317073"
      ]
     },
     "execution_count": 13,
     "metadata": {},
     "output_type": "execute_result"
    }
   ],
   "source": [
    "(13 + 6) * 8 - 12 / (2.5 + 1.6)"
   ]
  },
  {
   "cell_type": "markdown",
   "metadata": {},
   "source": [
    "Bei der Eingabe von Zahlen ist darauf zu achten, dass Python die englische Zahlenschreibweise mit einem Punkt als Dezimaltrennzeichen verwendet.\n",
    "\n",
    "Wenn Sie mathematische Funktionen verwenden möchten, müssen Sie zuerst das `math`-Modul importieren, in dem Sie (einmalig) folgende Zeile eintippen:"
   ]
  },
  {
   "cell_type": "code",
   "execution_count": 14,
   "metadata": {},
   "outputs": [],
   "source": [
    "import math"
   ]
  },
  {
   "cell_type": "markdown",
   "metadata": {},
   "source": [
    "Danach stehen Ihnen viele mathematische Funktionen wie z.B. `sqrt` (Wurzel), `log` (Logarithmus), `sin` (Sinus), `pi` (die Kreiszahl $\\pi$) oder `e` (die Euler'sche Zahl $e$) zur Verfügung, die man wie mit einem vorangestellten `math.` verwendet:"
   ]
  },
  {
   "cell_type": "code",
   "execution_count": 15,
   "metadata": {},
   "outputs": [
    {
     "data": {
      "text/plain": [
       "1.4142135623730951"
      ]
     },
     "execution_count": 15,
     "metadata": {},
     "output_type": "execute_result"
    }
   ],
   "source": [
    "math.sqrt(2)"
   ]
  },
  {
   "cell_type": "code",
   "execution_count": 16,
   "metadata": {},
   "outputs": [
    {
     "data": {
      "text/plain": [
       "3.141592653589793"
      ]
     },
     "execution_count": 16,
     "metadata": {},
     "output_type": "execute_result"
    }
   ],
   "source": [
    "math.pi"
   ]
  },
  {
   "cell_type": "code",
   "execution_count": 17,
   "metadata": {},
   "outputs": [
    {
     "data": {
      "text/plain": [
       "2.718281828459045"
      ]
     },
     "execution_count": 17,
     "metadata": {},
     "output_type": "execute_result"
    }
   ],
   "source": [
    "math.e"
   ]
  },
  {
   "cell_type": "code",
   "execution_count": 18,
   "metadata": {},
   "outputs": [
    {
     "data": {
      "text/plain": [
       "8.974423397125074"
      ]
     },
     "execution_count": 18,
     "metadata": {},
     "output_type": "execute_result"
    }
   ],
   "source": [
    "1 + math.sqrt(5) * 7 - 2 * math.pi * 1.222"
   ]
  },
  {
   "cell_type": "markdown",
   "metadata": {},
   "source": [
    "## Anwendungsbeispiele\n",
    "Python wird für viele verschiedene Zwecke verwendet. Um Ihnen zu verdeutlichen, was man mit Python im Bereich der Psychologie und den Neurowissenschaften machen kann, sind hier einige prominente Beispiele angeführt, die vielleicht für Sie relevant sein könnten. Diese Auswahl ist jedoch bei weitem nicht vollständig und spiegelt vor allem meine persönliche Erfahrung wider.\n",
    "\n",
    "### Präsentation von Stimuli\n",
    "[PsychoPy](http://www.psychopy.org/) ist ein Programm zur Präsentation von Stimuli für psychophysiologische Untersuchungen. Beispielsweise kann man mit PsychoPy Experimente erstellen, um Reaktionszeiten von Personen zu testen. Das Programm kann aber auch für fMRI- bzw. EEG-Untersuchungen verwendet werden, um die dort benötigten (visuellen bzw. auditorischen) Stimuli zeitpräzise zu präsentieren. PsychoPy kann über eine grafische Oberfläche bedient werden, aber spezielle Versuchsdesigns, die über die mitgelieferten Standardparadigmen hinausgehen, erstellt man am besten direkt mit Python-Code. Wir werden uns in den letzten beiden Einheiten mit PsychoPy beschäftigen.\n",
    "\n",
    "![](psychopy.png)\n",
    "\n",
    "Alternativen zu PsychoPy sind die ebenfalls in Python geschriebenen Tools [Expyriment](https://github.com/expyriment/expyriment) und [OpenSesame](http://osdoc.cogsci.nl/)."
   ]
  },
  {
   "cell_type": "markdown",
   "metadata": {},
   "source": [
    "### Neurowissenschaften\n",
    "\n",
    "Python ist sehr populär in den Neurowissenschaften. Auf der [NIPY-Website](https://nipy.org/) (Neuroimaging for Python) haben sich einzelne Projekte zusammengeschlossen, welche spezifische Aufgaben im Bereich der Neurowissenschaften abdecken. Besonders viele Pakete gibt es für die Auswertung von fMRI-Daten. Hier gibt es z.B. [NiBabel](https://nipy.org/nibabel/) zum Einlesen verschiedenster Neuroimaging-Datenformate, [Nipype](https://www.mit.edu/~satra/nipype-nightly/) zur einheitlichen Verwendung unterschiedlicher fMRI-Analyseprogramme, sowie [Nipy](https://nipy.org/nipy/), [Nitime](https://nipy.org/nitime/) und [Nilearn](https://nilearn.github.io/) zur Analyse von fMRI-Daten.\n",
    "\n",
    "![](nilearn.png)\n",
    "\n",
    "[MNE-Python](https://mne.tools/) kann man zur Analyse von EEG- bzw. MEG-Signalen verwenden. Es werden eine Vielzahl an Methoden unterstützt, welche in der Verarbeitung von elektrophysiologischen Gehirnsignalen eine Rolle spielen, wie z.B. Filterung, Artefaktbereinigung, Quelllokalisation und Konnektivitätsanalysen."
   ]
  },
  {
   "cell_type": "markdown",
   "metadata": {},
   "source": [
    "### Statistische Datenanalyse\n",
    "Zur statistischen Auswertung von Daten gibt es in Python eine große Anzahl an Paketen. Besonders populär sind für diese Zwecke [NumPy](https://www.numpy.org/), [SciPy](https://www.scipy.org/scipylib/index.html), [Pandas](https://pandas.pydata.org/), [Statsmodels](https://www.statsmodels.org/stable/index.html), [Matplotlib](https://matplotlib.org/), [Seaborn](https://seaborn.pydata.org/) und [Scikit-learn](https://scikit-learn.org/stable/). Einige dieser Pakete werden wir im Rahmen dieses Seminars kennenlernen (zumindest oberflächlich).\n",
    "\n",
    "![](scatter.png)"
   ]
  },
  {
   "cell_type": "markdown",
   "metadata": {},
   "source": [
    "### Grafische Oberflächen\n",
    "In Python kann man auch eigenständige Programme mit grafischen Oberflächen erstellen. Ein Beispiel dafür haben wir bereits kennengelernt: [Spyder](https://www.spyder-ide.org/), eine grafische Entwicklungsumgebung für Python, welche selbst komplett in Python geschrieben ist. Wir werden Spyder in der nächsten Einheit genauer kennenlernen."
   ]
  },
  {
   "cell_type": "markdown",
   "metadata": {},
   "source": [
    "## Übungen\n",
    "\n",
    "### Übung 1\n",
    "Installieren Sie Python mittels Anaconda auf Ihrem Rechner. Starten Sie dann den Python-Interpreter (z.B. Spyder). Welche Version von Python meldet der Interpreter? Ist dies die aktuellste Version?\n",
    "\n",
    "### Übung 2\n",
    "Tippen Sie im Python-Interpreter `import antigravity` ein. Was passiert? Was geschieht, wenn Sie `import this` eingeben?\n",
    "\n",
    "### Übung 3\n",
    "Berechnen Sie mit Python das Ergebnis der Division $4 : 0.4$. Berechnen Sie außerdem das ganzzahlige Ergebnis und den Rest. Was fällt Ihnen auf?\n",
    "\n",
    "### Übung 4\n",
    "Gegeben seien folgende Messwerte: 11, 27, 15, 10, 33, 18, 25, 22, 39, 11. Berechnen Sie den Mittelwert $\\bar{x}$. Verwenden Sie dafür keine fertigen Funktionen, sondern nur Grundrechenarten. Führen Sie diese Berechnung mit einem Befehl (ohne Zwischenergebnisse) durch.\n",
    "\n",
    "### Übung 5\n",
    "Berechnen Sie in Python das Ergebnis des folgenden Ausdrucks mit einem Befehl (in einer Zeile):\n",
    "\n",
    "$$\\frac{(5^5 - \\pi) \\cdot \\frac{19}{3}}{\\sqrt{13} + 7^\\frac{2}{3}}$$\n",
    "\n",
    "*Hinweis:* Achten Sie auf die Klammersetzung! Das richtige Ergebnis beträgt ungefähr 2722. "
   ]
  },
  {
   "cell_type": "markdown",
   "metadata": {},
   "source": [
    "---\n",
    "[![](cc_license.png)](http://creativecommons.org/licenses/by-nc-sa/4.0/)"
   ]
  }
 ],
 "metadata": {
  "anaconda-cloud": {},
  "kernelspec": {
   "display_name": "Python 3",
   "language": "python",
   "name": "python3"
  },
  "language_info": {
   "codemirror_mode": {
    "name": "ipython",
    "version": 3
   },
   "file_extension": ".py",
   "mimetype": "text/x-python",
   "name": "python",
   "nbconvert_exporter": "python",
   "pygments_lexer": "ipython3",
   "version": "3.8.5"
  }
 },
 "nbformat": 4,
 "nbformat_minor": 4
}
