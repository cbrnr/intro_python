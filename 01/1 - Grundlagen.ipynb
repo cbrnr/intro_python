{
 "cells": [
  {
   "cell_type": "markdown",
   "metadata": {},
   "source": [
    "_Einführung in Python, Clemens Brunner, 2.3.2020_\n",
    "\n",
    "\n",
    "# 1 - Grundlagen"
   ]
  },
  {
   "cell_type": "markdown",
   "metadata": {},
   "source": [
    "## Überblick\n",
    "\n",
    "In diesem Seminar werden Sie die Programmiersprache [Python](https://www.python.org/) kennenlernen. Zunächst werden wichtige Sprachelemente wie z.B. Schleifen, Funktionen und Bedingungen sowie grundlegende Datentypen vorgestellt. Nach einer ausführlichen Behandlung dieser Grundlagen werden Sie lernen, wie man Python für die Analyse von Daten einsetzen kann (z.B. Einlesen von einfachen Daten, Repräsentieren von numerischen Daten, Erstellen von Grafiken). Abschließend werden Sie mit dem in der Psychologie populären Python-Paket [PsychoPy](https://www.psychopy.org/) einfache Experimente erstellen.\n",
    "\n",
    "Diese Lehrveranstaltung setzt keinerlei Vorwissen im Bereich Programmieren voraus. Die Grundlagen des Programmierens werden praxisnah erläutert; dieses Wissen können Sie auch auf die meisten anderen Programmiersprachen übertragen. Aufgrund der begrenzten Zeit können allerdings nur grundlegende Konzepte in Python abgedeckt werden, die aber Voraussetzung für alle komplexeren Anwendungen sind. Sie werden aber durch ein umfassendes Basiswissen die Werkzeuge in die Hand bekommen, sich fortgeschrittenere Methoden in Python selbst anzueignen. Das für die Praxis besonders relevante Paket PsychoPy werden wir in den letzten beiden Einheiten des Seminars behandeln.\n",
    "\n",
    "Der Plan für dieses Semester sieht wie folgt aus:\n",
    "\n",
    "Einheit | Datum      | Inhalt\n",
    "-------:| ----------:| ------\n",
    "1       |   2.3.2020 | Grundlagen\n",
    "2       |  16.3.2020 | Die Python-Umgebung\n",
    "3       |  16.3.2020 | Variablen, Ausdrücke, Anweisungen\n",
    "4       |  23.3.2020 | Funktionen\n",
    "5       |  30.3.2020 | Bedingungen und Schleifen\n",
    "6       |  20.4.2020 | Strings\n",
    "7       |  27.4.2020 | Listen und Dictionaries\n",
    "8       |   4.5.2020 | Ein- und Ausgabe\n",
    "9       |  18.5.2020 | Numerische Daten\n",
    "10      |  18.5.2020 | Grafiken\n",
    "11      |  25.5.2020 | PsychoPy (1)\n",
    "12      |   8.6.2020 | PsychoPy (2)\n",
    "13      |  15.6.2020 | Q & A\n",
    "        |  22.6.2020 | Prüfung (1)\n",
    "        |  29.6.2020 | Prüfung (2)"
   ]
  },
  {
   "cell_type": "markdown",
   "metadata": {},
   "source": [
    "## Organisatorisches\n",
    "### Anwesenheit\n",
    "Diese Lehrveranstaltung wird als Seminar mit Anwesenheitspflicht abgehalten. Nutzen Sie die Kontaktstunden vor allem um Fragen zu stellen - so können Unklarheiten am schnellsten geklärt werden.\n",
    "\n",
    "Sie dürfen in maximal zwei Einheiten fehlen. Eine dritte Fehleinheit führt dazu, dass Ihre Beurteilung um eine Note herabgestuft wird. Bei triftigen Gründen (wie z.B. Krankheit) bewirkt eine dritte Fehleinheit keine Abstufung der Note wenn Sie dieses Fehlen glaubhaft begründen können (z.B. durch eine ärztliche Bestätigung). Wenn Sie vier Mal oder öfter fehlen, ist die Gesamtnote automatisch negativ.\n",
    "\n",
    "Sie sind aufgefordert, pünktlich zu den jeweiligen Terminen zu erscheinen und auch während der gesamten Dauer anwesend zu sein. Falls Sie einmal später kommen oder früher gehen müssen, teilen Sie mir dies bitte rechtzeitig (am besten schriftlich) mit und betreten bzw. verlassen Sie den Raum ohne die Lehrveranstaltung oder die Mitstudierenden zu stören. Diese Fehlzeiten werden über das gesamte Semester summiert und zum Schluss in Fehleinheiten umgerechnet (eine Einheit hat 90 Minuten).\n",
    "\n",
    "### Hausübungen\n",
    "Ein Hauptbestandteil dieses Seminars sind Hausübungen. Es wird zu jeder Einheit eine Hausübung geben, die Sie in *Zweiergruppen* bearbeiten. Diese Zweiergruppen werden in der ersten Einheit gebildet und bleiben über die Dauer der Lehrveranstaltung bestehen. Ihre Lösungen müssen selbständig erarbeitet sein, das Kopieren von Passagen aus den Unterlagen bzw. aus eventuell vorhandenen Musterlösungen oder das Übernehmen von Lösungen einer anderen Zweiergruppe ist nicht erlaubt. Die Abgabe einer Hausübung ist bis zum Vortag der folgenden Einheit auf Moodle möglich. Beide Personen der Zweiergruppe müssen die Abgabe auf Moodle bestätigen (eine Person lädt die Lösung hoch, die andere Person bestätigt diese hochgeladene Lösung).\n",
    "\n",
    "Jede Hausübung wird mit maximal 10 Punkten bewertet (es gibt auch halbe Punkte). Eine nicht abgegebene Hausübung zählt 0 Punkte. Beispiele, die offensichtlich kopiert und nicht selbständig gelöst wurden, werden ebenfalls mit 0 Punkten bewertet. Aus den Punkten aller 12 Hausübungen wird dann der Mittelwert berechnet. Dies sind die Hausübungspunkte, welche für die Benotung relevant sind.\n",
    "\n",
    "### Prüfung\n",
    "Am Ende der Lehrveranstaltung gibt es eine Prüfung, die Sie individuell (d.h. *nicht* in Zweiergruppen) vor Ort am Computer absolvieren. Inhalt dieser Prüfung ist der gesamte Stoff der Lehrveranstaltung. Die Beispiele der Prüfung werden sich an den Hausübungen orientieren. Sie werden Zugriff auf alle Unterlagen bekommen, nicht jedoch auf Ihre gelösten Hausübungen. Der Zugriff auf Online-Ressourcen (Internet) oder andere Hilfsmittel ist bei dieser Prüfung nicht gestattet.\n",
    "\n",
    "Die Prüfung wird mit maximal 10 Punkten bewertet (es gibt auch hier halbe Punkte). Es gibt eine Bonusaufgabe, bei der man 1 zusätzlichen Punkt erreichen kann.\n",
    "\n",
    "Wenn man zum ersten Prüfungstermin nicht erscheinen kann oder wenn man weniger als 6 Punkte erreicht hat (und daher negativ zu beurteilen wäre), gibt es die Möglichkeit den zweiten Prüfungstermin in Anspruch zu nehmen. Dies ist auch möglich, wenn man mit der Punkteanzahl, die beim ersten Prüfungstermin erreicht wurde, nicht zufrieden ist. In jedem Fall zählt dann aber nur der zweite Termin (d.h. die Punkteanzahl kann sich auch verschlechtern).\n",
    "\n",
    "### Benotung\n",
    "Die Gesamtnote setzt sich aus den Punkten aus den Hausübungen, den Punkten aus der Prüfung und der Anwesenheit zusammen. Eine Voraussetzung für eine positive Beurteilung ist, dass sowohl bei den Hausübungen als auch bei der Prüfung jeweils mindestens 6 Punkte erreicht wurden. Falls entweder bei der Hausübung oder bei der Prüfung weniger als 6 Punkte erreicht wurden, ist die Gesamtnote automatisch ein \"Nicht genügend (5)\". Ansonsten ermittelt sich die Gesamtnote aus dem gewichteten Mittelwert (40% Hausübungspunkte und 60% Prüfungspunkte) wie folgt:\n",
    "\n",
    "< 6 Punkte         | 6-7 Punkte   | 7-8 Punkte       | 8-9 Punkte  | 9-10 Punkte\n",
    "------------------ | ------------ | ---------------- | ----------- | ------------\n",
    "Nicht genügend (5) | Genügend (4) | Befriedigend (3) | Gut (2)     | Sehr gut (1)\n",
    "\n",
    "Wenn Sie die Anwesenheitskriterien erfüllt haben (d.h. nicht öfter als zwei Mal ohne triftigen Grund gefehlt haben bzw. ein drittes Mal mit triftigem Grund), ist diese Note auch Ihre Gesamtnote. Falls Sie drei Mal unentschuldigt gefehlt haben sollten, wird diese Note noch um einen Grad abgestuft.\n",
    "\n",
    "### Beispiel\n",
    "Frau Muster hat bei den 12 Hausübungen folgende Punkte erreicht: 10, 9.5, 9, 0 (nicht abgegeben), 9, 7.5, 8, 10, 9.5, 9, 10, 8. Der Mittelwert beträgt 8.29. Dies ist mehr als die mindestens geforderten 6 Punkte, daher kann Frau Muster auch die Prüfung absolvieren. Bei der Prüfung erreicht sie genau 8 Punkte, ebenfalls mehr als die mindestens geforderten 6 Punkte. Daher ergibt sich ein Gesamtpunktemittelwert von 8.12 Punkten ($8.29 \\cdot 0.4 + 8 \\cdot 0.6$). Laut der Tabelle entspricht dies der Note Gut (2). Frau Muster hat insgesamt ein Mal gefehlt, daher ist das auch Ihre Gesamtnote."
   ]
  },
  {
   "cell_type": "markdown",
   "metadata": {},
   "source": [
    "## Überblick über Python\n",
    "![](python.png)\n",
    "<div style=\"text-align: right\"><a href=\"https://xkcd.com/353/\">https://xkcd.com/353/</a></div>"
   ]
  },
  {
   "cell_type": "markdown",
   "metadata": {},
   "source": [
    "### Was ist Python?\n",
    "\n",
    "- Einfach zu erlernende Programmiersprache\n",
    "- Open Source (freie Software)\n",
    "- Plattformübergreifend (läuft auf Windows, macOS, Linux)\n",
    "- Vielfältige Einsatzgebiete (nicht spezialisiert auf nur einen Bereich wie z.B. Datenanalyse)\n",
    "- Sehr gut geeignet für reproduzierbare Datenanalysen im wissenschaftlichen Bereich\n",
    "- Umfangreiche Standardbibliothek (\"Batteries included\")\n",
    "- Große und hilfsbereite Community\n",
    "- Riesige Anzahl an Zusatzpaketen verfügbar\n",
    "\n",
    "Python ist eine generische Programmiersprache, d.h. Python ist nicht spezialisiert auf ein eingeschränktes Gebiet, so wie z.B. R auf Datenanalyse/Statistik ausgerichtet ist. Mit spezialisierten Programmiersprachen kann man manche Dinge schneller, besser, eleganter oder kürzer lösen als generische Programmiersprachen. Im Gegensatz dazu ist man mit generischen Programmiersprachen aber nicht auf ein bestimmtes Gebiet eingeschränkt. Mit Python kann man neben Datenanalysen, numerischen Berechnungen und Statistik auch z.B. Webanwendungen oder \"richtige\" Programme mit grafischen Oberflächen erstellen."
   ]
  },
  {
   "cell_type": "markdown",
   "metadata": {},
   "source": [
    "### Verbreitung von Python\n",
    "Der [TIOBE-Index](http://www.tiobe.com/tiobe_index) ist ein Maß für die Popularität von Programmiersprachen. Im September 2019 sah die Reihung laut diesem Index wie folgt aus:\n",
    "\n",
    "\n",
    "Platz | Sprache | Index\n",
    "-----:| --------| ------:\n",
    "    1 | Java    | 16.66%  \n",
    "    2 | C       | 15.21%   \n",
    "    3 | Python  |  9.87%   \n",
    "    4 | C++     |  5.64%   \n",
    "  ... | ...     | ...\n",
    "   18 | MATLAB  |  1.06%\n",
    "   19 | R       |  1.05%   \n",
    "\n",
    "Dieser Index sagt allerdings nichts über die Qualität einer Programmiersprache aus (sofern man das überhaupt beurteilen kann), sondern ist eher ein Maß für die Aktivität der Community hinter einer Sprache. Dies ist durchaus ein sehr wichtiger Faktor, denn je größer und aktiver die Community einer Sprache ist, desto einfacher wird man existierende Lösungen zu Problemen finden bzw. desto schneller wird man eine Antwort auf ein noch ungelöstes Problem bekommen.\n",
    "\n",
    "Ein anderer Index für die Popularität von Programmiersprachen wird von [IEEE Spectrum](https://spectrum.ieee.org/static/interactive-the-top-programming-languages-2019) erstellt. Im Jahr 2019 sieht das Ranking wie folgt aus:\n",
    "\n",
    "Platz | Sprache\n",
    "-----:| -------\n",
    "    1 | Python\n",
    "    2 | Java\n",
    "    3 | C\n",
    "    4 | C++\n",
    "    5 | R\n",
    "    6 | JavaScript\n",
    "    7 | C#\n",
    "    8 | MATLAB\n",
    "    9 | Swift\n",
    "   10 | Go"
   ]
  },
  {
   "cell_type": "markdown",
   "metadata": {},
   "source": [
    "### Wie sieht Python-Code aus?\n",
    "Im Folgenden sind beispielhaft einige Zeilen Python-Code dargestellt. Vieles ist vielleicht intuitiv verständlich, manches ist aber eventuell komplett unverständlich. Keine Sorge, am Ende dieses Seminars werden Sie alle Codebeispiele verstehen können! In den grauen Zeilen die mit `In [.]:` bezeichnet sind befinden sich Python-Befehle, unmittelbar darunter folgt das Ergebnis des jeweiligen Befehls (manchmal auch in mit `Out[.]:` bezeichnet)."
   ]
  },
  {
   "cell_type": "code",
   "execution_count": 1,
   "metadata": {},
   "outputs": [
    {
     "name": "stdout",
     "output_type": "stream",
     "text": [
      "Hello World!\n"
     ]
    }
   ],
   "source": [
    "print(\"Hello World!\")"
   ]
  },
  {
   "cell_type": "code",
   "execution_count": 2,
   "metadata": {},
   "outputs": [
    {
     "data": {
      "text/plain": [
       "'LAUTER KLEINBUCHSTABEN'"
      ]
     },
     "execution_count": 2,
     "metadata": {},
     "output_type": "execute_result"
    }
   ],
   "source": [
    "\"lauter kleinbuchstaben\".upper()"
   ]
  },
  {
   "cell_type": "code",
   "execution_count": 3,
   "metadata": {},
   "outputs": [
    {
     "name": "stdout",
     "output_type": "stream",
     "text": [
      "0, 1, 2, 3, 4, 5, 6, 7, 8, 9, "
     ]
    }
   ],
   "source": [
    "for i in range(10):\n",
    "    print(i, end=\", \")"
   ]
  },
  {
   "cell_type": "code",
   "execution_count": 4,
   "metadata": {},
   "outputs": [
    {
     "name": "stdout",
     "output_type": "stream",
     "text": [
      "0, 1, 2, 3, 4, 5, 6, 7, 8, 9\n"
     ]
    }
   ],
   "source": [
    "print(\", \".join([str(i) for i in range(10)]))"
   ]
  },
  {
   "cell_type": "code",
   "execution_count": 5,
   "metadata": {},
   "outputs": [
    {
     "data": {
      "text/plain": [
       "[0, 100, 400, 900, 1600, 2500, 3600, 4900, 6400, 8100]"
      ]
     },
     "execution_count": 5,
     "metadata": {},
     "output_type": "execute_result"
    }
   ],
   "source": [
    "[k**2 for k in range(0, 100, 10)]"
   ]
  },
  {
   "cell_type": "markdown",
   "metadata": {},
   "source": [
    "## Installation\n",
    "Auf der [offiziellen Python-Website](https://www.python.org/) findet man alles rund um Python. Dort kann man auch Installationspakete für diverse Betriebssysteme herunterladen. Weiters gibt es dort auch die sehr umfangreiche offizielle Dokumentation inklusive Beispielen und Tutorials.\n",
    "\n",
    "Die Installation bzw. die Wartung von Python kann mit den offiziellen Installationspaketen aber mitunter relativ aufwändig sein (vor allem auf Windows-Rechnern). Insbesondere im wissenschaftlichen Bereich hat es sich daher bewährt, die fertig geschnürte Python-Umgebung [Anaconda](https://www.anaconda.com/download/) zu verwenden. Dabei handelt es sich um eine Sammlung abgestimmter und getesteter Komponenten, aber im Kern befindet sich Python in unveränderter Form. Mit Anaconda ist es oft einfacher, Python auf einem beliebigen System zu installieren und Zusatzpakete zu verwenden, da viele Pakete schon vorinstalliert sind.\n",
    "\n",
    "Für welche Installationsart man sich auch entscheidet, eine Frage muss man immer noch beantworten: Python 2 oder Python 3? Die kurze und eindeutige Antwort darauf: unbedingt Python 3, da der [Support für Python 2 Ende dieses Jahres ausläuft](https://pythonclock.org/) - ab dann wird nur mehr Python 3 aktiv betreut und weiterentwickelt.\n",
    "\n",
    "In dieser Lehrveranstaltung werden wir ausschließlich Python 3 verwenden - stellen Sie daher bitte immer sicher, dass Sie diese Version benutzen um etwaige Probleme zu vermeiden."
   ]
  },
  {
   "cell_type": "markdown",
   "metadata": {},
   "source": [
    "## Erste Schritte\n",
    "\n",
    "Nachdem Sie Python mittels Anaconda installiert haben, starten Sie den Python-Interpreter. Dazu benötigen Sie ein Programm (oft als Console bezeichnet), in dem Sie Python-Befehle eintippen können, welche dann vom Python-Interpreter verarbeitet werden können. Die Ergebnisse der eingegebenen Befehle werden direkt nach Bestätigung mit der Eingabetaste angezeigt (ähnlich wie oben in den Code-Beispielen zu sehen ist).\n",
    "\n",
    "Es gibt viele Möglichkeiten, den Python-Interpreter zu verwenden - mehr dazu in der nächsten Einheit. Fürs erste ist es am einfachsten, wenn Sie das Programm Spyder starten. Dies funktioniert unter Windows am einfachsten über das Windows-Startmenü durch Starten von \"Spyder\" im Anaconda-Ordner.\n",
    "\n",
    "![](anaconda_start_menu.png)\n",
    "\n",
    "Unter macOS starten Sie am einfachsten den Anaconda Navigator (ein Link befindet sich am Desktop). Dort klicken Sie dann im Eintrag \"Spyder\" auf \"Launch\". Sie können diese Vorgehensweise auch unter Windows verwenden.\n",
    "\n",
    "![](navigator.png)"
   ]
  },
  {
   "cell_type": "markdown",
   "metadata": {},
   "source": [
    "Spyder sieht in etwa so aus:\n",
    "\n",
    "![](spyder.png)"
   ]
  },
  {
   "cell_type": "markdown",
   "metadata": {},
   "source": [
    "Sie können nun im Bereich rechts unten (IPython Console) Python-Befehle eintippen und mit der Eingabetaste bestätigen. Der Python-Interpreter läuft dort im Hintergrund und führt Ihre Befehle aus. So können Sie Python z.B. als Taschenrechner verwenden. Die vier Grundrechenarten können wie folgt verwendet werden:"
   ]
  },
  {
   "cell_type": "code",
   "execution_count": 6,
   "metadata": {},
   "outputs": [
    {
     "data": {
      "text/plain": [
       "2"
      ]
     },
     "execution_count": 6,
     "metadata": {},
     "output_type": "execute_result"
    }
   ],
   "source": [
    "1 + 1"
   ]
  },
  {
   "cell_type": "code",
   "execution_count": 7,
   "metadata": {},
   "outputs": [
    {
     "data": {
      "text/plain": [
       "3"
      ]
     },
     "execution_count": 7,
     "metadata": {},
     "output_type": "execute_result"
    }
   ],
   "source": [
    "10 - 7"
   ]
  },
  {
   "cell_type": "code",
   "execution_count": 8,
   "metadata": {},
   "outputs": [
    {
     "data": {
      "text/plain": [
       "56"
      ]
     },
     "execution_count": 8,
     "metadata": {},
     "output_type": "execute_result"
    }
   ],
   "source": [
    "7 * 8"
   ]
  },
  {
   "cell_type": "code",
   "execution_count": 9,
   "metadata": {},
   "outputs": [
    {
     "data": {
      "text/plain": [
       "17.142857142857142"
      ]
     },
     "execution_count": 9,
     "metadata": {},
     "output_type": "execute_result"
    }
   ],
   "source": [
    "120 / 7"
   ]
  },
  {
   "cell_type": "markdown",
   "metadata": {},
   "source": [
    "Die ganzzahlige Division hat einen eigenen Operator:"
   ]
  },
  {
   "cell_type": "code",
   "execution_count": 10,
   "metadata": {},
   "outputs": [
    {
     "data": {
      "text/plain": [
       "17"
      ]
     },
     "execution_count": 10,
     "metadata": {},
     "output_type": "execute_result"
    }
   ],
   "source": [
    "120 // 7"
   ]
  },
  {
   "cell_type": "markdown",
   "metadata": {},
   "source": [
    "Der ganzzahlige Rest einer Division wird mit dem Modulus-Operator berechnet:"
   ]
  },
  {
   "cell_type": "code",
   "execution_count": 11,
   "metadata": {},
   "outputs": [
    {
     "data": {
      "text/plain": [
       "1"
      ]
     },
     "execution_count": 11,
     "metadata": {},
     "output_type": "execute_result"
    }
   ],
   "source": [
    "120 % 7"
   ]
  },
  {
   "cell_type": "markdown",
   "metadata": {},
   "source": [
    "Potenzieren (also eine Zahl hoch eine andere Zahl) ist ebenso möglich:"
   ]
  },
  {
   "cell_type": "code",
   "execution_count": 12,
   "metadata": {},
   "outputs": [
    {
     "data": {
      "text/plain": [
       "18446744073709551616"
      ]
     },
     "execution_count": 12,
     "metadata": {},
     "output_type": "execute_result"
    }
   ],
   "source": [
    "2**64"
   ]
  },
  {
   "cell_type": "markdown",
   "metadata": {},
   "source": [
    "Python kennt die Vorrangs- und Klammerregeln:"
   ]
  },
  {
   "cell_type": "code",
   "execution_count": 13,
   "metadata": {},
   "outputs": [
    {
     "data": {
      "text/plain": [
       "149.0731707317073"
      ]
     },
     "execution_count": 13,
     "metadata": {},
     "output_type": "execute_result"
    }
   ],
   "source": [
    "(13 + 6) * 8 - 12 / (2.5 + 1.6)"
   ]
  },
  {
   "cell_type": "markdown",
   "metadata": {},
   "source": [
    "Bei der Eingabe von Zahlen ist darauf zu achten, dass Python die englische Zahlenschreibweise mit einem Punkt (`.`) als Dezimaltrennzeichen verwendet. Wenn Sie mathematische Funktionen verwenden möchten, müssen Sie zuerst das `math`-Modul importieren, in dem Sie (einmalig) folgende Zeile eintippen:"
   ]
  },
  {
   "cell_type": "code",
   "execution_count": 14,
   "metadata": {},
   "outputs": [],
   "source": [
    "import math"
   ]
  },
  {
   "cell_type": "markdown",
   "metadata": {},
   "source": [
    "Danach stehen Ihnen viele verschiedene Funktionen wie z.B. `sqrt` (Wurzel), `log` (Logarithmus), `sin` (Sinus) oder `pi` (die Kreiszahl $\\pi$) zur Verfügung, die man wie mit einem vorangestellten `math.` verwendet:"
   ]
  },
  {
   "cell_type": "code",
   "execution_count": 15,
   "metadata": {},
   "outputs": [
    {
     "data": {
      "text/plain": [
       "1.4142135623730951"
      ]
     },
     "execution_count": 15,
     "metadata": {},
     "output_type": "execute_result"
    }
   ],
   "source": [
    "math.sqrt(2)"
   ]
  },
  {
   "cell_type": "code",
   "execution_count": 16,
   "metadata": {},
   "outputs": [
    {
     "data": {
      "text/plain": [
       "3.141592653589793"
      ]
     },
     "execution_count": 16,
     "metadata": {},
     "output_type": "execute_result"
    }
   ],
   "source": [
    "math.pi"
   ]
  },
  {
   "cell_type": "code",
   "execution_count": 17,
   "metadata": {},
   "outputs": [
    {
     "data": {
      "text/plain": [
       "8.974423397125074"
      ]
     },
     "execution_count": 17,
     "metadata": {},
     "output_type": "execute_result"
    }
   ],
   "source": [
    "1 + math.sqrt(5) * 7 - 2 * math.pi * 1.222"
   ]
  },
  {
   "cell_type": "markdown",
   "metadata": {},
   "source": [
    "## Anwendungsbeispiele\n",
    "Python wird für viele verschiedene Zwecke verwendet. Um Ihnen zu verdeutlichen, was man mit Python im Bereich der Psychologie und den Neurowissenschaften machen kann, sind hier einige prominente Beispiele angeführt, die vielleicht für Sie relevant sein könnten. Diese Auswahl ist jedoch bei weitem nicht vollständig und spiegelt vor allem meine persönliche Erfahrung wider.\n",
    "\n",
    "### Präsentation von Stimuli\n",
    "[PsychoPy](http://www.psychopy.org/) ist ein Programm zur Präsentation von Stimuli für psychophysiologische Untersuchungen. Beispielsweise kann man mit PsychoPy Experimente erstellen, um die Reaktionszeiten von Personen zu testen. Das Programm kann aber auch für fMRI- bzw. EEG-Untersuchungen verwendet werden, um die dort benötigten (visuellen bzw. auditorischen) Stimuli zeitpräzise zu präsentieren. PsychoPy kann über eine grafische Oberfläche bedient werden, aber spezielle Versuchsdesigns, die über die mitgelieferten Standardparadigmen hinausgehen, programmiert man direkt in Python. Wir werden uns in den letzten beiden Einheiten mit PsychoPy beschäftigen.\n",
    "\n",
    "![](psychopy.png)\n",
    "\n",
    "Alternativen zu PsychoPy sind die ebenfalls in Python geschriebenen Tools [Expyriment](https://github.com/expyriment/expyriment) und [OpenSesame](http://osdoc.cogsci.nl/)."
   ]
  },
  {
   "cell_type": "markdown",
   "metadata": {},
   "source": [
    "### Neurowissenschaften\n",
    "\n",
    "Python ist sehr populär in den Neurowissenschaften. Auf der [NIPY-Website](http://nipy.org/) (Neuroimaging for Python) haben sich einzelne Projekte zusammengeschlossen, welche spezifische Aufgaben im Bereich der Neurowissenschaften abdecken. Besonders viele Pakete gibt es für die Auswertung von fMRI-Daten. Hier gibt es z.B. [NiBabel](http://nipy.org/nibabel/) zum Einlesen verschiedenster Neuroimaging-Datenformate, [Nipype](http://www.mit.edu/~satra/nipype-nightly/) zur einheitlichen Verwendung unterschiedlicher fMRI-Analyseprogramme wie SPM oder FSL, [Dipy](http://nipy.org/dipy/) zur Auswertung von Diffusions-MRI, sowie [Nipy](http://nipy.org/nipy/), [Nitime](http://nipy.org/nitime/), [Nilearn](http://nilearn.github.io/) und [PyMVPA](http://www.pymvpa.org/) zur Analyse von fMRI-Daten.\n",
    "\n",
    "![](nilearn.png)\n",
    "\n",
    "[MNE-Python](http://mne-tools.github.io/stable/index.html) kann man zur Analyse von EEG- bzw. MEG-Signalen verwenden. Es werden eine Vielzahl an Methoden unterstützt, welche in der Verarbeitung von elektrophysiologischen Gehirnsignalen eine Rolle spielen, wie z.B. Filterung, Artefaktbereinigung, Quelllokalisation und Konnektivitätsanalysen. Für gerichtete Konnektivitätsanalysen zwischen kortikalen Quellen gibt es [SCoT](https://github.com/scot-dev/scot) (Source Connectivity Toolbox).\n",
    "\n",
    "![](scot.png)"
   ]
  },
  {
   "cell_type": "markdown",
   "metadata": {},
   "source": [
    "### Statistische Datenanalyse\n",
    "Zur statistischen Auswertung von Daten gibt es in Python eine große Anzahl an Paketen. Besonders populär sind für diese Zwecke [NumPy](http://www.numpy.org/), [SciPy](https://www.scipy.org/scipylib/index.html), [Pandas](http://pandas.pydata.org/), [Statsmodels](http://www.statsmodels.org/stable/index.html), [Matplotlib](https://matplotlib.org/), [Seaborn](https://seaborn.pydata.org/) und [Scikit-learn](https://scikit-learn.org/stable/). Einige dieser Pakete werden wir im Rahmen dieses Seminars kennenlernen (zumindest oberflächlich).\n",
    "\n",
    "![](scatter.png)"
   ]
  },
  {
   "cell_type": "markdown",
   "metadata": {},
   "source": [
    "### Grafische Oberflächen\n",
    "In Python kann man auch eigenständige Programme mit grafischen Oberflächen erstellen. Ein Beispiel dafür haben wir bereits verwendet: [Spyder](https://github.com/spyder-ide/spyder), eine Oberfläche zum Programmieren mit Python, welche selbst komplett in Python geschrieben ist. Wir werden Spyder in der nächsten Einheit genauer kennenlernen."
   ]
  },
  {
   "cell_type": "markdown",
   "metadata": {},
   "source": [
    "## Hausübung\n",
    "Geben Sie diese Hausübung als PDF-Datei in Moodle ab. Verwenden Sie für den Namen Ihrer Datei bitte folgendes Schema:\n",
    "\n",
    "*Nachname1*_*Nachname2*-HUE01.pdf\n",
    "\n",
    "Die Nachnamen sollten alphabetisch geordnet sein, egal wer die Hausübung hochlädt. Beispiel: Frau Muster und Herr Meier arbeiten in einer Zweiergruppe, daher nennen sie ihre Datei *Meier_Muster-HUE01.pdf*.\n",
    "\n",
    "Führen Sie neben den Ergebnissen bitte auch die Python-Befehle an, die Sie zur Lösung verwendet haben (das können Sie zum Beispiel mit Screenshots machen)!\n",
    "\n",
    "### Übung 1\n",
    "Installieren Sie Python 3 mittels Anaconda auf Ihrem Rechner. Starten Sie dann den Python-Interpreter (z.B. Spyder). Welche Version von Python meldet der Interpreter? Fertigen Sie einen Screenshot an, wo diese Versionsnummer ersichtlich ist.\n",
    "\n",
    "*(2 Punkte)*\n",
    "\n",
    "### Übung 2\n",
    "Tippen Sie im Python-Interpreter `import antigravity` ein. Was passiert? Was geschieht, wenn Sie `import this` eingeben?\n",
    "\n",
    "*(2 Punkte)*\n",
    "\n",
    "### Übung 3\n",
    "Berechnen Sie mit Python das Ergebnis der Division 4 : 0.4. Berechnen Sie außerdem das ganzzahlige Ergebnis und den Rest. Was fällt Ihnen auf? *Hinweis:* Berechnen Sie das Ergebnis im Kopf und vergleichen Sie es mit der Lösung von Python.\n",
    "\n",
    "*(2 Punkte)*\n",
    "\n",
    "### Übung 4\n",
    "Gegeben seien folgende Messwerte: 11, 27, 15, 10, 33, 18, 25, 22, 39, 11. Berechnen Sie den Mittelwert $\\bar{x}$. Verwenden Sie dafür keine fertigen Funktionen, sondern nur Grundrechenarten. Führen Sie diese Berechnung mit einem Befehl (ohne Zwischenergebnisse) durch.\n",
    "\n",
    "*(2 Punkte)*\n",
    "\n",
    "### Übung 5\n",
    "Berechnen Sie in Python das Ergebnis des folgenden Ausdrucks:\n",
    "\n",
    "$$\\frac{(5^5 - \\pi) \\cdot \\frac{19}{3}}{\\sqrt{13} + 7^\\frac{2}{3}}$$\n",
    "\n",
    "*Hinweis:* Achten Sie auf die Klammersetzung! Das richtige Ergebnis beträgt ungefähr 2722. \n",
    "\n",
    "*(2 Punkte)*"
   ]
  },
  {
   "cell_type": "markdown",
   "metadata": {},
   "source": [
    "---\n",
    "![](cc_license.png)\n",
    "\n",
    "Diese Unterlagen sind lizenziert unter einer [Creative Commons Namensnennung - Nicht-kommerziell - Weitergabe unter gleichen Bedingungen 4.0 International Lizenz](http://creativecommons.org/licenses/by-nc-sa/4.0/)."
   ]
  }
 ],
 "metadata": {
  "anaconda-cloud": {},
  "kernelspec": {
   "display_name": "Python 3",
   "language": "python",
   "name": "python3"
  },
  "language_info": {
   "codemirror_mode": {
    "name": "ipython",
    "version": 3
   },
   "file_extension": ".py",
   "mimetype": "text/x-python",
   "name": "python",
   "nbconvert_exporter": "python",
   "pygments_lexer": "ipython3",
   "version": "3.8.1"
  }
 },
 "nbformat": 4,
 "nbformat_minor": 4
}
