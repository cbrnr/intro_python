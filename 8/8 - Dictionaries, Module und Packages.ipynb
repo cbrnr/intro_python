{
 "cells": [
  {
   "cell_type": "markdown",
   "metadata": {},
   "source": [
    "_Einführung in Python, Clemens Brunner, 6.12.2018_\n",
    "\n",
    "# 8 - Dictionaries, Module und Packages\n",
    "## Dictionaries\n",
    "Der Datentyp Dictionary ist ein sogenannter Mapping-Datentyp. Man kann sich ein Dictionary wie ein Sprachwörterbuch vorstellen. Wenn man die Übersetzung zu einem bestimmten Wort wissen möchte, schlägt man unter dem gesuchten Wort (hier Key genannt) nach und findet dort die Übersetzung (hier als Value bezeichnet). In Python definiert man ein `dict` mit geschwungenen Klammern und trennt die Einträge wie bei Listen mit Kommas. Jeder Eintrag besteht aus einem Key und einem Value, welche durch einen Doppelpunkt voneinander getrennt sind.\n",
    "\n",
    "Folgendes Beispiel zeigt ein `dict` mit drei Einträgen:"
   ]
  },
  {
   "cell_type": "code",
   "execution_count": 1,
   "metadata": {},
   "outputs": [],
   "source": [
    "d = {\"Haus\": \"house\", \"Schlange\": \"snake\", \"Katze\": \"cat\"}"
   ]
  },
  {
   "cell_type": "markdown",
   "metadata": {},
   "source": [
    "Alternativ kann man auch die `dict`-Funktion benutzen. Mit Keyword-Argumenten kann man so das Dictionary initialisieren:"
   ]
  },
  {
   "cell_type": "code",
   "execution_count": 2,
   "metadata": {},
   "outputs": [],
   "source": [
    "d = dict(Haus=\"house\", Schlange=\"snake\", Katze=\"cat\")"
   ]
  },
  {
   "cell_type": "markdown",
   "metadata": {},
   "source": [
    "Man beachte, dass die Keyword-Argumente Argumente sind und dementsprechend ohne Anführungszeichen geschrieben werden müssen. Diese werden dann aber in Strings umgewandelt und als Keys im Dictionary verwendet.\n",
    "\n",
    "Einzelne Elemente kann man wieder mit Indizierung herausgreifen - anstelle eines numerischen Index (wie bei Listen) gibt man aber nun den jeweiligen Key als Index an:"
   ]
  },
  {
   "cell_type": "code",
   "execution_count": 3,
   "metadata": {},
   "outputs": [
    {
     "data": {
      "text/plain": [
       "'house'"
      ]
     },
     "execution_count": 3,
     "metadata": {},
     "output_type": "execute_result"
    }
   ],
   "source": [
    "d[\"Haus\"]"
   ]
  },
  {
   "cell_type": "code",
   "execution_count": 4,
   "metadata": {},
   "outputs": [
    {
     "data": {
      "text/plain": [
       "'snake'"
      ]
     },
     "execution_count": 4,
     "metadata": {},
     "output_type": "execute_result"
    }
   ],
   "source": [
    "d[\"Schlange\"]"
   ]
  },
  {
   "cell_type": "markdown",
   "metadata": {},
   "source": [
    "Ein Dictionary ist also gewissermaßen eine verallgemeinerte Liste. Ein wichtiger Unterschied zu Listen ist, dass die Reihenfolge der Einträge in Dictionaries keine Rolle spielt. D.h. man kann bei einem Dictionary nicht vom 1. Element, vom 2. Element usw. sprechen - bei Listen hingegen schon."
   ]
  },
  {
   "cell_type": "code",
   "execution_count": 5,
   "metadata": {},
   "outputs": [
    {
     "data": {
      "text/plain": [
       "{'Haus': 'house', 'Schlange': 'snake', 'Katze': 'cat'}"
      ]
     },
     "execution_count": 5,
     "metadata": {},
     "output_type": "execute_result"
    }
   ],
   "source": [
    "d"
   ]
  },
  {
   "cell_type": "markdown",
   "metadata": {},
   "source": [
    "Genau wie in Listen kann man in Dictionaries Elemente mit unterschiedlichen Datentypen speichern. Eine Einschränkung gibt es aber für die Keys: diese müssen immutable sein (daher kann man z.B. keine Listen als Keys verwenden). Neue Elemente fügt man einfach durch Angabe von Key und Value zu einem bestehenden Dictionary hinzu."
   ]
  },
  {
   "cell_type": "code",
   "execution_count": 6,
   "metadata": {},
   "outputs": [
    {
     "data": {
      "text/plain": [
       "{'Haus': 'house',\n",
       " 'Schlange': 'snake',\n",
       " 'Katze': 'cat',\n",
       " 23: 'tt',\n",
       " 1: 3.14,\n",
       " 'L': [1, 2, 3]}"
      ]
     },
     "execution_count": 6,
     "metadata": {},
     "output_type": "execute_result"
    }
   ],
   "source": [
    "d[23] = \"tt\"\n",
    "d[1] = 3.14\n",
    "d[\"L\"] = [1, 2, 3]\n",
    "d"
   ]
  },
  {
   "cell_type": "markdown",
   "metadata": {},
   "source": [
    "Gibt man einen Key an, der im Wörterbuch nicht existiert, erhält man eine Fehlermeldung."
   ]
  },
  {
   "cell_type": "code",
   "execution_count": 7,
   "metadata": {},
   "outputs": [
    {
     "ename": "KeyError",
     "evalue": "0",
     "output_type": "error",
     "traceback": [
      "\u001b[0;31m---------------------------------------------------------------------------\u001b[0m",
      "\u001b[0;31mKeyError\u001b[0m                                  Traceback (most recent call last)",
      "\u001b[0;32m<ipython-input-7-123a9cc6df61>\u001b[0m in \u001b[0;36m<module>\u001b[0;34m\u001b[0m\n\u001b[0;32m----> 1\u001b[0;31m \u001b[0md\u001b[0m\u001b[0;34m[\u001b[0m\u001b[0;36m0\u001b[0m\u001b[0;34m]\u001b[0m\u001b[0;34m\u001b[0m\u001b[0;34m\u001b[0m\u001b[0m\n\u001b[0m",
      "\u001b[0;31mKeyError\u001b[0m: 0"
     ]
    }
   ],
   "source": [
    "d[0]"
   ]
  },
  {
   "cell_type": "markdown",
   "metadata": {},
   "source": [
    "### Arbeiten  mit Dictionaries\n",
    "\n",
    "Die Länge eines Dictionaries, also die Anzahl der Einträge, bekommt man wieder mit der Funktion `len`:"
   ]
  },
  {
   "cell_type": "code",
   "execution_count": 8,
   "metadata": {},
   "outputs": [
    {
     "data": {
      "text/plain": [
       "6"
      ]
     },
     "execution_count": 8,
     "metadata": {},
     "output_type": "execute_result"
    }
   ],
   "source": [
    "len(d)"
   ]
  },
  {
   "cell_type": "markdown",
   "metadata": {},
   "source": [
    "Die Keys bekommt man mit der Methode `keys`, die Values mit der Methode `values`:"
   ]
  },
  {
   "cell_type": "code",
   "execution_count": 9,
   "metadata": {},
   "outputs": [
    {
     "data": {
      "text/plain": [
       "dict_keys(['Haus', 'Schlange', 'Katze', 23, 1, 'L'])"
      ]
     },
     "execution_count": 9,
     "metadata": {},
     "output_type": "execute_result"
    }
   ],
   "source": [
    "d.keys()"
   ]
  },
  {
   "cell_type": "code",
   "execution_count": 10,
   "metadata": {},
   "outputs": [
    {
     "data": {
      "text/plain": [
       "dict_values(['house', 'snake', 'cat', 'tt', 3.14, [1, 2, 3]])"
      ]
     },
     "execution_count": 10,
     "metadata": {},
     "output_type": "execute_result"
    }
   ],
   "source": [
    "d.values()"
   ]
  },
  {
   "cell_type": "markdown",
   "metadata": {},
   "source": [
    "Beides, also Keys und Values, bekommt man mit der Methode `items`."
   ]
  },
  {
   "cell_type": "code",
   "execution_count": 11,
   "metadata": {},
   "outputs": [
    {
     "data": {
      "text/plain": [
       "dict_items([('Haus', 'house'), ('Schlange', 'snake'), ('Katze', 'cat'), (23, 'tt'), (1, 3.14), ('L', [1, 2, 3])])"
      ]
     },
     "execution_count": 11,
     "metadata": {},
     "output_type": "execute_result"
    }
   ],
   "source": [
    "d.items()"
   ]
  },
  {
   "cell_type": "markdown",
   "metadata": {},
   "source": [
    "Ob ein Wert als Key vorkommt, kann man mit `in` überprüfen:"
   ]
  },
  {
   "cell_type": "code",
   "execution_count": 12,
   "metadata": {},
   "outputs": [
    {
     "data": {
      "text/plain": [
       "True"
      ]
     },
     "execution_count": 12,
     "metadata": {},
     "output_type": "execute_result"
    }
   ],
   "source": [
    "\"Katze\" in d"
   ]
  },
  {
   "cell_type": "code",
   "execution_count": 13,
   "metadata": {},
   "outputs": [
    {
     "data": {
      "text/plain": [
       "False"
      ]
     },
     "execution_count": 13,
     "metadata": {},
     "output_type": "execute_result"
    }
   ],
   "source": [
    "\"cat\" in d"
   ]
  },
  {
   "cell_type": "markdown",
   "metadata": {},
   "source": [
    "Wenn man wissen möchte, ob ein Wert als Value vorkommt, verwendet man die `values`-Methode:"
   ]
  },
  {
   "cell_type": "code",
   "execution_count": 14,
   "metadata": {},
   "outputs": [
    {
     "data": {
      "text/plain": [
       "True"
      ]
     },
     "execution_count": 14,
     "metadata": {},
     "output_type": "execute_result"
    }
   ],
   "source": [
    "\"cat\" in d.values()"
   ]
  },
  {
   "cell_type": "markdown",
   "metadata": {},
   "source": [
    "Selbstverständlich kann man über ein Dictionary auch iterieren - in diesem Fall wird über alle Keys iteriert."
   ]
  },
  {
   "cell_type": "code",
   "execution_count": 15,
   "metadata": {},
   "outputs": [
    {
     "name": "stdout",
     "output_type": "stream",
     "text": [
      "Haus\n",
      "Schlange\n",
      "Katze\n",
      "23\n",
      "1\n",
      "L\n"
     ]
    }
   ],
   "source": [
    "for k in d:\n",
    "    print(k)"
   ]
  },
  {
   "cell_type": "markdown",
   "metadata": {},
   "source": [
    "Auf die entsprechenden Values greift man dann einfach durch Indizieren zu:"
   ]
  },
  {
   "cell_type": "code",
   "execution_count": 16,
   "metadata": {},
   "outputs": [
    {
     "name": "stdout",
     "output_type": "stream",
     "text": [
      "Haus : house\n",
      "Schlange : snake\n",
      "Katze : cat\n",
      "23 : tt\n",
      "1 : 3.14\n",
      "L : [1, 2, 3]\n"
     ]
    }
   ],
   "source": [
    "for k in d:\n",
    "    print(k, \":\", d[k])"
   ]
  },
  {
   "cell_type": "markdown",
   "metadata": {},
   "source": [
    "Eleganter funktioniert das mit der Methode `items`. Diese erzeugt eine Liste von Tupeln, welche die Key/Value-Paare enthalten:"
   ]
  },
  {
   "cell_type": "code",
   "execution_count": 17,
   "metadata": {},
   "outputs": [
    {
     "data": {
      "text/plain": [
       "dict_items([('Haus', 'house'), ('Schlange', 'snake'), ('Katze', 'cat'), (23, 'tt'), (1, 3.14), ('L', [1, 2, 3])])"
      ]
     },
     "execution_count": 17,
     "metadata": {},
     "output_type": "execute_result"
    }
   ],
   "source": [
    "d.items()"
   ]
  },
  {
   "cell_type": "markdown",
   "metadata": {},
   "source": [
    "Damit kann man in einer Schleife sowohl auf die Keys als auch auf die Values zugreifen."
   ]
  },
  {
   "cell_type": "code",
   "execution_count": 18,
   "metadata": {},
   "outputs": [
    {
     "name": "stdout",
     "output_type": "stream",
     "text": [
      "Haus : house\n",
      "Schlange : snake\n",
      "Katze : cat\n",
      "23 : tt\n",
      "1 : 3.14\n",
      "L : [1, 2, 3]\n"
     ]
    }
   ],
   "source": [
    "for k, v in d.items():\n",
    "    print(k, \":\", v)"
   ]
  },
  {
   "cell_type": "markdown",
   "metadata": {},
   "source": [
    "Die gleichzeitige Zuweisung von Werten an die Namen `k` und `v` bezeichnet man in Python als Unpacking - nachdem `d.items()` jeweils ein Tupel bestehend aus zwei Elementen erzeugt, kann man diese zwei Elemente direkt zwei Namen zuweisen. Ein anderes Beispiel dafür ist:"
   ]
  },
  {
   "cell_type": "code",
   "execution_count": 19,
   "metadata": {},
   "outputs": [],
   "source": [
    "a, b = 15, 23"
   ]
  },
  {
   "cell_type": "code",
   "execution_count": 20,
   "metadata": {},
   "outputs": [
    {
     "data": {
      "text/plain": [
       "15"
      ]
     },
     "execution_count": 20,
     "metadata": {},
     "output_type": "execute_result"
    }
   ],
   "source": [
    "a"
   ]
  },
  {
   "cell_type": "code",
   "execution_count": 21,
   "metadata": {},
   "outputs": [
    {
     "data": {
      "text/plain": [
       "23"
      ]
     },
     "execution_count": 21,
     "metadata": {},
     "output_type": "execute_result"
    }
   ],
   "source": [
    "b"
   ]
  },
  {
   "cell_type": "markdown",
   "metadata": {},
   "source": [
    "So kann man in einer Zeile mehrere Namen mit Werten versehen. Im übrigen kann man in Python damit auch effizient Werte vertauschen. Möchte man nun die Werte von `a` und `b` vertauschen, kann man dies so schreiben:"
   ]
  },
  {
   "cell_type": "code",
   "execution_count": 22,
   "metadata": {},
   "outputs": [],
   "source": [
    "a, b = b, a"
   ]
  },
  {
   "cell_type": "code",
   "execution_count": 23,
   "metadata": {},
   "outputs": [
    {
     "data": {
      "text/plain": [
       "(23, 15)"
      ]
     },
     "execution_count": 23,
     "metadata": {},
     "output_type": "execute_result"
    }
   ],
   "source": [
    "a, b"
   ]
  },
  {
   "cell_type": "code",
   "execution_count": 24,
   "metadata": {},
   "outputs": [
    {
     "data": {
      "text/plain": [
       "23"
      ]
     },
     "execution_count": 24,
     "metadata": {},
     "output_type": "execute_result"
    }
   ],
   "source": [
    "a"
   ]
  },
  {
   "cell_type": "code",
   "execution_count": 25,
   "metadata": {},
   "outputs": [
    {
     "data": {
      "text/plain": [
       "15"
      ]
     },
     "execution_count": 25,
     "metadata": {},
     "output_type": "execute_result"
    }
   ],
   "source": [
    "b"
   ]
  },
  {
   "cell_type": "markdown",
   "metadata": {},
   "source": [
    "Möchte man wie oben gezeigt den Fehler bei Verwendung eines nicht existierenden Keys vermeiden, so kann man stattdessen die Methode `get` verwenden. Diese Methode hat zwei Argumente: das erste Argument ist der Key, und das zweite Argument ist ein Standardwert, der zurückgegeben wird falls der angegebene Key im Dictionary nicht existiert:"
   ]
  },
  {
   "cell_type": "code",
   "execution_count": 26,
   "metadata": {},
   "outputs": [
    {
     "data": {
      "text/plain": [
       "{'Haus': 'house',\n",
       " 'Schlange': 'snake',\n",
       " 'Katze': 'cat',\n",
       " 23: 'tt',\n",
       " 1: 3.14,\n",
       " 'L': [1, 2, 3]}"
      ]
     },
     "execution_count": 26,
     "metadata": {},
     "output_type": "execute_result"
    }
   ],
   "source": [
    "d"
   ]
  },
  {
   "cell_type": "code",
   "execution_count": 27,
   "metadata": {},
   "outputs": [
    {
     "ename": "KeyError",
     "evalue": "'psy'",
     "output_type": "error",
     "traceback": [
      "\u001b[0;31m---------------------------------------------------------------------------\u001b[0m",
      "\u001b[0;31mKeyError\u001b[0m                                  Traceback (most recent call last)",
      "\u001b[0;32m<ipython-input-27-570decd363e5>\u001b[0m in \u001b[0;36m<module>\u001b[0;34m\u001b[0m\n\u001b[0;32m----> 1\u001b[0;31m \u001b[0md\u001b[0m\u001b[0;34m[\u001b[0m\u001b[0;34m\"psy\"\u001b[0m\u001b[0;34m]\u001b[0m  \u001b[0;31m# Fehler, Key \"psy\" existiert nicht\u001b[0m\u001b[0;34m\u001b[0m\u001b[0;34m\u001b[0m\u001b[0m\n\u001b[0m",
      "\u001b[0;31mKeyError\u001b[0m: 'psy'"
     ]
    }
   ],
   "source": [
    "d[\"psy\"]  # Fehler, Key \"psy\" existiert nicht"
   ]
  },
  {
   "cell_type": "code",
   "execution_count": 28,
   "metadata": {},
   "outputs": [
    {
     "data": {
      "text/plain": [
       "0"
      ]
     },
     "execution_count": 28,
     "metadata": {},
     "output_type": "execute_result"
    }
   ],
   "source": [
    "d.get(\"psy\", 0)  # Key \"psy\" exisitiert nicht, also wird 0 zurückgegeben"
   ]
  },
  {
   "cell_type": "code",
   "execution_count": 29,
   "metadata": {},
   "outputs": [
    {
     "data": {
      "text/plain": [
       "'snake'"
      ]
     },
     "execution_count": 29,
     "metadata": {},
     "output_type": "execute_result"
    }
   ],
   "source": [
    "d.get(\"Schlange\", \"Tier\")  # Key \"Schlange\" exisitiert"
   ]
  },
  {
   "cell_type": "code",
   "execution_count": 30,
   "metadata": {},
   "outputs": [
    {
     "data": {
      "text/plain": [
       "'Schlange'"
      ]
     },
     "execution_count": 30,
     "metadata": {},
     "output_type": "execute_result"
    }
   ],
   "source": [
    "d.get(\"snake\", \"Schlange\")"
   ]
  },
  {
   "cell_type": "markdown",
   "metadata": {},
   "source": [
    "Zu beachten ist, dass in den Fällen, wo Standardwerte zurückgegeben werden, diese Einträge nicht automatisch im Dictionary erzeugt werden:"
   ]
  },
  {
   "cell_type": "code",
   "execution_count": 31,
   "metadata": {},
   "outputs": [
    {
     "data": {
      "text/plain": [
       "{'Haus': 'house',\n",
       " 'Schlange': 'snake',\n",
       " 'Katze': 'cat',\n",
       " 23: 'tt',\n",
       " 1: 3.14,\n",
       " 'L': [1, 2, 3]}"
      ]
     },
     "execution_count": 31,
     "metadata": {},
     "output_type": "execute_result"
    }
   ],
   "source": [
    "d"
   ]
  },
  {
   "cell_type": "markdown",
   "metadata": {},
   "source": [
    "Möchte man diese neuen Einträge gleich dem Dictionary hinzufügen, verwendet man die Methode `setdefault`:"
   ]
  },
  {
   "cell_type": "code",
   "execution_count": 32,
   "metadata": {},
   "outputs": [
    {
     "data": {
      "text/plain": [
       "42"
      ]
     },
     "execution_count": 32,
     "metadata": {},
     "output_type": "execute_result"
    }
   ],
   "source": [
    "d.setdefault(\"X\", 42)"
   ]
  },
  {
   "cell_type": "code",
   "execution_count": 33,
   "metadata": {},
   "outputs": [
    {
     "data": {
      "text/plain": [
       "{'Haus': 'house',\n",
       " 'Schlange': 'snake',\n",
       " 'Katze': 'cat',\n",
       " 23: 'tt',\n",
       " 1: 3.14,\n",
       " 'L': [1, 2, 3],\n",
       " 'X': 42}"
      ]
     },
     "execution_count": 33,
     "metadata": {},
     "output_type": "execute_result"
    }
   ],
   "source": [
    "d"
   ]
  },
  {
   "cell_type": "code",
   "execution_count": 34,
   "metadata": {},
   "outputs": [
    {
     "data": {
      "text/plain": [
       "42"
      ]
     },
     "execution_count": 34,
     "metadata": {},
     "output_type": "execute_result"
    }
   ],
   "source": [
    "d.setdefault(\"X\", 100)"
   ]
  },
  {
   "cell_type": "code",
   "execution_count": 35,
   "metadata": {},
   "outputs": [
    {
     "data": {
      "text/plain": [
       "{'Haus': 'house',\n",
       " 'Schlange': 'snake',\n",
       " 'Katze': 'cat',\n",
       " 23: 'tt',\n",
       " 1: 3.14,\n",
       " 'L': [1, 2, 3],\n",
       " 'X': 42}"
      ]
     },
     "execution_count": 35,
     "metadata": {},
     "output_type": "execute_result"
    }
   ],
   "source": [
    "d"
   ]
  },
  {
   "cell_type": "markdown",
   "metadata": {},
   "source": [
    "## Module und Packages\n",
    "Wenn man in einer interaktiven Python-Sitzung (also z.B. in der IPython-Console in Spyder) programmiert, dann gehen alle Definitionen (Namen, Funktionen) beim Beenden der Sitzung verloren. Daher ist es sinnvoll, Code in einem Script zu speichern (ein Script ist eine Textdatei mit der Endung `.py`, welche Python-Code enthält). Dieses Script kann man dann beliebig oft ausführen.\n",
    "\n",
    "Wenn ein Programm umfangreicher wird, möchte man vielleicht Code auf unterschiedliche Dateien aufteilen. Es wäre dann sehr umständlich, eine benötigte Funktion in jeder Datei neu zu definieren. In Python kann man daher Code in sogenannte Module auslagern. Module sind Textdateien mit der Endung `.py` (d.h. technisch gesehen gibt es keinen Unterschied zwischen Scripts und Modulen). Module enthalten normalerweise hauptsächlich Definitionen von Funktionen und anderen Objekten. Diese Definitionen können dann einfach in anderen Dateien (Scripts oder Module) mit dem Befehl `import` importiert werden.\n",
    "\n",
    "\n",
    "### Beispiel\n",
    "Als Beispiel definieren wir die Funktion `mean` in dem Modul `stuff.py`:\n",
    "\n",
    "```Python\n",
    "def mean(values):\n",
    "    s = 0\n",
    "    for v in values:\n",
    "        s += v\n",
    "    return s / len(values)\n",
    "```\n",
    "\n",
    "Zu beachten ist, dass sich das Modul `stuff.py` im aktuellen Arbeitsverzeichnis befinden sollte - ansonsten kann Python es nicht finden. Wenn wir diese Funktion nun in einem Script verwenden wollen, können wir den gesamten Inhalt von `stuff.py` importieren:"
   ]
  },
  {
   "cell_type": "code",
   "execution_count": 36,
   "metadata": {},
   "outputs": [],
   "source": [
    "import stuff"
   ]
  },
  {
   "cell_type": "markdown",
   "metadata": {},
   "source": [
    "Nach diesem Befehl steht ein Objekt namens `stuff` zur Verfügung, mit dem man alle dort definierten Funktionen verwenden kann:"
   ]
  },
  {
   "cell_type": "code",
   "execution_count": 37,
   "metadata": {},
   "outputs": [
    {
     "data": {
      "text/plain": [
       "3.5"
      ]
     },
     "execution_count": 37,
     "metadata": {},
     "output_type": "execute_result"
    }
   ],
   "source": [
    "stuff.mean([1, 2, 3, 4, 5, 6])"
   ]
  },
  {
   "cell_type": "markdown",
   "metadata": {},
   "source": [
    "Wenn man gezielt spezifische Funktionen aus einem Modul importieren möchte, kann man dies so tun:"
   ]
  },
  {
   "cell_type": "code",
   "execution_count": 38,
   "metadata": {},
   "outputs": [],
   "source": [
    "from stuff import mean"
   ]
  },
  {
   "cell_type": "markdown",
   "metadata": {},
   "source": [
    "Dann ist diese importierte Funktion direkt verfügbar (also ohne vorher `stuff.` schreiben zu müssen):"
   ]
  },
  {
   "cell_type": "code",
   "execution_count": 39,
   "metadata": {},
   "outputs": [
    {
     "data": {
      "text/plain": [
       "3.5"
      ]
     },
     "execution_count": 39,
     "metadata": {},
     "output_type": "execute_result"
    }
   ],
   "source": [
    "mean([1, 2, 3, 4, 5, 6])"
   ]
  },
  {
   "cell_type": "markdown",
   "metadata": {},
   "source": [
    "Alternativ kann man gezielt ein Modul oder eine Funktion unter einem anderen Namen importieren:"
   ]
  },
  {
   "cell_type": "code",
   "execution_count": 40,
   "metadata": {},
   "outputs": [],
   "source": [
    "import stuff as st  # Modul ist als st bekannt"
   ]
  },
  {
   "cell_type": "code",
   "execution_count": 41,
   "metadata": {},
   "outputs": [
    {
     "data": {
      "text/plain": [
       "3.5"
      ]
     },
     "execution_count": 41,
     "metadata": {},
     "output_type": "execute_result"
    }
   ],
   "source": [
    "st.mean([1, 2, 3, 4, 5, 6])"
   ]
  },
  {
   "cell_type": "code",
   "execution_count": 42,
   "metadata": {},
   "outputs": [],
   "source": [
    "from stuff import mean as m  # Funktion mean aus stuff ist als m bekannt"
   ]
  },
  {
   "cell_type": "code",
   "execution_count": 43,
   "metadata": {},
   "outputs": [
    {
     "data": {
      "text/plain": [
       "11.5"
      ]
     },
     "execution_count": 43,
     "metadata": {},
     "output_type": "execute_result"
    }
   ],
   "source": [
    "m([10, 11, 12, 13])"
   ]
  },
  {
   "cell_type": "markdown",
   "metadata": {},
   "source": [
    "### Eigenschaften\n",
    "Mit diesem Mechanismus kann man Python um zusätzliche Funktionalität erweitern. Dies ist eines der mächtigsten Konzepte von Python, da es eine sehr große Anzahl an Modulen bzw. Paketen (eine Sammlung von Modulen) gibt."
   ]
  },
  {
   "cell_type": "markdown",
   "metadata": {},
   "source": [
    "Um zu sehen, was alles in einem Modul definiert ist, kann man die Funktion `dir` verwenden:"
   ]
  },
  {
   "cell_type": "code",
   "execution_count": 44,
   "metadata": {},
   "outputs": [
    {
     "data": {
      "text/plain": [
       "['__builtins__',\n",
       " '__cached__',\n",
       " '__doc__',\n",
       " '__file__',\n",
       " '__loader__',\n",
       " '__name__',\n",
       " '__package__',\n",
       " '__spec__',\n",
       " 'mean']"
      ]
     },
     "execution_count": 44,
     "metadata": {},
     "output_type": "execute_result"
    }
   ],
   "source": [
    "dir(stuff)"
   ]
  },
  {
   "cell_type": "markdown",
   "metadata": {},
   "source": [
    "Namen, die mit zwei Unterstrichen `__` beginnen und enden sind für den internen Gebrauch gedacht, d.h. normalerweise verwendet man solche Namen nicht. Im Beispiel des Moduls `stuff` sieht man, dass nur ein Name zur Verwendung gedacht ist, nämlich `mean`."
   ]
  },
  {
   "cell_type": "markdown",
   "metadata": {},
   "source": [
    "Innerhalb eines Moduls ist dessen Name in der Variable `__name__` zugänglich (dieser Name entspricht dem Dateinamen)."
   ]
  },
  {
   "cell_type": "code",
   "execution_count": 45,
   "metadata": {},
   "outputs": [
    {
     "data": {
      "text/plain": [
       "'stuff'"
      ]
     },
     "execution_count": 45,
     "metadata": {},
     "output_type": "execute_result"
    }
   ],
   "source": [
    "stuff.__name__"
   ]
  },
  {
   "cell_type": "markdown",
   "metadata": {},
   "source": [
    "Ein Modul kann auch ganz normal als Script ausgeführt werden (d.h. nicht mit `import` importiert werden). Der Wert von `__name__` ist dann allerdings `__main__`. Dies kann man benutzen, um bestimmten Code nur auszuführen, wenn das Modul als Script ausgeführt wird, nicht aber, wenn es normal als Modul importiert wird. D.h. im Modul könnte sich folgender Code befinden:\n",
    "\n",
    "```Python\n",
    "if __name__ == \"__main__\":\n",
    "    print(\"This code does not run when you import the module.\")\n",
    "    print(\"You will only see these lines if you run it as a script.\")\n",
    "```"
   ]
  },
  {
   "cell_type": "markdown",
   "metadata": {},
   "source": [
    "Praktisch ist dieses Verhalten, wenn man Code zum Testen eines Moduls integrieren will. Diese Tests werden dann bei normaler Verwendung mit `import` ignoriert, aber wenn man das Modul direkt ausführt, werden diese Tests ausgeführt."
   ]
  },
  {
   "cell_type": "markdown",
   "metadata": {},
   "source": [
    "Ein Modul wird aus Effizienzgründen nur ein einziges Mal importiert - jeder erneute `import`-Befehl hat deswegen keine Auswirkung! Dies bedeutet, dass man ein geändertes Modul nur durch einen Neustart des Python-Interpreters importieren kann. Alternativ kann man auch, wenn es sich um ein einzelnes Modul handelt welches man gerade testen möchte, die Funktion `reload` aus dem Modul `importlib` verwenden (im folgenden Beispiel wird das Modul `stuff` erneut importiert):\n",
    "\n",
    "```Python\n",
    "import importlib\n",
    "importlib.reload(stuff)\n",
    "```"
   ]
  },
  {
   "cell_type": "markdown",
   "metadata": {},
   "source": [
    "Ohne Argumente listet die Funktion `dir` alle Namen auf, die in der aktuellen Sitzung definiert sind:"
   ]
  },
  {
   "cell_type": "code",
   "execution_count": 43,
   "metadata": {},
   "outputs": [
    {
     "data": {
      "text/plain": [
       "['In',\n",
       " 'Out',\n",
       " '_',\n",
       " '_10',\n",
       " '_11',\n",
       " '_12',\n",
       " '_13',\n",
       " '_16',\n",
       " '_19',\n",
       " '_2',\n",
       " '_20',\n",
       " '_22',\n",
       " '_23',\n",
       " '_25',\n",
       " '_26',\n",
       " '_27',\n",
       " '_28',\n",
       " '_29',\n",
       " '_3',\n",
       " '_30',\n",
       " '_31',\n",
       " '_32',\n",
       " '_34',\n",
       " '_36',\n",
       " '_38',\n",
       " '_4',\n",
       " '_40',\n",
       " '_41',\n",
       " '_42',\n",
       " '_5',\n",
       " '_7',\n",
       " '_8',\n",
       " '_9',\n",
       " '__',\n",
       " '___',\n",
       " '__builtin__',\n",
       " '__builtins__',\n",
       " '__doc__',\n",
       " '__loader__',\n",
       " '__name__',\n",
       " '__package__',\n",
       " '__spec__',\n",
       " '_dh',\n",
       " '_i',\n",
       " '_i1',\n",
       " '_i10',\n",
       " '_i11',\n",
       " '_i12',\n",
       " '_i13',\n",
       " '_i14',\n",
       " '_i15',\n",
       " '_i16',\n",
       " '_i17',\n",
       " '_i18',\n",
       " '_i19',\n",
       " '_i2',\n",
       " '_i20',\n",
       " '_i21',\n",
       " '_i22',\n",
       " '_i23',\n",
       " '_i24',\n",
       " '_i25',\n",
       " '_i26',\n",
       " '_i27',\n",
       " '_i28',\n",
       " '_i29',\n",
       " '_i3',\n",
       " '_i30',\n",
       " '_i31',\n",
       " '_i32',\n",
       " '_i33',\n",
       " '_i34',\n",
       " '_i35',\n",
       " '_i36',\n",
       " '_i37',\n",
       " '_i38',\n",
       " '_i39',\n",
       " '_i4',\n",
       " '_i40',\n",
       " '_i41',\n",
       " '_i42',\n",
       " '_i43',\n",
       " '_i5',\n",
       " '_i6',\n",
       " '_i7',\n",
       " '_i8',\n",
       " '_i9',\n",
       " '_ih',\n",
       " '_ii',\n",
       " '_iii',\n",
       " '_oh',\n",
       " 'a',\n",
       " 'b',\n",
       " 'd',\n",
       " 'exit',\n",
       " 'get_ipython',\n",
       " 'k',\n",
       " 'm',\n",
       " 'mean',\n",
       " 'quit',\n",
       " 'st',\n",
       " 'stuff',\n",
       " 'v']"
      ]
     },
     "execution_count": 43,
     "metadata": {},
     "output_type": "execute_result"
    }
   ],
   "source": [
    "dir()"
   ]
  },
  {
   "cell_type": "markdown",
   "metadata": {},
   "source": [
    "Wie man sieht, gibt es auch eine Menge an internen Namen, die mit einem Unterstrich beginnen. Gemeinsam mit Namen, die mit zwei Unterstrichen beginnen (und manchmal auch enden) bilden diese Namen \"private\" interne Variablen, die man normalerweise nicht direkt benötigt. Die Builtins werden mit `dir()` aufgrund einer besseren Übersichtlichkeit nicht aufgelistet, diese erhält man wie wir bereits wissen mit dem Befehl `dir(__builtins__)`."
   ]
  },
  {
   "cell_type": "markdown",
   "metadata": {},
   "source": [
    "### Standardmodule\n",
    "Python kommt mit einer großen Anzahl an Standardmodulen. Dies wird als Standard Library bezeichnet und ist Teil jeder Python-Distribution. Neben Modulen enthält die Standard Library auch eingebaute (built-in) Funktionen, Typen und Konstanten. Eine Liste aller Module in der Standard Library gibt es in der [offiziellen Dokumentation](https://docs.python.org/3/library/index.html).\n",
    "\n",
    "Beispielsweise gibt es seit Python 3.4 ein `statistics`-Modul, welches unsere oben definierte Funktion `mean` bereits mitbringt."
   ]
  },
  {
   "cell_type": "code",
   "execution_count": 46,
   "metadata": {},
   "outputs": [
    {
     "data": {
      "text/plain": [
       "3.5"
      ]
     },
     "execution_count": 46,
     "metadata": {},
     "output_type": "execute_result"
    }
   ],
   "source": [
    "import statistics\n",
    "\n",
    "statistics.mean([1, 2, 3, 4, 5, 6])"
   ]
  },
  {
   "cell_type": "markdown",
   "metadata": {},
   "source": [
    "Das Modul `random` beinhaltet einige Funktionen zur Generierung von Zufallszahlen."
   ]
  },
  {
   "cell_type": "code",
   "execution_count": 47,
   "metadata": {},
   "outputs": [
    {
     "data": {
      "text/plain": [
       "7"
      ]
     },
     "execution_count": 47,
     "metadata": {},
     "output_type": "execute_result"
    }
   ],
   "source": [
    "import random\n",
    "\n",
    "a = random.randint(0, 10)  # Zufallszahl\n",
    "a"
   ]
  },
  {
   "cell_type": "code",
   "execution_count": 48,
   "metadata": {},
   "outputs": [
    {
     "data": {
      "text/plain": [
       "'Das'"
      ]
     },
     "execution_count": 48,
     "metadata": {},
     "output_type": "execute_result"
    }
   ],
   "source": [
    "x = [\"Das\", \"ist\", \"eine\", \"Liste\", \"mit\", \"ein\", \"paar\", \"Elementen\"]\n",
    "random.choice(x)  # Element zufällig auswählen"
   ]
  },
  {
   "cell_type": "code",
   "execution_count": 49,
   "metadata": {},
   "outputs": [
    {
     "data": {
      "text/plain": [
       "['eine', 'mit', 'paar', 'ein', 'Elementen', 'Das', 'Liste', 'ist']"
      ]
     },
     "execution_count": 49,
     "metadata": {},
     "output_type": "execute_result"
    }
   ],
   "source": [
    "random.shuffle(x)  # Liste mischen\n",
    "x"
   ]
  },
  {
   "cell_type": "code",
   "execution_count": 50,
   "metadata": {},
   "outputs": [
    {
     "data": {
      "text/plain": [
       "8.561489160893062"
      ]
     },
     "execution_count": 50,
     "metadata": {},
     "output_type": "execute_result"
    }
   ],
   "source": [
    "random.normalvariate(10, 4)  # Sample aus einer Normalverteilung"
   ]
  },
  {
   "cell_type": "markdown",
   "metadata": {},
   "source": [
    "Bei Zufallszahlen ist es oft gewünscht, reproduzierbare Ergebnisse zu erhalten, d.h. man möchte bei jedem Ausführen eines Scripts dieselben Zufallszahlen erhalten. Dies erreicht man durch Initialisieren des Zufallgenerators mit einer beliebigen Zahl, z.B.:"
   ]
  },
  {
   "cell_type": "code",
   "execution_count": 51,
   "metadata": {},
   "outputs": [],
   "source": [
    "random.seed(1)"
   ]
  },
  {
   "cell_type": "markdown",
   "metadata": {},
   "source": [
    "Dies sollte einmalig vor der Verwendung von Zufallszahlen stehen."
   ]
  },
  {
   "cell_type": "markdown",
   "metadata": {},
   "source": [
    "Das Modul `math` definiert gebräuchliche mathematische Funktionen und Konstanten."
   ]
  },
  {
   "cell_type": "code",
   "execution_count": 52,
   "metadata": {},
   "outputs": [
    {
     "data": {
      "text/plain": [
       "3.141592653589793"
      ]
     },
     "execution_count": 52,
     "metadata": {},
     "output_type": "execute_result"
    }
   ],
   "source": [
    "import math\n",
    "\n",
    "math.pi  # Pi"
   ]
  },
  {
   "cell_type": "code",
   "execution_count": 53,
   "metadata": {},
   "outputs": [
    {
     "data": {
      "text/plain": [
       "2.718281828459045"
      ]
     },
     "execution_count": 53,
     "metadata": {},
     "output_type": "execute_result"
    }
   ],
   "source": [
    "math.e  # Eulersche Zahl"
   ]
  },
  {
   "cell_type": "code",
   "execution_count": 54,
   "metadata": {},
   "outputs": [
    {
     "data": {
      "text/plain": [
       "4.0"
      ]
     },
     "execution_count": 54,
     "metadata": {},
     "output_type": "execute_result"
    }
   ],
   "source": [
    "math.sqrt(16)  # Wurzel"
   ]
  },
  {
   "cell_type": "markdown",
   "metadata": {},
   "source": [
    "### Packages\n",
    "\n",
    "\n",
    "Eine Ansammlung von Modulen kann in ein Package verpackt werden. Ein Package besteht im Prinzip aus einzelnen Modulen, die in Unterverzeichnissen organisiert sind. Am besten kann dies durch ein Beispiel veranschaulicht werden. Sehen wir uns ein (fiktives) Package namens `sound` an, welches folgende Datei- und Verzeichnisstruktur aufweist:\n",
    "\n",
    "    sound/                          Top-level package\n",
    "          __init__.py               Initialize the sound package\n",
    "          formats/                  Subpackage for file format conversions\n",
    "                  __init__.py\n",
    "                  wavread.py\n",
    "                  wavwrite.py\n",
    "                  aiffread.py\n",
    "                  aiffwrite.py\n",
    "                  auread.py\n",
    "                  auwrite.py\n",
    "                  ...\n",
    "          effects/                  Subpackage for sound effects\n",
    "                  __init__.py\n",
    "                  echo.py\n",
    "                  surround.py\n",
    "                  reverse.py\n",
    "                  ...\n",
    "          filters/                  Subpackage for filters\n",
    "                  __init__.py\n",
    "                  equalizer.py\n",
    "                  vocoder.py\n",
    "                  karaoke.py\n",
    "                  ...\n",
    "\n",
    "Damit Python weiß, dass es sich bei einem Verzeichnis um ein Package handelt, muss die Datei `__init__.py` in diesem Verzeichnis vorhanden sein (diese Datei ist im einfachsten Fall einfach leer).\n",
    "\n",
    "Individuelle Module aus dem Package können nun wie folgt importiert werden:\n",
    "\n",
    "```Python\n",
    "import sound.effects.echo\n",
    "```\n",
    "\n",
    "Eine Funktion aus diesem Modul kann man nun verwenden, indem man den gesamten Namen angibt, also z.B.\n",
    "\n",
    "```Python\n",
    "sound.effects.echo.echofilter(input, output, delay=0.7, atten=4)\n",
    "```\n",
    "\n",
    "Alternativ kann das Modul so importiert werden:\n",
    "\n",
    "```Python\n",
    "from sound.effects import echo\n",
    "```\n",
    "\n",
    "Dies ermöglicht es, auf eine Funktion zuzugreifen, ohne den kompletten Namen anzugeben:\n",
    "\n",
    "```Python\n",
    "echo.echofilter(input, output, delay=0.7, atten=4)\n",
    "```\n",
    "\n",
    "Schließlich kann man auch die gewünschte Funktion direkt aus dem Modul importieren:\n",
    "\n",
    "```Python\n",
    "from sound.effects.echo import echofilter\n",
    "```\n",
    "\n",
    "Die Funktion kann dann direkt verwendet werden:\n",
    "\n",
    "```Python\n",
    "echofilter(input, output, delay=0.7, atten=4)\n",
    "```\n",
    "\n",
    "Eine weitere Möglichkeit besteht darin, dass man einzelne importierte Funktionen umbenennt (z.B. um lange Funktionsnamen abzukürzen):\n",
    "\n",
    "```Python\n",
    "from sound.effects.echo import echofilter as ef\n",
    "```\n",
    "\n",
    "Nun ist also die Funktion `echofilter` mit `ef` ansprechbar und wird so verwendet:\n",
    "\n",
    "```Python\n",
    "ef(input, output, delay=0.7, atten=4)\n",
    "```\n",
    "\n",
    "Für viele gängige Module/Packages haben sich Abkürzungen etabliert:\n",
    "\n",
    "```Python\n",
    "import numpy as np\n",
    "import scipy as sp\n",
    "import pandas as pd\n",
    "import matplotlib.pyplot as plt\n",
    "```"
   ]
  },
  {
   "cell_type": "markdown",
   "metadata": {},
   "source": [
    "## Hausübung\n",
    "Geben Sie diese Hausübung als Python-Script in Moodle ab. Verwenden Sie für den Namen Ihrer Datei bitte folgendes Schema:\n",
    "\n",
    "*Nachname1*_*Nachname2*-HUE08.py\n",
    "\n",
    "### Übung 1\n",
    "Beschreiben Sie kurz, was geschieht, wenn Sie das Modul `math` wie folgt importieren:\n",
    "\n",
    "```\n",
    "import math\n",
    "```\n",
    "\n",
    "Wie können Sie herausfinden, welche Funktionen/Konstanten dieses Modul bereitstellt? Wie können Sie z.B. auf die Kreiszahl $\\pi$ zugreifen?\n",
    "\n",
    "### Übung 2\n",
    "Importieren Sie die Funktion zur Berechnung der Varianz aus dem Modul `statistics` unter dem Namen `var`. Als Beispiel sollten Sie dann folgende Berechnung durchführen:\n",
    "\n",
    "```\n",
    "var([13, 27.75, 11.56, 22, 17, 32.22, 26.7])\n",
    "```\n",
    "\n",
    "Wie lautet das Ergebnis?\n",
    "\n",
    "### Übung 3\n",
    "Erstellen Sie ein Modul namens `textutils` und schreiben Sie darin eine Funktion namens `is_palindrome`, welche überprüft, ob es sich beim übergebenen String um ein Palindrom handelt. Falls ja, soll die Funktion `True` zurückgeben, sonst `False`. Ignorieren Sie auch die Groß-/Kleinschreibung bei der Überprüfung.\n",
    "\n",
    "### Übung 4\n",
    "Verwenden Sie die im Modul `textutils` definierte Funktion `is_palindrome` mit zwei von Ihnen gewählten Beispiel-Strings.\n",
    "\n",
    "### Übung 5\n",
    "Das Package `scipy` beinhaltet viele Funktionen für diverse wissenschaftliche Berechnungen. Unter anderem gibt es auch ein eigenes Subpackage `stats`. Suchen Sie die Funktion, welche den Pearson-Korrelationskoeffizienten berechnet (z.B. auf der SciPy-Website) und importieren Sie diese Funktion. Verwenden Sie dann die Funktion, um die Korrelation zwischen den folgenden beiden Werten (gegeben als Listen) zu berechnen:\n",
    "\n",
    "```\n",
    "x = [1, 2, 3, 4]\n",
    "y = [11, 7, 9, 3]\n",
    "```\n",
    "\n",
    "Wie lautet das Ergebnis (Korrelationskoeffizient $r$ und $p$-Wert)?\n",
    "\n",
    "### Übung 6\n",
    "Erstellen Sie ein Dictionary `a`, welches drei Einträge hat und Übersetzungen der Wörter \"eins\", \"zwei\" und \"drei\" auf Englisch beinhalten soll. Wie können Sie die Übersetzung von \"zwei\" dann aus `a` anzeigen lassen?\n",
    "\n",
    "### Übung 7\n",
    "Fügen Sie dem Dictionary `a` aus der vorigen Übung einen neuen Eintrag (\"vier\" - \"four\") hinzu und geben Sie das gesamte Dictionary am Bildschirm aus.\n",
    "\n",
    "### Übung 8\n",
    "Was passiert, wenn Sie im Dictionary `a` auf den nicht existierenden Key `\"zehn\"` zugreifen wollen? Welche zwei Alternativen gibt es, um für nicht existierende Keys einen Standardwert (z.B. `\"undefiniert\"`) zurückzugeben? Was ist der Unterschied zwischen diesen beiden Möglichkeiten? Geben Sie in Ihrer Antwort auch den konkreten Code für die drei Zugriffsmöglichkeiten auf das Element von `a` an!"
   ]
  },
  {
   "cell_type": "markdown",
   "metadata": {},
   "source": [
    "---\n",
    "![](cc_license.png)\n",
    "\n",
    "Diese Unterlagen sind lizenziert unter einer [Creative Commons Namensnennung - Nicht-kommerziell - Weitergabe unter gleichen Bedingungen 4.0 International Lizenz](http://creativecommons.org/licenses/by-nc-sa/4.0/)."
   ]
  }
 ],
 "metadata": {
  "anaconda-cloud": {},
  "kernelspec": {
   "display_name": "Python 3",
   "language": "python",
   "name": "python3"
  },
  "language_info": {
   "codemirror_mode": {
    "name": "ipython",
    "version": 3
   },
   "file_extension": ".py",
   "mimetype": "text/x-python",
   "name": "python",
   "nbconvert_exporter": "python",
   "pygments_lexer": "ipython3",
   "version": "3.7.1"
  }
 },
 "nbformat": 4,
 "nbformat_minor": 2
}
