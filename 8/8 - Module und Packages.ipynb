{
 "cells": [
  {
   "cell_type": "markdown",
   "metadata": {},
   "source": [
    "# Allgemeines\n",
    "Wenn man in einer interaktiven Python-Sitzung (also z.B. in der IPython-Console in Spyder) programmiert, dann gehen alle Definitionen (Variablen, Funktionen) beim Beenden der Sitzung verloren. Daher ist es sinnvoll, Code in einem Script zu speichern (ein Script ist eine Textdatei mit der Endung `.py`, welche Python-Code enthält). Dieses Script kann man dann beliebig oft ausführen.\n",
    "\n",
    "Wenn ein Programm umfangreicher wird, möchte man vielleicht Code auf unterschiedliche Dateien aufteilen. Es wäre dann sehr umständlich, eine benötigte Funktion in jeder Datei neu zu definieren. In Python kann man daher Code in sogenannte Module auslagern. Module sind ganz normale Textdateien mit der Endung `.py` (d.h. technisch gesehen gibt es keinen Unterschied zwischen Scripts und Modulen). Module enthalten normalerweise hauptsächlich Definitionen von Funktionen und Variablen. Diese Definitionen können dann einfach in andere Dateien (Scripts oder Module) mit dem Befehl `import` importiert werden.\n",
    "\n",
    "\n",
    "# Beispiel\n",
    "Als Beispiel definieren wir die Funktion `mean` in dem Modul `stuff.py`:\n",
    "\n",
    "```Python\n",
    "def mean(values):\n",
    "    s = 0\n",
    "    for v in values:\n",
    "        s += v\n",
    "    return s / len(values)\n",
    "```\n",
    "\n",
    "Wenn wir diese Funktion nun in einem Script verwenden wollen, können wir den gesamten Inhalt von `stuff.py` importieren:"
   ]
  },
  {
   "cell_type": "code",
   "execution_count": 1,
   "metadata": {
    "collapsed": true
   },
   "outputs": [],
   "source": [
    "import stuff"
   ]
  },
  {
   "cell_type": "markdown",
   "metadata": {},
   "source": [
    "Nach diesem Import steht ein Objekt namens `stuff` zur Verfügung, mit dem man alle dort definierten Funktionen ansprechen kann:"
   ]
  },
  {
   "cell_type": "code",
   "execution_count": 2,
   "metadata": {
    "collapsed": false
   },
   "outputs": [
    {
     "data": {
      "text/plain": [
       "3.5"
      ]
     },
     "execution_count": 2,
     "metadata": {},
     "output_type": "execute_result"
    }
   ],
   "source": [
    "stuff.mean([1, 2, 3, 4, 5, 6])"
   ]
  },
  {
   "cell_type": "markdown",
   "metadata": {},
   "source": [
    "Wenn man gezielt spezifische Funktionen aus einem Modul importieren möchte, kann man dies so tun:"
   ]
  },
  {
   "cell_type": "code",
   "execution_count": 3,
   "metadata": {
    "collapsed": true
   },
   "outputs": [],
   "source": [
    "from stuff import mean"
   ]
  },
  {
   "cell_type": "markdown",
   "metadata": {},
   "source": [
    "Dann ist diese importierte Funktion direkt verfügbar:"
   ]
  },
  {
   "cell_type": "code",
   "execution_count": 4,
   "metadata": {
    "collapsed": false
   },
   "outputs": [
    {
     "data": {
      "text/plain": [
       "3.5"
      ]
     },
     "execution_count": 4,
     "metadata": {},
     "output_type": "execute_result"
    }
   ],
   "source": [
    "mean([1, 2, 3, 4, 5, 6])"
   ]
  },
  {
   "cell_type": "markdown",
   "metadata": {},
   "source": [
    "Alternativ kann man gezielt ein Modul oder eine Funktion unter einem anderen Namen importieren:"
   ]
  },
  {
   "cell_type": "code",
   "execution_count": 5,
   "metadata": {
    "collapsed": true
   },
   "outputs": [],
   "source": [
    "import stuff as st  # Modul ist als st bekannt"
   ]
  },
  {
   "cell_type": "code",
   "execution_count": 6,
   "metadata": {
    "collapsed": true
   },
   "outputs": [],
   "source": [
    "from stuff import mean as m  # Funktion mean aus stuff ist als m bekannt"
   ]
  },
  {
   "cell_type": "markdown",
   "metadata": {},
   "source": [
    "# Eigenschaften\n",
    "Mit diesem Mechanismus kann man Python um zusätzliche Funktionalität erweitern. Dies ist eines der mächtigsten Konzepte von Python, da es eine sehr große Anzahl an Modulen bzw. Paketen (eine Sammlung von Modulen) gibt."
   ]
  },
  {
   "cell_type": "markdown",
   "metadata": {},
   "source": [
    "Um zu sehen, was alles in einem Modul definiert ist, kann man die Funktion `dir` verwenden:"
   ]
  },
  {
   "cell_type": "code",
   "execution_count": 7,
   "metadata": {
    "collapsed": false
   },
   "outputs": [
    {
     "data": {
      "text/plain": [
       "['__builtins__',\n",
       " '__cached__',\n",
       " '__doc__',\n",
       " '__file__',\n",
       " '__loader__',\n",
       " '__name__',\n",
       " '__package__',\n",
       " '__spec__',\n",
       " 'mean']"
      ]
     },
     "execution_count": 7,
     "metadata": {},
     "output_type": "execute_result"
    }
   ],
   "source": [
    "dir(stuff)"
   ]
  },
  {
   "cell_type": "markdown",
   "metadata": {},
   "source": [
    "Namen, die mit zwei Unterstrichen `__` beginnen und enden sind für den internen Gebrauch gedacht, d.h. normalerweise verwendet man solche Namen nicht. Im Beispiel des Moduls `stuff` sieht man, dass nur ein Name zur Verwendung gedacht ist, nämlich `mean`."
   ]
  },
  {
   "cell_type": "markdown",
   "metadata": {},
   "source": [
    "Innerhalb eines Moduls ist dessen Name in der Variable `__name__` zugänglich (dieser Name entspricht dem Dateinamen)."
   ]
  },
  {
   "cell_type": "code",
   "execution_count": 8,
   "metadata": {
    "collapsed": false
   },
   "outputs": [
    {
     "data": {
      "text/plain": [
       "'stuff'"
      ]
     },
     "execution_count": 8,
     "metadata": {},
     "output_type": "execute_result"
    }
   ],
   "source": [
    "stuff.__name__"
   ]
  },
  {
   "cell_type": "markdown",
   "metadata": {},
   "source": [
    "Ein Modul kann auch ganz normal als Script ausgeführt werden (d.h. nicht mit `import` importiert werden). Der Wert von `__name__` ist dann allerdings `__main__`. Dies kann man benutzen, um bestimmten Code nur auszuführen, wenn das Modul als Script ausgeführt wird, nicht aber, wenn es normal als Modul importiert wird. D.h. im Modul könnte sich folgender Code befinden:\n",
    "```Python\n",
    "if __name__ == \"__main__\":\n",
    "    print(\"This code does not run when you import the module.\")\n",
    "    print(\"You will only see these lines if you run it as a script.\")\n",
    "```"
   ]
  },
  {
   "cell_type": "markdown",
   "metadata": {},
   "source": [
    "Praktisch ist dieses Verhalten, wenn man Code zum Testen eines Moduls integrieren will. Diese Tests werden dann bei normaler Verwendung mit `import` ignoriert, aber wenn man das Modul direkt ausführt, werden diese Tests ausgeführt."
   ]
  },
  {
   "cell_type": "markdown",
   "metadata": {},
   "source": [
    "Ein Modul wird aus Effizienzgründen nur ein einziges Mal importiert - jeder erneute `import`-Befehl hat deswegen keine Auswirkung. Dies bedeutet, dass man ein geändertes Modul nur durch einen Neustart des Python-Interpreters importieren kann. Alternativ kann man auch, wenn es sich um ein einzelnes Modul handelt welches man gerade testen möchte, die Funktion `reload` aus dem Modul `importlib` verwenden (im folgenden Beispiel wird das Modul `stuff` erneut importiert):\n",
    "\n",
    "```Python\n",
    "import importlib\n",
    "importlib.reload(stuff)\n",
    "```"
   ]
  },
  {
   "cell_type": "markdown",
   "metadata": {},
   "source": [
    "Ohne Argumente listet die Funktion `dir` alle Namen (also Variablen, Module, Funktionen, usw.), die im Moment definiert sind, auf:"
   ]
  },
  {
   "cell_type": "code",
   "execution_count": 9,
   "metadata": {
    "collapsed": false
   },
   "outputs": [
    {
     "data": {
      "text/plain": [
       "['In',\n",
       " 'Out',\n",
       " '_',\n",
       " '_2',\n",
       " '_4',\n",
       " '_7',\n",
       " '_8',\n",
       " '__',\n",
       " '___',\n",
       " '__builtin__',\n",
       " '__builtins__',\n",
       " '__doc__',\n",
       " '__loader__',\n",
       " '__name__',\n",
       " '__package__',\n",
       " '__spec__',\n",
       " '_dh',\n",
       " '_i',\n",
       " '_i1',\n",
       " '_i2',\n",
       " '_i3',\n",
       " '_i4',\n",
       " '_i5',\n",
       " '_i6',\n",
       " '_i7',\n",
       " '_i8',\n",
       " '_i9',\n",
       " '_ih',\n",
       " '_ii',\n",
       " '_iii',\n",
       " '_oh',\n",
       " '_sh',\n",
       " 'exit',\n",
       " 'get_ipython',\n",
       " 'm',\n",
       " 'mean',\n",
       " 'quit',\n",
       " 'st',\n",
       " 'stuff']"
      ]
     },
     "execution_count": 9,
     "metadata": {},
     "output_type": "execute_result"
    }
   ],
   "source": [
    "dir()"
   ]
  },
  {
   "cell_type": "markdown",
   "metadata": {},
   "source": [
    "Anmerkung: Die Builtins werden mit `dir()` aufgrund einer besseren Übersichtlichkeit nicht aufgelistet, diese erhält man wie wir bereits wissen mit dem Befehl `dir(__builtins__)`."
   ]
  },
  {
   "cell_type": "markdown",
   "metadata": {},
   "source": [
    "# Standardmodule\n",
    "Python kommt mit einer großen Anzahl an Standardmodulen. Dies wird als Standard Library bezeichnet und ist Teil jeder Python-Distribution. Neben Modulen enthält die Standard Library auch eingebaute (built-in) Funktionen, Typen und Konstanten. Eine Liste aller Module in der Standard Library gibt es in der [offiziellen Dokumentation](https://docs.python.org/3/library/index.html).\n",
    "\n",
    "Beispielsweise gibt es seit Python 3.4 ein `statistics`-Modul, welches unsere oben definierte Funktion `mean` bereits mitbringt."
   ]
  },
  {
   "cell_type": "code",
   "execution_count": 10,
   "metadata": {
    "collapsed": false
   },
   "outputs": [
    {
     "data": {
      "text/plain": [
       "3.5"
      ]
     },
     "execution_count": 10,
     "metadata": {},
     "output_type": "execute_result"
    }
   ],
   "source": [
    "import statistics\n",
    "\n",
    "statistics.mean([1, 2, 3, 4, 5, 6])"
   ]
  },
  {
   "cell_type": "markdown",
   "metadata": {},
   "source": [
    "Das Modul `random` beinhaltet einige Funktionen zur Generierung von Zufallszahlen."
   ]
  },
  {
   "cell_type": "code",
   "execution_count": 11,
   "metadata": {
    "collapsed": false
   },
   "outputs": [
    {
     "data": {
      "text/plain": [
       "1"
      ]
     },
     "execution_count": 11,
     "metadata": {},
     "output_type": "execute_result"
    }
   ],
   "source": [
    "import random\n",
    "\n",
    "a = random.randint(0, 10)  # Zufallszahl\n",
    "a"
   ]
  },
  {
   "cell_type": "code",
   "execution_count": 12,
   "metadata": {
    "collapsed": false
   },
   "outputs": [
    {
     "data": {
      "text/plain": [
       "'Liste'"
      ]
     },
     "execution_count": 12,
     "metadata": {},
     "output_type": "execute_result"
    }
   ],
   "source": [
    "x = [\"Das\", \"ist\", \"eine\", \"Liste\", \"mit\", \"ein\", \"paar\", \"Elementen\"]\n",
    "random.choice(x)  # Element zufällig auswählen"
   ]
  },
  {
   "cell_type": "code",
   "execution_count": 13,
   "metadata": {
    "collapsed": false
   },
   "outputs": [
    {
     "data": {
      "text/plain": [
       "['eine', 'ein', 'ist', 'paar', 'Das', 'mit', 'Liste', 'Elementen']"
      ]
     },
     "execution_count": 13,
     "metadata": {},
     "output_type": "execute_result"
    }
   ],
   "source": [
    "random.shuffle(x)  # Liste mischen\n",
    "x"
   ]
  },
  {
   "cell_type": "code",
   "execution_count": 14,
   "metadata": {
    "collapsed": false
   },
   "outputs": [
    {
     "data": {
      "text/plain": [
       "2.2339642358506806"
      ]
     },
     "execution_count": 14,
     "metadata": {},
     "output_type": "execute_result"
    }
   ],
   "source": [
    "random.normalvariate(10, 4)  # Sample aus einer Normalverteilung"
   ]
  },
  {
   "cell_type": "markdown",
   "metadata": {},
   "source": [
    "Das Modul `math` definiert gebräuchliche mathematische Funktionen und Konstanten."
   ]
  },
  {
   "cell_type": "code",
   "execution_count": 15,
   "metadata": {
    "collapsed": false
   },
   "outputs": [
    {
     "data": {
      "text/plain": [
       "3.141592653589793"
      ]
     },
     "execution_count": 15,
     "metadata": {},
     "output_type": "execute_result"
    }
   ],
   "source": [
    "import math\n",
    "\n",
    "math.pi  # Pi"
   ]
  },
  {
   "cell_type": "code",
   "execution_count": 16,
   "metadata": {
    "collapsed": false
   },
   "outputs": [
    {
     "data": {
      "text/plain": [
       "2.718281828459045"
      ]
     },
     "execution_count": 16,
     "metadata": {},
     "output_type": "execute_result"
    }
   ],
   "source": [
    "math.e  # Eulersche Zahl"
   ]
  },
  {
   "cell_type": "code",
   "execution_count": 17,
   "metadata": {
    "collapsed": false
   },
   "outputs": [
    {
     "data": {
      "text/plain": [
       "4.0"
      ]
     },
     "execution_count": 17,
     "metadata": {},
     "output_type": "execute_result"
    }
   ],
   "source": [
    "math.sqrt(16)  # Wurzel"
   ]
  },
  {
   "cell_type": "markdown",
   "metadata": {},
   "source": [
    "# Packages\n"
   ]
  },
  {
   "cell_type": "markdown",
   "metadata": {},
   "source": [
    "Eine Ansammlung von Modulen kann in ein Package verpackt werden. Ein Package besteht im Prinzip aus einzelnen Modulen, die in Unterverzeichnissen organisiert sind. Am besten kann dies durch ein Beispiel veranschaulicht werden. Nehmen wir an, wir schreiben ein Package namens `sound`, welches folgende Datei- und Verzeichnisstruktur aufweist:\n",
    "\n",
    "    sound/                          Top-level package\n",
    "          __init__.py               Initialize the sound package\n",
    "          formats/                  Subpackage for file format conversions\n",
    "                  __init__.py\n",
    "                  wavread.py\n",
    "                  wavwrite.py\n",
    "                  aiffread.py\n",
    "                  aiffwrite.py\n",
    "                  auread.py\n",
    "                  auwrite.py\n",
    "                  ...\n",
    "          effects/                  Subpackage for sound effects\n",
    "                  __init__.py\n",
    "                  echo.py\n",
    "                  surround.py\n",
    "                  reverse.py\n",
    "                  ...\n",
    "          filters/                  Subpackage for filters\n",
    "                  __init__.py\n",
    "                  equalizer.py\n",
    "                  vocoder.py\n",
    "                  karaoke.py\n",
    "                  ..."
   ]
  },
  {
   "cell_type": "markdown",
   "metadata": {},
   "source": [
    "Damit Python weiß, dass es sich bei einem Verzeichnis um ein Package handelt, muss die Datei `__init__.py` in diesem Verzeichnis vorhanden sein (diese Datei ist im einfachsten Fall einfach leer).\n",
    "\n",
    "Individuelle Module aus dem Package können nun wie folgt importiert werden:\n",
    "\n",
    "```Python\n",
    "import sound.effects.echo\n",
    "```\n",
    "\n",
    "Eine Funktion aus diesem Modul kann man nun verwenden, indem man den gesamten Namen angibt, also z.B.\n",
    "\n",
    "```Python\n",
    "sound.effects.echo.echofilter(input, output, delay=0.7, atten=4)\n",
    "```\n",
    "\n",
    "Alternativ kann das Modul so importiert werden:\n",
    "\n",
    "```Python\n",
    "from sound.effects import echo\n",
    "```\n",
    "\n",
    "Dies ermöglicht es, auf eine Funktion zuzugreifen, ohne den kompletten Namen anzugeben:\n",
    "\n",
    "```Python\n",
    "echo.echofilter(input, output, delay=0.7, atten=4)\n",
    "```\n",
    "\n",
    "Schließlich kann man auch die gewünschte Funktion direkt aus dem Modul importieren:\n",
    "\n",
    "```Python\n",
    "from sound.effects.echo import echofilter\n",
    "```\n",
    "\n",
    "Die Funktion kann dann direkt verwendet werden:\n",
    "\n",
    "```Python\n",
    "echofilter(input, output, delay=0.7, atten=4)\n",
    "```\n",
    "\n",
    "Eine weitere Möglichkeit besteht darin, dass man einzelne importierte Funktionen umbenennt (z.B. um lange Funktionsnamen abzukürzen):\n",
    "\n",
    "```Python\n",
    "from sound.effects.echo import echofilter as ef\n",
    "```\n",
    "\n",
    "Nun ist also die Funktion `echofilter` mit `ef` ansprechbar und wird so verwendet:\n",
    "\n",
    "```Python\n",
    "ef(input, output, delay=0.7, atten=4)\n",
    "```\n",
    "\n",
    "Für viele Module/Packages haben sich Abkürzungen etabliert:\n",
    "\n",
    "```Python\n",
    "import numpy as np\n",
    "import scipy as sp\n",
    "import pandas as pd\n",
    "import matplotlib.pyplot as plt\n",
    "```"
   ]
  },
  {
   "cell_type": "markdown",
   "metadata": {},
   "source": [
    "# Wichtige Packages im wissenschaftlichen Bereich\n",
    "Python eignet sich hervorragend für wissenschaftliches Arbeiten (z.B. Datenanalyse, statistische Auswertungen, grafische Darstellungen). Folgende Packages haben sich dafür als praktisch herausgestellt (diese Packages werden oft unter dem Begriff [SciPy-Stack](http://www.scipy.org/about.html) zusammengefasst):\n",
    "\n",
    "* [NumPy](http://www.numpy.org/) bietet einen hochoptimierten Datentyp für numerische Berechnungen\n",
    "* [SciPy](http://www.scipy.org/scipylib/index.html) enthält Algorithmen aus verschiedenen wissenschaftlichen Disziplinen\n",
    "* [Pandas](http://pandas.pydata.org/) vereinfacht die Verarbeitung von tabellarischen Daten\n",
    "* [Matplotlib](http://matplotlib.org/) erstellt verschiedenste Grafiken\n",
    "* [IPython](http://ipython.org/) bzw. [Jupyter](http://jupyter.org/) ermöglichen komfortables interaktives Arbeiten mit Python"
   ]
  }
 ],
 "metadata": {
  "kernelspec": {
   "display_name": "Python 3",
   "language": "python",
   "name": "python3"
  },
  "language_info": {
   "codemirror_mode": {
    "name": "ipython",
    "version": 3
   },
   "file_extension": ".py",
   "mimetype": "text/x-python",
   "name": "python",
   "nbconvert_exporter": "python",
   "pygments_lexer": "ipython3",
   "version": "3.5.1"
  }
 },
 "nbformat": 4,
 "nbformat_minor": 0
}
