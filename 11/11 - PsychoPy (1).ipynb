{
 "cells": [
  {
   "cell_type": "markdown",
   "metadata": {},
   "source": [
    "_Einführung in Python, Clemens Brunner, 9.1.2020_\n",
    "\n",
    "# 11 - PsychoPy (1)\n",
    "\n",
    "![](https://github.com/psychopy/psychopy/raw/master/docs/themes/psychopy_bootstrap/static/psychopyLogoType3_h240.png)\n",
    "\n",
    "[PsychoPy](https://www.psychopy.org/) ist ein in Python geschriebenes Paket zur Erstellung von Experimenten in den Neurowissenschaften oder der experimentellen Psychologie. Es ist frei verfügbar (Open Source) und unterstützt zwei verschiedene Möglichkeiten Experimente zu erstellen:\n",
    "\n",
    "1. Visuelle Erstellung über eine grafische Oberfläche (GUI) namens Builder\n",
    "2. Programmatische Erstellung mit Python-Code (z.B. mit dem mitgelieferten Editor namens Coder)\n",
    "\n",
    "Ersteres erleichtert den Einstieg, da keinerlei Programmierwissen notwendig ist. Ein mit Builder erstelltes Experiment wird automatisch in Python-Code übersetzt, welcher dann ausgeführt werden kann. Obwohl viele Parameter des Experimentes grafisch angepasst werden können, ist es mit dem Builder schwierig komplexere Designs umzusetzen. Dafür ist dann die zweite Möglichkeit gedacht &ndash; man kann die grafische Oberfläche dann komplett ignorieren und das Experiment direkt mit Python-Code erstellen. Dazu sind allerdings sowohl grundlegende Python-Kenntnisse als auch Wissen über die Funktionsweise von PsychoPy notwendig.\n",
    "\n",
    "In dieser Lehrveranstaltung werden wir beide Möglichkeiten kennenlernen. Zunächst werden wir die grafische Oberfläche Builder verwenden um einfache Experimente zu erstellen. In der nächsten Einheit werden wir dann den zugrundeliegenden Python-Code näher betrachten und Experimente direkt mit Code erstellen."
   ]
  },
  {
   "cell_type": "markdown",
   "metadata": {},
   "source": [
    "## Installation\n",
    "\n",
    "Da PsychoPy ein Python-Paket ist kann es prinzipiell auch wie alle anderen Pakete installiert werden. Das bedeutet, dass man also entweder `conda` oder `pip` verwenden kann. Allerdings ist es durch die vielen spezifischen Abhängigkeiten von PsychoPy in der Praxis relativ aufwändig, mit diesen Werkzeugen eine funktionsfähige PsychoPy-Version zu erhalten. Die [offizielle Dokumentation](https://www.psychopy.org/download.html) beschreibt einige mögliche Varianten für unterschiedliche Betriebssysteme, insbesondere gibt es eine Anleitung wie man das Paket mit `conda` installieren kann. Dazu sollten folgende Schritte im Terminal (z.B. Anaconda Prompt unter Windows) ausgeführt werden:\n",
    "\n",
    "```\n",
    "conda create -n psychopy -c conda-forge psychopy\n",
    "conda activate psychopy\n",
    "pip install pygame\n",
    "```\n",
    "\n",
    "Danach kann PsychoPy gestartet werden, indem man wiederum im Terminal folgende Befehle eingibt:\n",
    "\n",
    "```\n",
    "conda activate psychopy\n",
    "psychopy\n",
    "```\n",
    "\n",
    "Aufgrund der komplexen manuellen Installation ist es aber in vielen Fällen einfacher, die vorgefertigten [Standalone-Pakete](https://github.com/psychopy/psychopy/releases) zu verwenden. Diese Pakete beinhalten eine komplette Python-Umgebung inklusive aller notwendigen Zusatzpakete, welche parallel zu einer eventuell bereits vorhandenen Python-Umgebung (z.B. Anaconda) installiert werden können. Es gibt diese Standalone-Pakete sowohl für Windows (hier wählt man die 64bit-Variante) als auch macOS (Linux-User gehen hier leer aus, diese müssen PsychoPy manuell installieren)."
   ]
  },
  {
   "cell_type": "markdown",
   "metadata": {},
   "source": [
    "## Builder\n",
    "\n",
    "Nach dem Start von PsychoPy öffnen sich normalerweise zwei unabhängige Fenster, nämlich die grafische Oberfläche Builder sowie der Code-Editor Coder. Mit dem Tastaturkürzel Strg + L unter Windows bzw. Cmd + L unter macOS kann man zwischen beiden Programmfenstern hin- und herwechseln. Auch wenn nur ein Fenster geöffnet wird kann man mit diesem Kürzel das andere Fenster öffnen.\n",
    "\n",
    "Das Builder-Fenster sollte ungefähr so aussehen (zu sehen ist Version 3.2.4):\n",
    "\n",
    "![](psychopy_builder.png)"
   ]
  },
  {
   "cell_type": "markdown",
   "metadata": {},
   "source": [
    "---\n",
    "![](cc_license.png)\n",
    "\n",
    "Diese Unterlagen sind lizenziert unter einer [Creative Commons Namensnennung - Nicht-kommerziell - Weitergabe unter gleichen Bedingungen 4.0 International Lizenz](http://creativecommons.org/licenses/by-nc-sa/4.0/)."
   ]
  }
 ],
 "metadata": {
  "kernelspec": {
   "display_name": "Python 3",
   "language": "python",
   "name": "python3"
  },
  "language_info": {
   "codemirror_mode": {
    "name": "ipython",
    "version": 3
   },
   "file_extension": ".py",
   "mimetype": "text/x-python",
   "name": "python",
   "nbconvert_exporter": "python",
   "pygments_lexer": "ipython3",
   "version": "3.7.5"
  }
 },
 "nbformat": 4,
 "nbformat_minor": 2
}
