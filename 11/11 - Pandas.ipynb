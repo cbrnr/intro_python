{
 "cells": [
  {
   "cell_type": "markdown",
   "metadata": {},
   "source": [
    "_Einführung in Python, Clemens Brunner, 2.2.2017_\n",
    "\n",
    "# 11 - Pandas\n",
    "\n",
    "Pandas ist ein Python-Paket, welches Datenstrukturen und Methoden zum Einlesen, Manipulieren, Analysieren und Schreiben von Daten bietet. Die in Pandas enthaltene Datenstruktur `DataFrame` (inspiriert vom gleichnamigen Datentyp in R) speichert Daten in einer Tabelle und ermöglicht vielfältigte Manipulationen.\n",
    "\n",
    "Wir beginnen wieder mit dem Import des Pakets:"
   ]
  },
  {
   "cell_type": "code",
   "execution_count": 1,
   "metadata": {
    "collapsed": true
   },
   "outputs": [],
   "source": [
    "import pandas as pd"
   ]
  },
  {
   "cell_type": "markdown",
   "metadata": {},
   "source": [
    "Danach bereiten wir Python auf grafische Darstellungen vor:"
   ]
  },
  {
   "cell_type": "code",
   "execution_count": 2,
   "metadata": {
    "collapsed": false
   },
   "outputs": [],
   "source": [
    "%matplotlib inline\n",
    "\n",
    "import matplotlib.pyplot as plt"
   ]
  },
  {
   "cell_type": "markdown",
   "metadata": {},
   "source": [
    "Die Daten für das folgende Beispiel sind bereits in einer CSV-Datei abgespeichert. Eine CSV-Datei ist nichts anderes als eine reine Textdatei (d.h. sie enthält keinerlei Formatierungen wie z.B. eine Word-Datei), welche die Daten in einer Tabelle enthält. In den Zeilen befinden sich die einzelnen Beobachtungen, während die verschiedenen Spalten (welche meist die verschiedenen Variablen repräsentieren) durch Kommas (comma-separated values) oder andere Trennzeichen getrennt sind.\n",
    "\n",
    "Im folgenden Beispiel aus dem [Pandas Cookbook](https://github.com/jvns/pandas-cookbook) werden wir Daten aus einer CSV-Datei einlesen, deren Werte durch Strichpunkte getrennt sind. Zur Veranschaulichung sind hier ein paar Zeilen aus der Textdatei dargestellt:\n",
    "\n",
    "    20/01/2012;161;;4;96;217;67;1;1\n",
    "    21/01/2012;53;;0;47;70;32;1;0\n",
    "    22/01/2012;71;;0;41;73;35;5;0\n",
    "    23/01/2012;210;;6;114;357;91;6;0\n",
    "    24/01/2012;299;;1;189;444;174;4;0\n",
    "    25/01/2012;334;;1;217;453;180;4;0\n",
    "    26/01/2012;306;;0;215;495;191;0;1\n",
    "    27/01/2012;91;;5;79;204;65;0;0\n",
    "\n",
    "Dieser Datensatz beinhaltet Daten über die Anzahl an Radfahrern auf verschiedenen Radstrecken an unterschiedlichen Tagen. Man sieht schon in der Darstellung des Dateiinhaltes, dass es auch fehlende Werte gibt.\n",
    "\n",
    "Pandas stellt die Funktion `read_csv` zur Verfügung. Im ersten Schritt rufen wir diese Funktion mit den Default-Argumenten auf, d.h. wir übergeben nur den Dateinamen:"
   ]
  },
  {
   "cell_type": "code",
   "execution_count": 3,
   "metadata": {
    "collapsed": false
   },
   "outputs": [],
   "source": [
    "df = pd.read_csv(\"bikes.csv\")"
   ]
  },
  {
   "cell_type": "markdown",
   "metadata": {},
   "source": [
    "Die Daten befinden sich nun in einem `DataFrame`-Objekt namens `df`. Ein `DataFrame` ist ein spezieller Datentyp, welcher sich sehr gut für tabellarische (zweidimensionale) Daten eignet. Man kann sich den Inhalt eines Data Frames also wie eine Excel-Tabelle vorstellen, mit Zeilen und Spalten. Wir können uns die ersten paar Zeilen unseres gerade erstellten Data Frames mit der `head`-Methode ausgeben lassen:"
   ]
  },
  {
   "cell_type": "code",
   "execution_count": 4,
   "metadata": {
    "collapsed": false,
    "scrolled": true
   },
   "outputs": [
    {
     "data": {
      "text/html": [
       "<div>\n",
       "<table border=\"1\" class=\"dataframe\">\n",
       "  <thead>\n",
       "    <tr style=\"text-align: right;\">\n",
       "      <th></th>\n",
       "      <th>Date;Berri 1;Brébeuf (données non disponibles);Côte-Sainte-Catherine;Maisonneuve 1;Maisonneuve 2;du Parc;Pierre-Dupuy;Rachel1;St-Urbain (données non disponibles)</th>\n",
       "    </tr>\n",
       "  </thead>\n",
       "  <tbody>\n",
       "    <tr>\n",
       "      <th>0</th>\n",
       "      <td>01/01/2012;35;;0;38;51;26;10;16;</td>\n",
       "    </tr>\n",
       "    <tr>\n",
       "      <th>1</th>\n",
       "      <td>02/01/2012;83;;1;68;153;53;6;43;</td>\n",
       "    </tr>\n",
       "    <tr>\n",
       "      <th>2</th>\n",
       "      <td>03/01/2012;135;;2;104;248;89;3;58;</td>\n",
       "    </tr>\n",
       "    <tr>\n",
       "      <th>3</th>\n",
       "      <td>04/01/2012;144;;1;116;318;111;8;61;</td>\n",
       "    </tr>\n",
       "    <tr>\n",
       "      <th>4</th>\n",
       "      <td>05/01/2012;197;;2;124;330;97;13;95;</td>\n",
       "    </tr>\n",
       "  </tbody>\n",
       "</table>\n",
       "</div>"
      ],
      "text/plain": [
       "  Date;Berri 1;Brébeuf (données non disponibles);Côte-Sainte-Catherine;Maisonneuve 1;Maisonneuve 2;du Parc;Pierre-Dupuy;Rachel1;St-Urbain (données non disponibles)\n",
       "0                   01/01/2012;35;;0;38;51;26;10;16;                                                                                                               \n",
       "1                   02/01/2012;83;;1;68;153;53;6;43;                                                                                                               \n",
       "2                 03/01/2012;135;;2;104;248;89;3;58;                                                                                                               \n",
       "3                04/01/2012;144;;1;116;318;111;8;61;                                                                                                               \n",
       "4                05/01/2012;197;;2;124;330;97;13;95;                                                                                                               "
      ]
     },
     "execution_count": 4,
     "metadata": {},
     "output_type": "execute_result"
    }
   ],
   "source": [
    "df.head()"
   ]
  },
  {
   "cell_type": "markdown",
   "metadata": {},
   "source": [
    "Dieser erste Blick auf die Daten zeigt schon, dass beim Einlesen offensichtlich etwas schief gegangen ist. Alle Daten befinden sich offensichtlich in einer einzigen Spalte.\n",
    "\n",
    "Grundlegende Informationen über die Struktur eines Data Frames bekommt man mit folgendem Befehl:"
   ]
  },
  {
   "cell_type": "code",
   "execution_count": 5,
   "metadata": {
    "collapsed": false,
    "scrolled": true
   },
   "outputs": [
    {
     "name": "stdout",
     "output_type": "stream",
     "text": [
      "<class 'pandas.core.frame.DataFrame'>\n",
      "RangeIndex: 310 entries, 0 to 309\n",
      "Data columns (total 1 columns):\n",
      "Date;Berri 1;Brébeuf (données non disponibles);Côte-Sainte-Catherine;Maisonneuve 1;Maisonneuve 2;du Parc;Pierre-Dupuy;Rachel1;St-Urbain (données non disponibles)    310 non-null object\n",
      "dtypes: object(1)\n",
      "memory usage: 2.5+ KB\n"
     ]
    }
   ],
   "source": [
    "df.info()"
   ]
  },
  {
   "cell_type": "markdown",
   "metadata": {},
   "source": [
    "Hier erfährt man, dass das Objekt 310 Einträge (Zeilen) hat und nur 1 Spalte. Es sieht so aus, als ob Pandas die `;` nicht als Trennzeichen für Spalten erkannt hat. Dies kann man einfach mit einem leicht modifizierten Aufruf beheben:"
   ]
  },
  {
   "cell_type": "code",
   "execution_count": 6,
   "metadata": {
    "collapsed": false
   },
   "outputs": [
    {
     "data": {
      "text/html": [
       "<div>\n",
       "<table border=\"1\" class=\"dataframe\">\n",
       "  <thead>\n",
       "    <tr style=\"text-align: right;\">\n",
       "      <th></th>\n",
       "      <th>Date</th>\n",
       "      <th>Berri 1</th>\n",
       "      <th>Brébeuf (données non disponibles)</th>\n",
       "      <th>Côte-Sainte-Catherine</th>\n",
       "      <th>Maisonneuve 1</th>\n",
       "      <th>Maisonneuve 2</th>\n",
       "      <th>du Parc</th>\n",
       "      <th>Pierre-Dupuy</th>\n",
       "      <th>Rachel1</th>\n",
       "      <th>St-Urbain (données non disponibles)</th>\n",
       "    </tr>\n",
       "  </thead>\n",
       "  <tbody>\n",
       "    <tr>\n",
       "      <th>0</th>\n",
       "      <td>01/01/2012</td>\n",
       "      <td>35</td>\n",
       "      <td>NaN</td>\n",
       "      <td>0</td>\n",
       "      <td>38</td>\n",
       "      <td>51</td>\n",
       "      <td>26</td>\n",
       "      <td>10</td>\n",
       "      <td>16</td>\n",
       "      <td>NaN</td>\n",
       "    </tr>\n",
       "    <tr>\n",
       "      <th>1</th>\n",
       "      <td>02/01/2012</td>\n",
       "      <td>83</td>\n",
       "      <td>NaN</td>\n",
       "      <td>1</td>\n",
       "      <td>68</td>\n",
       "      <td>153</td>\n",
       "      <td>53</td>\n",
       "      <td>6</td>\n",
       "      <td>43</td>\n",
       "      <td>NaN</td>\n",
       "    </tr>\n",
       "    <tr>\n",
       "      <th>2</th>\n",
       "      <td>03/01/2012</td>\n",
       "      <td>135</td>\n",
       "      <td>NaN</td>\n",
       "      <td>2</td>\n",
       "      <td>104</td>\n",
       "      <td>248</td>\n",
       "      <td>89</td>\n",
       "      <td>3</td>\n",
       "      <td>58</td>\n",
       "      <td>NaN</td>\n",
       "    </tr>\n",
       "    <tr>\n",
       "      <th>3</th>\n",
       "      <td>04/01/2012</td>\n",
       "      <td>144</td>\n",
       "      <td>NaN</td>\n",
       "      <td>1</td>\n",
       "      <td>116</td>\n",
       "      <td>318</td>\n",
       "      <td>111</td>\n",
       "      <td>8</td>\n",
       "      <td>61</td>\n",
       "      <td>NaN</td>\n",
       "    </tr>\n",
       "    <tr>\n",
       "      <th>4</th>\n",
       "      <td>05/01/2012</td>\n",
       "      <td>197</td>\n",
       "      <td>NaN</td>\n",
       "      <td>2</td>\n",
       "      <td>124</td>\n",
       "      <td>330</td>\n",
       "      <td>97</td>\n",
       "      <td>13</td>\n",
       "      <td>95</td>\n",
       "      <td>NaN</td>\n",
       "    </tr>\n",
       "  </tbody>\n",
       "</table>\n",
       "</div>"
      ],
      "text/plain": [
       "         Date  Berri 1  Brébeuf (données non disponibles)  \\\n",
       "0  01/01/2012       35                                NaN   \n",
       "1  02/01/2012       83                                NaN   \n",
       "2  03/01/2012      135                                NaN   \n",
       "3  04/01/2012      144                                NaN   \n",
       "4  05/01/2012      197                                NaN   \n",
       "\n",
       "   Côte-Sainte-Catherine  Maisonneuve 1  Maisonneuve 2  du Parc  Pierre-Dupuy  \\\n",
       "0                      0             38             51       26            10   \n",
       "1                      1             68            153       53             6   \n",
       "2                      2            104            248       89             3   \n",
       "3                      1            116            318      111             8   \n",
       "4                      2            124            330       97            13   \n",
       "\n",
       "   Rachel1  St-Urbain (données non disponibles)  \n",
       "0       16                                  NaN  \n",
       "1       43                                  NaN  \n",
       "2       58                                  NaN  \n",
       "3       61                                  NaN  \n",
       "4       95                                  NaN  "
      ]
     },
     "execution_count": 6,
     "metadata": {},
     "output_type": "execute_result"
    }
   ],
   "source": [
    "df = pd.read_csv(\"bikes.csv\", sep=\";\")\n",
    "df.head()"
   ]
  },
  {
   "cell_type": "markdown",
   "metadata": {},
   "source": [
    "Das sieht auf jeden Fall schon einmal wesentlich besser aus. Pandas unterstützt außerdem Datumsangaben, d.h. man kann die Spalte `Date` gleich beim Einlesen in einen solchen Typ umwandeln. Außerdem kann das Datum dann gleich als Index für das Data Frame verwendet werden, weil ein Datum einen Eintrag eindeutig identifiziert."
   ]
  },
  {
   "cell_type": "code",
   "execution_count": 7,
   "metadata": {
    "collapsed": false
   },
   "outputs": [
    {
     "data": {
      "text/html": [
       "<div>\n",
       "<table border=\"1\" class=\"dataframe\">\n",
       "  <thead>\n",
       "    <tr style=\"text-align: right;\">\n",
       "      <th></th>\n",
       "      <th>Berri 1</th>\n",
       "      <th>Brébeuf (données non disponibles)</th>\n",
       "      <th>Côte-Sainte-Catherine</th>\n",
       "      <th>Maisonneuve 1</th>\n",
       "      <th>Maisonneuve 2</th>\n",
       "      <th>du Parc</th>\n",
       "      <th>Pierre-Dupuy</th>\n",
       "      <th>Rachel1</th>\n",
       "      <th>St-Urbain (données non disponibles)</th>\n",
       "    </tr>\n",
       "    <tr>\n",
       "      <th>Date</th>\n",
       "      <th></th>\n",
       "      <th></th>\n",
       "      <th></th>\n",
       "      <th></th>\n",
       "      <th></th>\n",
       "      <th></th>\n",
       "      <th></th>\n",
       "      <th></th>\n",
       "      <th></th>\n",
       "    </tr>\n",
       "  </thead>\n",
       "  <tbody>\n",
       "    <tr>\n",
       "      <th>2012-01-01</th>\n",
       "      <td>35</td>\n",
       "      <td>NaN</td>\n",
       "      <td>0</td>\n",
       "      <td>38</td>\n",
       "      <td>51</td>\n",
       "      <td>26</td>\n",
       "      <td>10</td>\n",
       "      <td>16</td>\n",
       "      <td>NaN</td>\n",
       "    </tr>\n",
       "    <tr>\n",
       "      <th>2012-01-02</th>\n",
       "      <td>83</td>\n",
       "      <td>NaN</td>\n",
       "      <td>1</td>\n",
       "      <td>68</td>\n",
       "      <td>153</td>\n",
       "      <td>53</td>\n",
       "      <td>6</td>\n",
       "      <td>43</td>\n",
       "      <td>NaN</td>\n",
       "    </tr>\n",
       "    <tr>\n",
       "      <th>2012-01-03</th>\n",
       "      <td>135</td>\n",
       "      <td>NaN</td>\n",
       "      <td>2</td>\n",
       "      <td>104</td>\n",
       "      <td>248</td>\n",
       "      <td>89</td>\n",
       "      <td>3</td>\n",
       "      <td>58</td>\n",
       "      <td>NaN</td>\n",
       "    </tr>\n",
       "    <tr>\n",
       "      <th>2012-01-04</th>\n",
       "      <td>144</td>\n",
       "      <td>NaN</td>\n",
       "      <td>1</td>\n",
       "      <td>116</td>\n",
       "      <td>318</td>\n",
       "      <td>111</td>\n",
       "      <td>8</td>\n",
       "      <td>61</td>\n",
       "      <td>NaN</td>\n",
       "    </tr>\n",
       "    <tr>\n",
       "      <th>2012-01-05</th>\n",
       "      <td>197</td>\n",
       "      <td>NaN</td>\n",
       "      <td>2</td>\n",
       "      <td>124</td>\n",
       "      <td>330</td>\n",
       "      <td>97</td>\n",
       "      <td>13</td>\n",
       "      <td>95</td>\n",
       "      <td>NaN</td>\n",
       "    </tr>\n",
       "  </tbody>\n",
       "</table>\n",
       "</div>"
      ],
      "text/plain": [
       "            Berri 1  Brébeuf (données non disponibles)  Côte-Sainte-Catherine  \\\n",
       "Date                                                                            \n",
       "2012-01-01       35                                NaN                      0   \n",
       "2012-01-02       83                                NaN                      1   \n",
       "2012-01-03      135                                NaN                      2   \n",
       "2012-01-04      144                                NaN                      1   \n",
       "2012-01-05      197                                NaN                      2   \n",
       "\n",
       "            Maisonneuve 1  Maisonneuve 2  du Parc  Pierre-Dupuy  Rachel1  \\\n",
       "Date                                                                       \n",
       "2012-01-01             38             51       26            10       16   \n",
       "2012-01-02             68            153       53             6       43   \n",
       "2012-01-03            104            248       89             3       58   \n",
       "2012-01-04            116            318      111             8       61   \n",
       "2012-01-05            124            330       97            13       95   \n",
       "\n",
       "            St-Urbain (données non disponibles)  \n",
       "Date                                             \n",
       "2012-01-01                                  NaN  \n",
       "2012-01-02                                  NaN  \n",
       "2012-01-03                                  NaN  \n",
       "2012-01-04                                  NaN  \n",
       "2012-01-05                                  NaN  "
      ]
     },
     "execution_count": 7,
     "metadata": {},
     "output_type": "execute_result"
    }
   ],
   "source": [
    "df = pd.read_csv(\"bikes.csv\", sep=\";\", parse_dates=[\"Date\"], dayfirst=True, index_col=\"Date\")\n",
    "df.head()"
   ]
  },
  {
   "cell_type": "markdown",
   "metadata": {},
   "source": [
    "Nun befinden sich die Daten sauber in einem Data Frame. Ein kurzer Blick auf die Struktur bestätigt dies:"
   ]
  },
  {
   "cell_type": "code",
   "execution_count": 8,
   "metadata": {
    "collapsed": false
   },
   "outputs": [
    {
     "name": "stdout",
     "output_type": "stream",
     "text": [
      "<class 'pandas.core.frame.DataFrame'>\n",
      "DatetimeIndex: 310 entries, 2012-01-01 to 2012-11-05\n",
      "Data columns (total 9 columns):\n",
      "Berri 1                                310 non-null int64\n",
      "Brébeuf (données non disponibles)      0 non-null float64\n",
      "Côte-Sainte-Catherine                  310 non-null int64\n",
      "Maisonneuve 1                          310 non-null int64\n",
      "Maisonneuve 2                          310 non-null int64\n",
      "du Parc                                310 non-null int64\n",
      "Pierre-Dupuy                           310 non-null int64\n",
      "Rachel1                                310 non-null int64\n",
      "St-Urbain (données non disponibles)    0 non-null float64\n",
      "dtypes: float64(2), int64(7)\n",
      "memory usage: 24.2 KB\n"
     ]
    }
   ],
   "source": [
    "df.info()"
   ]
  },
  {
   "cell_type": "markdown",
   "metadata": {},
   "source": [
    "Einzelne Spalten kann man anhand ihres Namens wie folgt herausholen:"
   ]
  },
  {
   "cell_type": "code",
   "execution_count": 9,
   "metadata": {
    "collapsed": false
   },
   "outputs": [
    {
     "data": {
      "text/plain": [
       "Date\n",
       "2012-01-01      35\n",
       "2012-01-02      83\n",
       "2012-01-03     135\n",
       "2012-01-04     144\n",
       "2012-01-05     197\n",
       "2012-01-06     146\n",
       "2012-01-07      98\n",
       "2012-01-08      95\n",
       "2012-01-09     244\n",
       "2012-01-10     397\n",
       "2012-01-11     273\n",
       "2012-01-12     157\n",
       "2012-01-13      75\n",
       "2012-01-14      32\n",
       "2012-01-15      54\n",
       "2012-01-16     168\n",
       "2012-01-17     155\n",
       "2012-01-18     139\n",
       "2012-01-19     191\n",
       "2012-01-20     161\n",
       "2012-01-21      53\n",
       "2012-01-22      71\n",
       "2012-01-23     210\n",
       "2012-01-24     299\n",
       "2012-01-25     334\n",
       "2012-01-26     306\n",
       "2012-01-27      91\n",
       "2012-01-28      80\n",
       "2012-01-29      87\n",
       "2012-01-30     219\n",
       "              ... \n",
       "2012-10-07    1580\n",
       "2012-10-08    1854\n",
       "2012-10-09    4787\n",
       "2012-10-10    3115\n",
       "2012-10-11    3746\n",
       "2012-10-12    3169\n",
       "2012-10-13    1783\n",
       "2012-10-14     587\n",
       "2012-10-15    3292\n",
       "2012-10-16    3739\n",
       "2012-10-17    4098\n",
       "2012-10-18    4671\n",
       "2012-10-19    1313\n",
       "2012-10-20    2011\n",
       "2012-10-21    1277\n",
       "2012-10-22    3650\n",
       "2012-10-23    4177\n",
       "2012-10-24    3744\n",
       "2012-10-25    3735\n",
       "2012-10-26    4290\n",
       "2012-10-27    1857\n",
       "2012-10-28    1310\n",
       "2012-10-29    2919\n",
       "2012-10-30    2887\n",
       "2012-10-31    2634\n",
       "2012-11-01    2405\n",
       "2012-11-02    1582\n",
       "2012-11-03     844\n",
       "2012-11-04     966\n",
       "2012-11-05    2247\n",
       "Name: Berri 1, dtype: int64"
      ]
     },
     "execution_count": 9,
     "metadata": {},
     "output_type": "execute_result"
    }
   ],
   "source": [
    "df[\"Berri 1\"]"
   ]
  },
  {
   "cell_type": "markdown",
   "metadata": {},
   "source": [
    "Mehrere Spalten kann man herausholen, indem man in die eckigen Klammern einfach eine Liste mit den gewünschten Spaltennamen schreibt:"
   ]
  },
  {
   "cell_type": "code",
   "execution_count": 10,
   "metadata": {
    "collapsed": false
   },
   "outputs": [
    {
     "data": {
      "text/html": [
       "<div>\n",
       "<table border=\"1\" class=\"dataframe\">\n",
       "  <thead>\n",
       "    <tr style=\"text-align: right;\">\n",
       "      <th></th>\n",
       "      <th>Berri 1</th>\n",
       "      <th>du Parc</th>\n",
       "    </tr>\n",
       "    <tr>\n",
       "      <th>Date</th>\n",
       "      <th></th>\n",
       "      <th></th>\n",
       "    </tr>\n",
       "  </thead>\n",
       "  <tbody>\n",
       "    <tr>\n",
       "      <th>2012-01-01</th>\n",
       "      <td>35</td>\n",
       "      <td>26</td>\n",
       "    </tr>\n",
       "    <tr>\n",
       "      <th>2012-01-02</th>\n",
       "      <td>83</td>\n",
       "      <td>53</td>\n",
       "    </tr>\n",
       "    <tr>\n",
       "      <th>2012-01-03</th>\n",
       "      <td>135</td>\n",
       "      <td>89</td>\n",
       "    </tr>\n",
       "    <tr>\n",
       "      <th>2012-01-04</th>\n",
       "      <td>144</td>\n",
       "      <td>111</td>\n",
       "    </tr>\n",
       "    <tr>\n",
       "      <th>2012-01-05</th>\n",
       "      <td>197</td>\n",
       "      <td>97</td>\n",
       "    </tr>\n",
       "  </tbody>\n",
       "</table>\n",
       "</div>"
      ],
      "text/plain": [
       "            Berri 1  du Parc\n",
       "Date                        \n",
       "2012-01-01       35       26\n",
       "2012-01-02       83       53\n",
       "2012-01-03      135       89\n",
       "2012-01-04      144      111\n",
       "2012-01-05      197       97"
      ]
     },
     "execution_count": 10,
     "metadata": {},
     "output_type": "execute_result"
    }
   ],
   "source": [
    "df[[\"Berri 1\", \"du Parc\"]].head()"
   ]
  },
  {
   "cell_type": "markdown",
   "metadata": {},
   "source": [
    "Es fällt aber auf, dass zwei Spalten keine Einträge haben. Daher können wir diese beiden Spalten aus dem Data Frame löschen:"
   ]
  },
  {
   "cell_type": "code",
   "execution_count": 11,
   "metadata": {
    "collapsed": false
   },
   "outputs": [
    {
     "data": {
      "text/html": [
       "<div>\n",
       "<table border=\"1\" class=\"dataframe\">\n",
       "  <thead>\n",
       "    <tr style=\"text-align: right;\">\n",
       "      <th></th>\n",
       "      <th>Berri 1</th>\n",
       "      <th>Côte-Sainte-Catherine</th>\n",
       "      <th>Maisonneuve 1</th>\n",
       "      <th>Maisonneuve 2</th>\n",
       "      <th>du Parc</th>\n",
       "      <th>Pierre-Dupuy</th>\n",
       "      <th>Rachel1</th>\n",
       "    </tr>\n",
       "    <tr>\n",
       "      <th>Date</th>\n",
       "      <th></th>\n",
       "      <th></th>\n",
       "      <th></th>\n",
       "      <th></th>\n",
       "      <th></th>\n",
       "      <th></th>\n",
       "      <th></th>\n",
       "    </tr>\n",
       "  </thead>\n",
       "  <tbody>\n",
       "    <tr>\n",
       "      <th>2012-01-01</th>\n",
       "      <td>35</td>\n",
       "      <td>0</td>\n",
       "      <td>38</td>\n",
       "      <td>51</td>\n",
       "      <td>26</td>\n",
       "      <td>10</td>\n",
       "      <td>16</td>\n",
       "    </tr>\n",
       "    <tr>\n",
       "      <th>2012-01-02</th>\n",
       "      <td>83</td>\n",
       "      <td>1</td>\n",
       "      <td>68</td>\n",
       "      <td>153</td>\n",
       "      <td>53</td>\n",
       "      <td>6</td>\n",
       "      <td>43</td>\n",
       "    </tr>\n",
       "    <tr>\n",
       "      <th>2012-01-03</th>\n",
       "      <td>135</td>\n",
       "      <td>2</td>\n",
       "      <td>104</td>\n",
       "      <td>248</td>\n",
       "      <td>89</td>\n",
       "      <td>3</td>\n",
       "      <td>58</td>\n",
       "    </tr>\n",
       "    <tr>\n",
       "      <th>2012-01-04</th>\n",
       "      <td>144</td>\n",
       "      <td>1</td>\n",
       "      <td>116</td>\n",
       "      <td>318</td>\n",
       "      <td>111</td>\n",
       "      <td>8</td>\n",
       "      <td>61</td>\n",
       "    </tr>\n",
       "    <tr>\n",
       "      <th>2012-01-05</th>\n",
       "      <td>197</td>\n",
       "      <td>2</td>\n",
       "      <td>124</td>\n",
       "      <td>330</td>\n",
       "      <td>97</td>\n",
       "      <td>13</td>\n",
       "      <td>95</td>\n",
       "    </tr>\n",
       "  </tbody>\n",
       "</table>\n",
       "</div>"
      ],
      "text/plain": [
       "            Berri 1  Côte-Sainte-Catherine  Maisonneuve 1  Maisonneuve 2  \\\n",
       "Date                                                                       \n",
       "2012-01-01       35                      0             38             51   \n",
       "2012-01-02       83                      1             68            153   \n",
       "2012-01-03      135                      2            104            248   \n",
       "2012-01-04      144                      1            116            318   \n",
       "2012-01-05      197                      2            124            330   \n",
       "\n",
       "            du Parc  Pierre-Dupuy  Rachel1  \n",
       "Date                                        \n",
       "2012-01-01       26            10       16  \n",
       "2012-01-02       53             6       43  \n",
       "2012-01-03       89             3       58  \n",
       "2012-01-04      111             8       61  \n",
       "2012-01-05       97            13       95  "
      ]
     },
     "execution_count": 11,
     "metadata": {},
     "output_type": "execute_result"
    }
   ],
   "source": [
    "df = df.drop([\"Brébeuf (données non disponibles)\", \"St-Urbain (données non disponibles)\"], axis=1)\n",
    "df.head()"
   ]
  },
  {
   "cell_type": "markdown",
   "metadata": {},
   "source": [
    "Nun sind also nur mehr Spalten mit Daten vorhanden:"
   ]
  },
  {
   "cell_type": "code",
   "execution_count": 12,
   "metadata": {
    "collapsed": false
   },
   "outputs": [
    {
     "name": "stdout",
     "output_type": "stream",
     "text": [
      "<class 'pandas.core.frame.DataFrame'>\n",
      "DatetimeIndex: 310 entries, 2012-01-01 to 2012-11-05\n",
      "Data columns (total 7 columns):\n",
      "Berri 1                  310 non-null int64\n",
      "Côte-Sainte-Catherine    310 non-null int64\n",
      "Maisonneuve 1            310 non-null int64\n",
      "Maisonneuve 2            310 non-null int64\n",
      "du Parc                  310 non-null int64\n",
      "Pierre-Dupuy             310 non-null int64\n",
      "Rachel1                  310 non-null int64\n",
      "dtypes: int64(7)\n",
      "memory usage: 19.4 KB\n"
     ]
    }
   ],
   "source": [
    "df.info()"
   ]
  },
  {
   "cell_type": "markdown",
   "metadata": {},
   "source": [
    "Mit Pandas kann man Daten auch sehr einfach grafisch darstellen, z.B. die eben herausgegriffene Spalte:"
   ]
  },
  {
   "cell_type": "code",
   "execution_count": 13,
   "metadata": {
    "collapsed": false,
    "scrolled": true
   },
   "outputs": [
    {
     "data": {
      "text/plain": [
       "<matplotlib.axes._subplots.AxesSubplot at 0x10dfa53c8>"
      ]
     },
     "execution_count": 13,
     "metadata": {},
     "output_type": "execute_result"
    },
    {
     "data": {
      "image/png": "[encoded data removed]",
      "text/plain": [
       "<matplotlib.figure.Figure at 0x10df96860>"
      ]
     },
     "metadata": {},
     "output_type": "display_data"
    }
   ],
   "source": [
    "df[\"Berri 1\"].plot()"
   ]
  },
  {
   "cell_type": "markdown",
   "metadata": {},
   "source": [
    "Nicht ganz überraschend sieht man, dass die Anzahl der Radfahrer auf dieser Radstrecke in den Wintermonaten sehr viel geringer ist als in den Sommer- und Herbstmonaten."
   ]
  },
  {
   "cell_type": "markdown",
   "metadata": {},
   "source": [
    "Eine weitere Fragestellung könnte sein, ob sich mehr Leute unter der Woche oder an den Wochenenden auf den Fahrradstrecken befinden. Wenden wir uns im folgenden Beispiel dem Index zu."
   ]
  },
  {
   "cell_type": "code",
   "execution_count": 14,
   "metadata": {
    "collapsed": false
   },
   "outputs": [
    {
     "data": {
      "text/plain": [
       "DatetimeIndex(['2012-01-01', '2012-01-02', '2012-01-03', '2012-01-04',\n",
       "               '2012-01-05', '2012-01-06', '2012-01-07', '2012-01-08',\n",
       "               '2012-01-09', '2012-01-10',\n",
       "               ...\n",
       "               '2012-10-27', '2012-10-28', '2012-10-29', '2012-10-30',\n",
       "               '2012-10-31', '2012-11-01', '2012-11-02', '2012-11-03',\n",
       "               '2012-11-04', '2012-11-05'],\n",
       "              dtype='datetime64[ns]', name='Date', length=310, freq=None)"
      ]
     },
     "execution_count": 14,
     "metadata": {},
     "output_type": "execute_result"
    }
   ],
   "source": [
    "df.index"
   ]
  },
  {
   "cell_type": "markdown",
   "metadata": {},
   "source": [
    "Wie man schon an der Zeilenanzahl des Data Frames gesehen hat, fehlen offensichtlich einige Tage, da nur 310 von 365 Tagen vorhanden sind. Der Index für jede Zeile muss nicht eindeutig sein, ist es in diesem Beispiel aber. Die Datumsspalte könnte auch als ganz normale Spalte vorhanden sein, auch dann würden die nachfolgenden Dinge (angewendet auf eben die Spalte) funktionieren.\n",
    "\n",
    "Der Typ der Index-Spalte beschreibt Zeitpunkte (Datum und Uhrzeit), das haben wir bei Einlesen so angegeben. Daher kann man nun mit speziellen Methoden den Wochentag eines Datums herausfinden:"
   ]
  },
  {
   "cell_type": "code",
   "execution_count": 15,
   "metadata": {
    "collapsed": false,
    "scrolled": true
   },
   "outputs": [
    {
     "data": {
      "text/plain": [
       "array([6, 0, 1, 2, 3, 4, 5, 6, 0, 1, 2, 3, 4, 5, 6, 0, 1, 2, 3, 4, 5, 6, 0,\n",
       "       1, 2, 3, 4, 5, 6, 0, 1, 2, 3, 4, 5, 6, 0, 1, 2, 3, 4, 5, 6, 0, 1, 2,\n",
       "       3, 4, 5, 6, 0, 1, 2, 3, 4, 5, 6, 0, 1, 2, 3, 4, 5, 6, 0, 1, 2, 3, 4,\n",
       "       5, 6, 0, 1, 2, 3, 4, 5, 6, 0, 1, 2, 3, 4, 5, 6, 0, 1, 2, 3, 4, 5, 6,\n",
       "       0, 1, 2, 3, 4, 5, 6, 0, 1, 2, 3, 4, 5, 6, 0, 1, 2, 3, 4, 5, 6, 0, 1,\n",
       "       2, 3, 4, 5, 6, 0, 1, 2, 3, 4, 5, 6, 0, 1, 2, 3, 4, 5, 6, 0, 1, 2, 3,\n",
       "       4, 5, 6, 0, 1, 2, 3, 4, 5, 6, 0, 1, 2, 3, 4, 5, 6, 0, 1, 2, 3, 4, 5,\n",
       "       6, 0, 1, 2, 3, 4, 5, 6, 0, 1, 2, 3, 4, 5, 6, 0, 1, 2, 3, 4, 5, 6, 0,\n",
       "       1, 2, 3, 4, 5, 6, 0, 1, 2, 3, 4, 5, 6, 0, 1, 2, 3, 4, 5, 6, 0, 1, 2,\n",
       "       3, 4, 5, 6, 0, 1, 2, 3, 4, 5, 6, 0, 1, 2, 3, 4, 5, 6, 0, 1, 2, 3, 4,\n",
       "       5, 6, 0, 1, 2, 3, 4, 5, 6, 0, 1, 2, 3, 4, 5, 6, 0, 1, 2, 3, 4, 5, 6,\n",
       "       0, 1, 2, 3, 4, 5, 6, 0, 1, 2, 3, 4, 5, 6, 0, 1, 2, 3, 4, 5, 6, 0, 1,\n",
       "       2, 3, 4, 5, 6, 0, 1, 2, 3, 4, 5, 6, 0, 1, 2, 3, 4, 5, 6, 0, 1, 2, 3,\n",
       "       4, 5, 6, 0, 1, 2, 3, 4, 5, 6, 0], dtype=int32)"
      ]
     },
     "execution_count": 15,
     "metadata": {},
     "output_type": "execute_result"
    }
   ],
   "source": [
    "df.index.weekday"
   ]
  },
  {
   "cell_type": "markdown",
   "metadata": {},
   "source": [
    "Man kann diese Zuordnung jetzt als neue Spalte hinzufügen:"
   ]
  },
  {
   "cell_type": "code",
   "execution_count": 16,
   "metadata": {
    "collapsed": true
   },
   "outputs": [],
   "source": [
    "df[\"weekday\"] = df.index.weekday"
   ]
  },
  {
   "cell_type": "code",
   "execution_count": 17,
   "metadata": {
    "collapsed": false
   },
   "outputs": [
    {
     "data": {
      "text/html": [
       "<div>\n",
       "<table border=\"1\" class=\"dataframe\">\n",
       "  <thead>\n",
       "    <tr style=\"text-align: right;\">\n",
       "      <th></th>\n",
       "      <th>Berri 1</th>\n",
       "      <th>Côte-Sainte-Catherine</th>\n",
       "      <th>Maisonneuve 1</th>\n",
       "      <th>Maisonneuve 2</th>\n",
       "      <th>du Parc</th>\n",
       "      <th>Pierre-Dupuy</th>\n",
       "      <th>Rachel1</th>\n",
       "      <th>weekday</th>\n",
       "    </tr>\n",
       "    <tr>\n",
       "      <th>Date</th>\n",
       "      <th></th>\n",
       "      <th></th>\n",
       "      <th></th>\n",
       "      <th></th>\n",
       "      <th></th>\n",
       "      <th></th>\n",
       "      <th></th>\n",
       "      <th></th>\n",
       "    </tr>\n",
       "  </thead>\n",
       "  <tbody>\n",
       "    <tr>\n",
       "      <th>2012-01-01</th>\n",
       "      <td>35</td>\n",
       "      <td>0</td>\n",
       "      <td>38</td>\n",
       "      <td>51</td>\n",
       "      <td>26</td>\n",
       "      <td>10</td>\n",
       "      <td>16</td>\n",
       "      <td>6</td>\n",
       "    </tr>\n",
       "    <tr>\n",
       "      <th>2012-01-02</th>\n",
       "      <td>83</td>\n",
       "      <td>1</td>\n",
       "      <td>68</td>\n",
       "      <td>153</td>\n",
       "      <td>53</td>\n",
       "      <td>6</td>\n",
       "      <td>43</td>\n",
       "      <td>0</td>\n",
       "    </tr>\n",
       "    <tr>\n",
       "      <th>2012-01-03</th>\n",
       "      <td>135</td>\n",
       "      <td>2</td>\n",
       "      <td>104</td>\n",
       "      <td>248</td>\n",
       "      <td>89</td>\n",
       "      <td>3</td>\n",
       "      <td>58</td>\n",
       "      <td>1</td>\n",
       "    </tr>\n",
       "    <tr>\n",
       "      <th>2012-01-04</th>\n",
       "      <td>144</td>\n",
       "      <td>1</td>\n",
       "      <td>116</td>\n",
       "      <td>318</td>\n",
       "      <td>111</td>\n",
       "      <td>8</td>\n",
       "      <td>61</td>\n",
       "      <td>2</td>\n",
       "    </tr>\n",
       "    <tr>\n",
       "      <th>2012-01-05</th>\n",
       "      <td>197</td>\n",
       "      <td>2</td>\n",
       "      <td>124</td>\n",
       "      <td>330</td>\n",
       "      <td>97</td>\n",
       "      <td>13</td>\n",
       "      <td>95</td>\n",
       "      <td>3</td>\n",
       "    </tr>\n",
       "  </tbody>\n",
       "</table>\n",
       "</div>"
      ],
      "text/plain": [
       "            Berri 1  Côte-Sainte-Catherine  Maisonneuve 1  Maisonneuve 2  \\\n",
       "Date                                                                       \n",
       "2012-01-01       35                      0             38             51   \n",
       "2012-01-02       83                      1             68            153   \n",
       "2012-01-03      135                      2            104            248   \n",
       "2012-01-04      144                      1            116            318   \n",
       "2012-01-05      197                      2            124            330   \n",
       "\n",
       "            du Parc  Pierre-Dupuy  Rachel1  weekday  \n",
       "Date                                                 \n",
       "2012-01-01       26            10       16        6  \n",
       "2012-01-02       53             6       43        0  \n",
       "2012-01-03       89             3       58        1  \n",
       "2012-01-04      111             8       61        2  \n",
       "2012-01-05       97            13       95        3  "
      ]
     },
     "execution_count": 17,
     "metadata": {},
     "output_type": "execute_result"
    }
   ],
   "source": [
    "df.head()"
   ]
  },
  {
   "cell_type": "markdown",
   "metadata": {},
   "source": [
    "Data Frames kann man nun nach bestimmten Variablen gruppieren. In unserem Beispiel können wir also nach der Spalte `weekday` gruppieren und danach die Summe an Radfahrern pro Wochentag berechnen."
   ]
  },
  {
   "cell_type": "code",
   "execution_count": 18,
   "metadata": {
    "collapsed": false
   },
   "outputs": [
    {
     "data": {
      "text/html": [
       "<div>\n",
       "<table border=\"1\" class=\"dataframe\">\n",
       "  <thead>\n",
       "    <tr style=\"text-align: right;\">\n",
       "      <th></th>\n",
       "      <th>Berri 1</th>\n",
       "      <th>Côte-Sainte-Catherine</th>\n",
       "      <th>Maisonneuve 1</th>\n",
       "      <th>Maisonneuve 2</th>\n",
       "      <th>du Parc</th>\n",
       "      <th>Pierre-Dupuy</th>\n",
       "      <th>Rachel1</th>\n",
       "    </tr>\n",
       "    <tr>\n",
       "      <th>weekday</th>\n",
       "      <th></th>\n",
       "      <th></th>\n",
       "      <th></th>\n",
       "      <th></th>\n",
       "      <th></th>\n",
       "      <th></th>\n",
       "      <th></th>\n",
       "    </tr>\n",
       "  </thead>\n",
       "  <tbody>\n",
       "    <tr>\n",
       "      <th>0</th>\n",
       "      <td>134298</td>\n",
       "      <td>60329</td>\n",
       "      <td>90051</td>\n",
       "      <td>163767</td>\n",
       "      <td>90184</td>\n",
       "      <td>46204</td>\n",
       "      <td>130130</td>\n",
       "    </tr>\n",
       "    <tr>\n",
       "      <th>1</th>\n",
       "      <td>135305</td>\n",
       "      <td>58708</td>\n",
       "      <td>92035</td>\n",
       "      <td>165880</td>\n",
       "      <td>91399</td>\n",
       "      <td>35167</td>\n",
       "      <td>120088</td>\n",
       "    </tr>\n",
       "    <tr>\n",
       "      <th>2</th>\n",
       "      <td>152972</td>\n",
       "      <td>67344</td>\n",
       "      <td>104891</td>\n",
       "      <td>186061</td>\n",
       "      <td>102103</td>\n",
       "      <td>43263</td>\n",
       "      <td>133088</td>\n",
       "    </tr>\n",
       "    <tr>\n",
       "      <th>3</th>\n",
       "      <td>160131</td>\n",
       "      <td>69028</td>\n",
       "      <td>111895</td>\n",
       "      <td>196715</td>\n",
       "      <td>105674</td>\n",
       "      <td>45385</td>\n",
       "      <td>140241</td>\n",
       "    </tr>\n",
       "    <tr>\n",
       "      <th>4</th>\n",
       "      <td>141771</td>\n",
       "      <td>56446</td>\n",
       "      <td>98568</td>\n",
       "      <td>172390</td>\n",
       "      <td>89872</td>\n",
       "      <td>42470</td>\n",
       "      <td>137255</td>\n",
       "    </tr>\n",
       "    <tr>\n",
       "      <th>5</th>\n",
       "      <td>101578</td>\n",
       "      <td>34018</td>\n",
       "      <td>62067</td>\n",
       "      <td>105060</td>\n",
       "      <td>48289</td>\n",
       "      <td>52861</td>\n",
       "      <td>112828</td>\n",
       "    </tr>\n",
       "    <tr>\n",
       "      <th>6</th>\n",
       "      <td>99310</td>\n",
       "      <td>36466</td>\n",
       "      <td>55324</td>\n",
       "      <td>98308</td>\n",
       "      <td>50004</td>\n",
       "      <td>61485</td>\n",
       "      <td>117150</td>\n",
       "    </tr>\n",
       "  </tbody>\n",
       "</table>\n",
       "</div>"
      ],
      "text/plain": [
       "         Berri 1  Côte-Sainte-Catherine  Maisonneuve 1  Maisonneuve 2  \\\n",
       "weekday                                                                 \n",
       "0         134298                  60329          90051         163767   \n",
       "1         135305                  58708          92035         165880   \n",
       "2         152972                  67344         104891         186061   \n",
       "3         160131                  69028         111895         196715   \n",
       "4         141771                  56446          98568         172390   \n",
       "5         101578                  34018          62067         105060   \n",
       "6          99310                  36466          55324          98308   \n",
       "\n",
       "         du Parc  Pierre-Dupuy  Rachel1  \n",
       "weekday                                  \n",
       "0          90184         46204   130130  \n",
       "1          91399         35167   120088  \n",
       "2         102103         43263   133088  \n",
       "3         105674         45385   140241  \n",
       "4          89872         42470   137255  \n",
       "5          48289         52861   112828  \n",
       "6          50004         61485   117150  "
      ]
     },
     "execution_count": 18,
     "metadata": {},
     "output_type": "execute_result"
    }
   ],
   "source": [
    "weekday_counts = df.groupby(\"weekday\").aggregate(sum)\n",
    "weekday_counts"
   ]
  },
  {
   "cell_type": "markdown",
   "metadata": {},
   "source": [
    "Hier entsprechen die Zahlen von 0 bis 6 den Wochentagen von Montag bis Sonntag. Es sieht also so aus, als ob am Wochenende weniger Radfahrer unterwegs sind. Dies können wir auch grafisch darstellen:"
   ]
  },
  {
   "cell_type": "code",
   "execution_count": 19,
   "metadata": {
    "collapsed": true
   },
   "outputs": [],
   "source": [
    "weekday_counts.index = [\"Monday\", \"Tuesday\", \"Wednesday\", \"Thursday\", \"Friday\", \"Saturday\", \"Sunday\"]"
   ]
  },
  {
   "cell_type": "code",
   "execution_count": 20,
   "metadata": {
    "collapsed": false
   },
   "outputs": [
    {
     "data": {
      "text/plain": [
       "<matplotlib.axes._subplots.AxesSubplot at 0x10f38aa20>"
      ]
     },
     "execution_count": 20,
     "metadata": {},
     "output_type": "execute_result"
    },
    {
     "data": {
      "image/png": "[encoded data removed]",
      "text/plain": [
       "<matplotlib.figure.Figure at 0x10f3716a0>"
      ]
     },
     "metadata": {},
     "output_type": "display_data"
    }
   ],
   "source": [
    "weekday_counts[\"Berri 1\"].plot(kind=\"bar\", title=\"Berri 1\")"
   ]
  },
  {
   "cell_type": "markdown",
   "metadata": {},
   "source": [
    "Diesen Trend sieht man auch, wenn man alle Radstrecken gleichzeitig darstellt:"
   ]
  },
  {
   "cell_type": "code",
   "execution_count": 21,
   "metadata": {
    "collapsed": false
   },
   "outputs": [
    {
     "data": {
      "text/plain": [
       "<matplotlib.legend.Legend at 0x10f523630>"
      ]
     },
     "execution_count": 21,
     "metadata": {},
     "output_type": "execute_result"
    },
    {
     "data": {
      "image/png": "[encoded data removed]",
      "text/plain": [
       "<matplotlib.figure.Figure at 0x10f523e10>"
      ]
     },
     "metadata": {},
     "output_type": "display_data"
    }
   ],
   "source": [
    "weekday_counts.plot(kind=\"bar\",\n",
    "                    stacked=True,\n",
    "                    title=\"All routes\").legend(loc=\"upper right\",\n",
    "                                               bbox_to_anchor=(1.5, 1),\n",
    "                                               frameon=False)"
   ]
  }
 ],
 "metadata": {
  "anaconda-cloud": {},
  "kernelspec": {
   "display_name": "Python [default]",
   "language": "python",
   "name": "python3"
  },
  "language_info": {
   "codemirror_mode": {
    "name": "ipython",
    "version": 3
   },
   "file_extension": ".py",
   "mimetype": "text/x-python",
   "name": "python",
   "nbconvert_exporter": "python",
   "pygments_lexer": "ipython3",
   "version": "3.5.2"
  }
 },
 "nbformat": 4,
 "nbformat_minor": 0
}
